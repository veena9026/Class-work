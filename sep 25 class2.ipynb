{
 "cells": [
  {
   "cell_type": "code",
   "execution_count": 1,
   "id": "cb6b6549-5f3a-4ab0-8aa5-2b84ac418c59",
   "metadata": {},
   "outputs": [
    {
     "data": {
      "text/plain": [
       "'ashok1234'"
      ]
     },
     "execution_count": 1,
     "metadata": {},
     "output_type": "execute_result"
    }
   ],
   "source": [
    "'ashok'+str(1234)"
   ]
  },
  {
   "cell_type": "code",
   "execution_count": 2,
   "id": "1b2c6710-89a0-4f14-8841-ac8bd58f594f",
   "metadata": {},
   "outputs": [
    {
     "data": {
      "text/plain": [
       "'ashok4456'"
      ]
     },
     "execution_count": 2,
     "metadata": {},
     "output_type": "execute_result"
    }
   ],
   "source": [
    "'ashok'+'4456'"
   ]
  },
  {
   "cell_type": "markdown",
   "id": "91aee5d8-5ad6-481f-8def-6aa0f648cd9f",
   "metadata": {},
   "source": [
    "## variable case sensitivity"
   ]
  },
  {
   "cell_type": "code",
   "execution_count": 3,
   "id": "7be0c16a-f8a8-4cba-94d8-bd5e273967df",
   "metadata": {},
   "outputs": [],
   "source": [
    "ten  =10\n",
    "Ten =20"
   ]
  },
  {
   "cell_type": "code",
   "execution_count": 4,
   "id": "ed3c04c9-b3a4-45cb-a145-25b2d4e1bd4c",
   "metadata": {},
   "outputs": [
    {
     "name": "stdout",
     "output_type": "stream",
     "text": [
      "20\n"
     ]
    }
   ],
   "source": [
    "print(Ten)"
   ]
  },
  {
   "cell_type": "code",
   "execution_count": 5,
   "id": "e25ca8c6-f2c1-420a-a78d-aa82399f0d1c",
   "metadata": {},
   "outputs": [
    {
     "name": "stdout",
     "output_type": "stream",
     "text": [
      "10\n"
     ]
    }
   ],
   "source": [
    "print (ten)"
   ]
  },
  {
   "cell_type": "markdown",
   "id": "787b12fb-173b-429f-b09a-ff6a01ca12ab",
   "metadata": {},
   "source": [
    "## reserved words in python"
   ]
  },
  {
   "cell_type": "code",
   "execution_count": 7,
   "id": "ae71af6d-db38-4ab0-9ad8-08c5f178475e",
   "metadata": {},
   "outputs": [
    {
     "name": "stdout",
     "output_type": "stream",
     "text": [
      "hi there\n"
     ]
    }
   ],
   "source": [
    "print('hi there')"
   ]
  },
  {
   "cell_type": "code",
   "execution_count": 8,
   "id": "013ba43c-3744-4ecf-970a-850bc79cb5d4",
   "metadata": {},
   "outputs": [],
   "source": [
    "print ='hi there'"
   ]
  },
  {
   "cell_type": "code",
   "execution_count": 10,
   "id": "2d953948-056e-4362-9529-6b6f65a2b454",
   "metadata": {},
   "outputs": [],
   "source": [
    "del print"
   ]
  },
  {
   "cell_type": "code",
   "execution_count": 11,
   "id": "8439cc19-cb43-4bd6-9d01-f847912521f0",
   "metadata": {},
   "outputs": [
    {
     "name": "stdout",
     "output_type": "stream",
     "text": [
      "hi there\n"
     ]
    }
   ],
   "source": [
    "print('hi there')"
   ]
  },
  {
   "cell_type": "markdown",
   "id": "bb2ef24f-8ca1-43a9-a6b7-402d8a6d7063",
   "metadata": {},
   "source": [
    "# multi assignment of variables\n"
   ]
  },
  {
   "cell_type": "code",
   "execution_count": 14,
   "id": "03d67c3b-bc90-4c2a-a735-5d2ba93cadd1",
   "metadata": {},
   "outputs": [],
   "source": [
    " a,b,c,d,e=93,98.8,89+3j,'veena',True"
   ]
  },
  {
   "cell_type": "code",
   "execution_count": 15,
   "id": "ffdef16e-b042-479c-a4a1-050096670bf1",
   "metadata": {},
   "outputs": [
    {
     "data": {
      "text/plain": [
       "(int, float)"
      ]
     },
     "execution_count": 15,
     "metadata": {},
     "output_type": "execute_result"
    }
   ],
   "source": [
    "type(a),type(b)"
   ]
  },
  {
   "cell_type": "code",
   "execution_count": 18,
   "id": "da28adf7-2109-486e-b5a9-7ea8774bfaa0",
   "metadata": {},
   "outputs": [
    {
     "ename": "TypeError",
     "evalue": "type.__new__() argument 1 must be str, not int",
     "output_type": "error",
     "traceback": [
      "\u001b[0;31m---------------------------------------------------------------------------\u001b[0m",
      "\u001b[0;31mTypeError\u001b[0m                                 Traceback (most recent call last)",
      "Input \u001b[0;32mIn [18]\u001b[0m, in \u001b[0;36m<cell line: 1>\u001b[0;34m()\u001b[0m\n\u001b[0;32m----> 1\u001b[0m \u001b[38;5;28;43mtype\u001b[39;49m\u001b[43m(\u001b[49m\u001b[43ma\u001b[49m\u001b[43m,\u001b[49m\u001b[43mb\u001b[49m\u001b[43m,\u001b[49m\u001b[43md\u001b[49m\u001b[43m)\u001b[49m\n",
      "\u001b[0;31mTypeError\u001b[0m: type.__new__() argument 1 must be str, not int"
     ]
    }
   ],
   "source": [
    "type(a,b,d)"
   ]
  },
  {
   "cell_type": "code",
   "execution_count": 19,
   "id": "04e3b559-3134-41e6-89a2-bf0aa8d55961",
   "metadata": {},
   "outputs": [
    {
     "name": "stdout",
     "output_type": "stream",
     "text": [
      "<class 'int'>\n",
      "<class 'float'>\n",
      "<class 'complex'>\n",
      "<class 'str'>\n",
      "<class 'bool'>\n"
     ]
    }
   ],
   "source": [
    "print(type(a))\n",
    "print(type(b))\n",
    "print (type(c))\n",
    "print(type(d))\n",
    "print(type(e))"
   ]
  },
  {
   "cell_type": "code",
   "execution_count": 20,
   "id": "86cf4f2e-84e3-4e0d-9a7f-56e942c400a2",
   "metadata": {},
   "outputs": [
    {
     "name": "stdout",
     "output_type": "stream",
     "text": [
      "93 98.8 (89+3j) veena True\n"
     ]
    }
   ],
   "source": [
    "print(a,b,c,d,e)"
   ]
  },
  {
   "cell_type": "code",
   "execution_count": 21,
   "id": "df1fb5be-5676-45cc-a313-9450a91cced6",
   "metadata": {},
   "outputs": [],
   "source": [
    "x=y=z=20"
   ]
  },
  {
   "cell_type": "code",
   "execution_count": 22,
   "id": "987177cc-71e6-4703-9d90-9fbf9225d82a",
   "metadata": {},
   "outputs": [
    {
     "data": {
      "text/plain": [
       "(20, 20, 20)"
      ]
     },
     "execution_count": 22,
     "metadata": {},
     "output_type": "execute_result"
    }
   ],
   "source": [
    "x,y,z"
   ]
  },
  {
   "cell_type": "code",
   "execution_count": 50,
   "id": "43fca4b0-8e24-405a-8ad2-697c2b196f31",
   "metadata": {},
   "outputs": [],
   "source": [
    "surname ,firstname,lastname =\"chinta\",'veena','kumari'"
   ]
  },
  {
   "cell_type": "code",
   "execution_count": 51,
   "id": "24271ac0-229f-4a31-a001-963a1368ec27",
   "metadata": {},
   "outputs": [
    {
     "name": "stdout",
     "output_type": "stream",
     "text": [
      "chinta.kumari@gmail.com\n"
     ]
    }
   ],
   "source": [
    "print(f\"{surname}.{lastname}@gmail.com\")"
   ]
  },
  {
   "cell_type": "code",
   "execution_count": 60,
   "id": "158f60c0-0a3f-4c77-968b-2208f4c1fd80",
   "metadata": {},
   "outputs": [],
   "source": [
    "name,place,birth,weight =\"veena\",\"somandepali\",29.1998,71.8"
   ]
  },
  {
   "cell_type": "code",
   "execution_count": 63,
   "id": "b770a757-62ad-4d8c-8b15-0a3520cbe25b",
   "metadata": {},
   "outputs": [
    {
     "name": "stdout",
     "output_type": "stream",
     "text": [
      "enter name veena,\n",
      "live at somandepali\n"
     ]
    }
   ],
   "source": [
    "print(f\"\"\"enter name {name},\n",
    "live at {place}\"\"\")"
   ]
  },
  {
   "cell_type": "markdown",
   "id": "4fd4f410-c2b5-4b15-a456-f93663533557",
   "metadata": {},
   "source": [
    "### user input##"
   ]
  },
  {
   "cell_type": "code",
   "execution_count": 30,
   "id": "f69e51ab-ecb6-4f4e-be60-d1610d6db001",
   "metadata": {},
   "outputs": [
    {
     "name": "stdin",
     "output_type": "stream",
     "text": [
      "enter your name parvathi\n"
     ]
    },
    {
     "name": "stdout",
     "output_type": "stream",
     "text": [
      "you have entered {enter your name}\n"
     ]
    }
   ],
   "source": [
    "q = input ('enter your name')\n",
    "print ('you have entered {enter your name}')"
   ]
  },
  {
   "cell_type": "code",
   "execution_count": 71,
   "id": "5ab3c0ef-39c7-4d3f-b475-4af72d589f11",
   "metadata": {},
   "outputs": [
    {
     "name": "stdin",
     "output_type": "stream",
     "text": [
      "enter value of a: 89.8\n",
      "enter value of b: 78\n"
     ]
    },
    {
     "name": "stdout",
     "output_type": "stream",
     "text": [
      "167.8\n"
     ]
    }
   ],
   "source": [
    "a=float(input('enter value of a:'))\n",
    "b=int (input('enter value of b:'))\n",
    "\n",
    "print(a+b)"
   ]
  },
  {
   "cell_type": "code",
   "execution_count": 72,
   "id": "adc986ee-f84f-4895-aee5-ebeac0eda3bd",
   "metadata": {},
   "outputs": [
    {
     "name": "stdin",
     "output_type": "stream",
     "text": [
      "enter value of a: 89\n",
      "enter value of b: 45\n"
     ]
    },
    {
     "name": "stdout",
     "output_type": "stream",
     "text": [
      "sum of value 89.45\n"
     ]
    }
   ],
   "source": [
    "a=int(input('enter value of a:'))\n",
    "b=int(input('enter value of b:'))\n",
    "\n",
    "print(f\"sum of value {a}.{b}\")"
   ]
  },
  {
   "cell_type": "markdown",
   "id": "a4bbbee9-ad41-40d9-8bb8-59bf9ace18db",
   "metadata": {},
   "source": [
    "## type casting /type conversion ##"
   ]
  },
  {
   "cell_type": "code",
   "execution_count": 34,
   "id": "ea62b590-f0e1-4c84-9583-fa1ec02315cb",
   "metadata": {},
   "outputs": [
    {
     "name": "stdout",
     "output_type": "stream",
     "text": [
      "data type before: <class 'str'>\n",
      "data type after:<class 'int'>\n"
     ]
    }
   ],
   "source": [
    "a=\"59\"\n",
    "print (f\"data type before: {type(a)}\")\n",
    "a= int (a)\n",
    "print(f\"data type after:{type(a)}\")"
   ]
  },
  {
   "cell_type": "code",
   "execution_count": 38,
   "id": "7a8ae01c-6330-47be-9fe4-aa93884c20b8",
   "metadata": {},
   "outputs": [
    {
     "name": "stdout",
     "output_type": "stream",
     "text": [
      "data type before: <class 'str'>\n"
     ]
    },
    {
     "ename": "ValueError",
     "evalue": "invalid literal for int() with base 10: '59.78'",
     "output_type": "error",
     "traceback": [
      "\u001b[0;31m---------------------------------------------------------------------------\u001b[0m",
      "\u001b[0;31mValueError\u001b[0m                                Traceback (most recent call last)",
      "Input \u001b[0;32mIn [38]\u001b[0m, in \u001b[0;36m<cell line: 3>\u001b[0;34m()\u001b[0m\n\u001b[1;32m      1\u001b[0m a\u001b[38;5;241m=\u001b[39m\u001b[38;5;124m\"\u001b[39m\u001b[38;5;124m59.78\u001b[39m\u001b[38;5;124m\"\u001b[39m\n\u001b[1;32m      2\u001b[0m \u001b[38;5;28mprint\u001b[39m (\u001b[38;5;124mf\u001b[39m\u001b[38;5;124m\"\u001b[39m\u001b[38;5;124mdata type before: \u001b[39m\u001b[38;5;132;01m{\u001b[39;00m\u001b[38;5;28mtype\u001b[39m(a)\u001b[38;5;132;01m}\u001b[39;00m\u001b[38;5;124m\"\u001b[39m)\n\u001b[0;32m----> 3\u001b[0m a\u001b[38;5;241m=\u001b[39m \u001b[38;5;28;43mint\u001b[39;49m\u001b[43m \u001b[49m\u001b[43m(\u001b[49m\u001b[43ma\u001b[49m\u001b[43m)\u001b[49m\n\u001b[1;32m      4\u001b[0m \u001b[38;5;28mprint\u001b[39m(\u001b[38;5;124mf\u001b[39m\u001b[38;5;124m\"\u001b[39m\u001b[38;5;124mdata type after:\u001b[39m\u001b[38;5;132;01m{\u001b[39;00m\u001b[38;5;28mtype\u001b[39m(a)\u001b[38;5;132;01m}\u001b[39;00m\u001b[38;5;124m\"\u001b[39m)\n",
      "\u001b[0;31mValueError\u001b[0m: invalid literal for int() with base 10: '59.78'"
     ]
    }
   ],
   "source": [
    "a=\"59.78\"\n",
    "print (f\"data type before: {type(a)}\")\n",
    "a= int (a)\n",
    "print(f\"data type after:{type(a)}\")\n"
   ]
  },
  {
   "cell_type": "code",
   "execution_count": 41,
   "id": "7cc2f1a2-ea7f-4c93-b84f-0282ebfb65c0",
   "metadata": {},
   "outputs": [
    {
     "name": "stdout",
     "output_type": "stream",
     "text": [
      "data type before: <class 'float'>,value of a:89.67\n",
      "data type after:<class 'int'>,value of a:89\n"
     ]
    }
   ],
   "source": [
    "a=89.67\n",
    "print (f\"data type before: {type(a)},value of a:{a}\")\n",
    "a= int (a)\n",
    "print(f\"data type after:{type(a)},value of a:{a}\")"
   ]
  },
  {
   "cell_type": "code",
   "execution_count": 42,
   "id": "0589a761-acb5-426f-a244-a877420a308d",
   "metadata": {},
   "outputs": [
    {
     "name": "stdout",
     "output_type": "stream",
     "text": [
      "data type before: <class 'float'>,value of a:89.78\n",
      "data type after:<class 'int'>,value of a :89\n"
     ]
    }
   ],
   "source": [
    "a=89.78\n",
    "print (f\"data type before: {type(a)},value of a:{a}\")\n",
    "a= int (a)\n",
    "print(f\"data type after:{type(a)},value of a :{a}\")"
   ]
  },
  {
   "cell_type": "code",
   "execution_count": 43,
   "id": "68713887-6d61-43c5-9d12-7ad8fd03bc1d",
   "metadata": {},
   "outputs": [
    {
     "name": "stdout",
     "output_type": "stream",
     "text": [
      "data type before: <class 'int'>,value of a:0\n",
      "data type after:<class 'bool'>,value of a :False\n"
     ]
    }
   ],
   "source": [
    "a=0\n",
    "print (f\"data type before: {type(a)},value of a:{a}\")\n",
    "a= bool (a)\n",
    "print(f\"data type after:{type(a)},value of a :{a}\")"
   ]
  },
  {
   "cell_type": "code",
   "execution_count": 44,
   "id": "d8805a1b-792c-46e5-a53f-cb9a678bef41",
   "metadata": {},
   "outputs": [
    {
     "name": "stdout",
     "output_type": "stream",
     "text": [
      "data type before: <class 'int'>,value of a:-5\n",
      "data type after:<class 'bool'>,value of a :True\n"
     ]
    }
   ],
   "source": [
    "a=-5\n",
    "print (f\"data type before: {type(a)},value of a:{a}\")\n",
    "a= bool (a)\n",
    "print(f\"data type after:{type(a)},value of a :{a}\")"
   ]
  },
  {
   "cell_type": "code",
   "execution_count": 45,
   "id": "7ada68f4-7234-4a55-97b6-0f8c82336f1c",
   "metadata": {},
   "outputs": [
    {
     "name": "stdout",
     "output_type": "stream",
     "text": [
      "data type before: <class 'str'>,value of a:veena\n",
      "data type after:<class 'bool'>,value of a :True\n"
     ]
    }
   ],
   "source": [
    "a=\"veena\"\n",
    "print (f\"data type before: {type(a)},value of a:{a}\")\n",
    "a= bool (a)\n",
    "print(f\"data type after:{type(a)},value of a :{a}\")"
   ]
  },
  {
   "cell_type": "code",
   "execution_count": 46,
   "id": "b9f13d08-0457-4e31-9448-c973cd38dc95",
   "metadata": {},
   "outputs": [
    {
     "name": "stdout",
     "output_type": "stream",
     "text": [
      "data type before: <class 'str'>,value of a:True\n",
      "data type after:<class 'bool'>,value of a :True\n"
     ]
    }
   ],
   "source": [
    "a=\"True\"\n",
    "print (f\"data type before: {type(a)},value of a:{a}\")\n",
    "a= bool (a)\n",
    "print(f\"data type after:{type(a)},value of a :{a}\")"
   ]
  },
  {
   "cell_type": "code",
   "execution_count": 47,
   "id": "0926033e-0e56-4fca-aefa-65e868872b6e",
   "metadata": {},
   "outputs": [
    {
     "name": "stdout",
     "output_type": "stream",
     "text": [
      "data type before: <class 'str'>,value of a:false\n",
      "data type after:<class 'bool'>,value of a :True\n"
     ]
    }
   ],
   "source": [
    "a=\"false\"\n",
    "print (f\"data type before: {type(a)},value of a:{a}\")\n",
    "a= bool(a)\n",
    "print(f\"data type after:{type(a)},value of a :{a}\")"
   ]
  },
  {
   "cell_type": "code",
   "execution_count": 48,
   "id": "7a3eb10b-3fae-495c-ad4a-95c2d3d6beed",
   "metadata": {},
   "outputs": [
    {
     "name": "stdout",
     "output_type": "stream",
     "text": [
      "data type before: <class 'str'>,value of a:\n",
      "data type after:<class 'bool'>,value of a :False\n"
     ]
    }
   ],
   "source": [
    "a=\"\"\n",
    "print (f\"data type before: {type(a)},value of a:{a}\")\n",
    "a= bool(a)\n",
    "print(f\"data type after:{type(a)},value of a :{a}\")"
   ]
  },
  {
   "cell_type": "code",
   "execution_count": 49,
   "id": "6a170fc0-eca8-4bf1-aaa5-74a05f9b44ea",
   "metadata": {},
   "outputs": [
    {
     "name": "stdout",
     "output_type": "stream",
     "text": [
      "data type before: <class 'str'>,value of a:\n"
     ]
    },
    {
     "ename": "ValueError",
     "evalue": "invalid literal for int() with base 10: ''",
     "output_type": "error",
     "traceback": [
      "\u001b[0;31m---------------------------------------------------------------------------\u001b[0m",
      "\u001b[0;31mValueError\u001b[0m                                Traceback (most recent call last)",
      "Input \u001b[0;32mIn [49]\u001b[0m, in \u001b[0;36m<cell line: 3>\u001b[0;34m()\u001b[0m\n\u001b[1;32m      1\u001b[0m a\u001b[38;5;241m=\u001b[39m\u001b[38;5;124m\"\u001b[39m\u001b[38;5;124m\"\u001b[39m\n\u001b[1;32m      2\u001b[0m \u001b[38;5;28mprint\u001b[39m (\u001b[38;5;124mf\u001b[39m\u001b[38;5;124m\"\u001b[39m\u001b[38;5;124mdata type before: \u001b[39m\u001b[38;5;132;01m{\u001b[39;00m\u001b[38;5;28mtype\u001b[39m(a)\u001b[38;5;132;01m}\u001b[39;00m\u001b[38;5;124m,value of a:\u001b[39m\u001b[38;5;132;01m{\u001b[39;00ma\u001b[38;5;132;01m}\u001b[39;00m\u001b[38;5;124m\"\u001b[39m)\n\u001b[0;32m----> 3\u001b[0m a\u001b[38;5;241m=\u001b[39m \u001b[38;5;28;43mint\u001b[39;49m\u001b[43m \u001b[49m\u001b[43m(\u001b[49m\u001b[43ma\u001b[49m\u001b[43m)\u001b[49m\n\u001b[1;32m      4\u001b[0m \u001b[38;5;28mprint\u001b[39m(\u001b[38;5;124mf\u001b[39m\u001b[38;5;124m\"\u001b[39m\u001b[38;5;124mdata type after:\u001b[39m\u001b[38;5;132;01m{\u001b[39;00m\u001b[38;5;28mtype\u001b[39m(a)\u001b[38;5;132;01m}\u001b[39;00m\u001b[38;5;124m,value of a :\u001b[39m\u001b[38;5;132;01m{\u001b[39;00ma\u001b[38;5;132;01m}\u001b[39;00m\u001b[38;5;124m\"\u001b[39m)\n",
      "\u001b[0;31mValueError\u001b[0m: invalid literal for int() with base 10: ''"
     ]
    }
   ],
   "source": [
    "a=\"\"\n",
    "print (f\"data type before: {type(a)},value of a:{a}\")\n",
    "a= int (a)\n",
    "print(f\"data type after:{type(a)},value of a :{a}\")"
   ]
  },
  {
   "cell_type": "markdown",
   "id": "68a5a4f6-b84b-45d0-ac10-22971f4aa4a0",
   "metadata": {},
   "source": [
    "## memory block ##\n",
    "\n",
    "\n",
    "id means memory adress"
   ]
  },
  {
   "cell_type": "code",
   "execution_count": 73,
   "id": "5c79ddce-a384-40a1-9346-567b3f31c421",
   "metadata": {},
   "outputs": [],
   "source": [
    "a=22\n",
    "b=34\n",
    "c=22"
   ]
  },
  {
   "cell_type": "code",
   "execution_count": 83,
   "id": "902e1048-79ca-42d3-bb10-15e8926eaba6",
   "metadata": {},
   "outputs": [
    {
     "data": {
      "text/plain": [
       "140035944578736"
      ]
     },
     "execution_count": 83,
     "metadata": {},
     "output_type": "execute_result"
    }
   ],
   "source": [
    "id(a) # mempry is assigned to the value of variable passed not the variable name"
   ]
  },
  {
   "cell_type": "code",
   "execution_count": 75,
   "id": "1ffb9d39-8be9-417b-be93-b8db0de6d272",
   "metadata": {},
   "outputs": [
    {
     "data": {
      "text/plain": [
       "140035944578384"
      ]
     },
     "execution_count": 75,
     "metadata": {},
     "output_type": "execute_result"
    }
   ],
   "source": [
    "id(b)"
   ]
  },
  {
   "cell_type": "code",
   "execution_count": 76,
   "id": "137e15aa-011c-42fd-b93f-c4036abbe133",
   "metadata": {},
   "outputs": [
    {
     "data": {
      "text/plain": [
       "140035944578000"
      ]
     },
     "execution_count": 76,
     "metadata": {},
     "output_type": "execute_result"
    }
   ],
   "source": [
    "id(c)"
   ]
  },
  {
   "cell_type": "code",
   "execution_count": 77,
   "id": "aa2617d6-2dc8-4274-8ce8-d4b1d26d7c5b",
   "metadata": {},
   "outputs": [],
   "source": [
    "d=45\n",
    "f=78\n",
    "h=92"
   ]
  },
  {
   "cell_type": "code",
   "execution_count": 78,
   "id": "9fcea52f-95c9-4049-aa16-f480737892e6",
   "metadata": {},
   "outputs": [
    {
     "data": {
      "text/plain": [
       "140035944578736"
      ]
     },
     "execution_count": 78,
     "metadata": {},
     "output_type": "execute_result"
    }
   ],
   "source": [
    "id (d)"
   ]
  },
  {
   "cell_type": "code",
   "execution_count": 79,
   "id": "1afef1c0-a965-46e4-8ccd-788dd92e3072",
   "metadata": {},
   "outputs": [
    {
     "data": {
      "text/plain": [
       "140035944768272"
      ]
     },
     "execution_count": 79,
     "metadata": {},
     "output_type": "execute_result"
    }
   ],
   "source": [
    "id(f)"
   ]
  },
  {
   "cell_type": "code",
   "execution_count": 80,
   "id": "271b9b1e-d90d-4cd4-8cb0-2dc40b58a223",
   "metadata": {},
   "outputs": [
    {
     "data": {
      "text/plain": [
       "140035944768720"
      ]
     },
     "execution_count": 80,
     "metadata": {},
     "output_type": "execute_result"
    }
   ],
   "source": [
    "id(h)"
   ]
  },
  {
   "cell_type": "code",
   "execution_count": 81,
   "id": "63af4433-074a-4255-8499-b643614c2376",
   "metadata": {},
   "outputs": [
    {
     "data": {
      "text/plain": [
       "140035944578736"
      ]
     },
     "execution_count": 81,
     "metadata": {},
     "output_type": "execute_result"
    }
   ],
   "source": [
    "a=45\n",
    "id(a)"
   ]
  },
  {
   "cell_type": "code",
   "execution_count": 82,
   "id": "e610a982-d959-46c1-ab19-b11543ca87b0",
   "metadata": {},
   "outputs": [
    {
     "data": {
      "text/plain": [
       "140035944578384"
      ]
     },
     "execution_count": 82,
     "metadata": {},
     "output_type": "execute_result"
    }
   ],
   "source": [
    "d=34\n",
    "id(d)"
   ]
  },
  {
   "cell_type": "code",
   "execution_count": 86,
   "id": "f4a1ab7a-3c7a-43c6-857c-856f5d1e586a",
   "metadata": {},
   "outputs": [
    {
     "name": "stdout",
     "output_type": "stream",
     "text": [
      "140035944578736 140035433324144 140035944577328\n"
     ]
    }
   ],
   "source": [
    "a=45\n",
    "b=45.6\n",
    "c=1\n",
    "\n",
    "print(id(a),id(b),id(c))"
   ]
  },
  {
   "cell_type": "raw",
   "id": "beda2c0f-c87d-4d85-8631-bc9e6f4b0450",
   "metadata": {},
   "source": [
    "## send to mail to \n",
    "To query@ineuron.ai\n",
    "cc suuny@ineuron.ai\n",
    "subjet:[Bootcamp 2.0 | Assignment no:1]:\n",
    "\n",
    "1. find out all the types of errors that we encountered in our lecture and why ? also includes examples.\n",
    "2. take input A and B and print their sum,mul,div,square of the nos.\n",
    "3.how many reserve key words are there in python and why we should not use them as avariable.\n",
    "4.create email ids with the user inputs.in the following format\n",
    "lastname.fristname@gfmail.com\n",
    "5.try to print the following lines-\n",
    "- hi i'm sunny\n",
    "- my adress is22\\3\n",
    "- i earn 20$ daily.\n",
    "6. take user input(name,address,date of birth etc) to fill a form for your college and print their email ids.\n",
    "7.covert the following -\n",
    "-'22.4' into  integer\n",
    "\n",
    "-'22' into  comlex no.\n"
   ]
  },
  {
   "cell_type": "code",
   "execution_count": null,
   "id": "411e26dc-93ee-4cad-871f-2ff5279bb591",
   "metadata": {},
   "outputs": [],
   "source": []
  }
 ],
 "metadata": {
  "kernelspec": {
   "display_name": "Python 3 (ipykernel)",
   "language": "python",
   "name": "python3"
  },
  "language_info": {
   "codemirror_mode": {
    "name": "ipython",
    "version": 3
   },
   "file_extension": ".py",
   "mimetype": "text/x-python",
   "name": "python",
   "nbconvert_exporter": "python",
   "pygments_lexer": "ipython3",
   "version": "3.9.12"
  }
 },
 "nbformat": 4,
 "nbformat_minor": 5
}
