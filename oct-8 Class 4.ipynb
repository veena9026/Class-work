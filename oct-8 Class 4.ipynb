{
 "cells": [
  {
   "cell_type": "markdown",
   "id": "69fba3f1-21c0-4968-a4fa-6a86f1b00348",
   "metadata": {},
   "source": [
    "### arthimathic operators\n"
   ]
  },
  {
   "cell_type": "code",
   "execution_count": 1,
   "id": "3370aebd-d894-4dd6-936e-bbfa62753e99",
   "metadata": {},
   "outputs": [
    {
     "data": {
      "text/plain": [
       "57"
      ]
     },
     "execution_count": 1,
     "metadata": {},
     "output_type": "execute_result"
    }
   ],
   "source": [
    "a =34\n",
    "b=23\n",
    "\n",
    "a+b"
   ]
  },
  {
   "cell_type": "code",
   "execution_count": 2,
   "id": "68518ece-3437-4b63-b6df-c2b6830137c5",
   "metadata": {},
   "outputs": [
    {
     "data": {
      "text/plain": [
       "-11"
      ]
     },
     "execution_count": 2,
     "metadata": {},
     "output_type": "execute_result"
    }
   ],
   "source": [
    "q=34\n",
    "r=45\n",
    "\n",
    "q-r\n"
   ]
  },
  {
   "cell_type": "code",
   "execution_count": 3,
   "id": "5306a68c-1ea4-47dc-98b8-837a7b7bcea3",
   "metadata": {},
   "outputs": [
    {
     "data": {
      "text/plain": [
       "1.4782608695652173"
      ]
     },
     "execution_count": 3,
     "metadata": {},
     "output_type": "execute_result"
    }
   ],
   "source": [
    "a/b\n",
    "## true dividon and gives float values"
   ]
  },
  {
   "cell_type": "code",
   "execution_count": 4,
   "id": "9f35651f-a48c-499c-84eb-a41cd1be8de5",
   "metadata": {},
   "outputs": [
    {
     "data": {
      "text/plain": [
       "1"
      ]
     },
     "execution_count": 4,
     "metadata": {},
     "output_type": "execute_result"
    }
   ],
   "source": [
    "## integer division\n",
    "a//b\n",
    "### quioent gives"
   ]
  },
  {
   "cell_type": "code",
   "execution_count": 5,
   "id": "905c4958-9ed7-49cf-acbb-46a3b874d79b",
   "metadata": {},
   "outputs": [
    {
     "data": {
      "text/plain": [
       "11"
      ]
     },
     "execution_count": 5,
     "metadata": {},
     "output_type": "execute_result"
    }
   ],
   "source": [
    "a%b\n",
    "## gives remainder values\n",
    "## %---modulo"
   ]
  },
  {
   "cell_type": "code",
   "execution_count": 6,
   "id": "bfbc177e-a66e-48ab-b19a-b836cb8a710c",
   "metadata": {},
   "outputs": [
    {
     "data": {
      "text/plain": [
       "4"
      ]
     },
     "execution_count": 6,
     "metadata": {},
     "output_type": "execute_result"
    }
   ],
   "source": [
    "s=9\n",
    "t=2\n",
    "\n",
    "s//t"
   ]
  },
  {
   "cell_type": "code",
   "execution_count": 10,
   "id": "23f99d45-3f9a-43ef-b29f-3c5ccddab801",
   "metadata": {},
   "outputs": [
    {
     "name": "stdout",
     "output_type": "stream",
     "text": [
      "j:35is divisble by g:7\n"
     ]
    }
   ],
   "source": [
    "j=35\n",
    "g=7\n",
    "\n",
    "if j%g ==0:\n",
    "    print (f\"j:{j}is divisble by g:{g}\")\n",
    "else:\n",
    "    print(f\"j:{j}is not divisble by g:{g}\")"
   ]
  },
  {
   "cell_type": "code",
   "execution_count": 8,
   "id": "9fb9ab84-e5fe-437d-aa5c-03d2f838cabb",
   "metadata": {},
   "outputs": [
    {
     "data": {
      "text/plain": [
       "8.831760866327848"
      ]
     },
     "execution_count": 8,
     "metadata": {},
     "output_type": "execute_result"
    }
   ],
   "source": [
    "w=78\n",
    "## to find the square root(half means root of values)\n",
    "w**(1/2)"
   ]
  },
  {
   "cell_type": "code",
   "execution_count": 9,
   "id": "cb1044ce-1c73-4001-ae7b-7142aea34c36",
   "metadata": {},
   "outputs": [
    {
     "data": {
      "text/plain": [
       "6.082201995573399"
      ]
     },
     "execution_count": 9,
     "metadata": {},
     "output_type": "execute_result"
    }
   ],
   "source": [
    "e=225\n",
    "\n",
    "e**(1/3)"
   ]
  },
  {
   "cell_type": "code",
   "execution_count": 11,
   "id": "cb666fb2-cb70-4090-940f-d954bae2810f",
   "metadata": {},
   "outputs": [
    {
     "name": "stdout",
     "output_type": "stream",
     "text": [
      "j:24is not divisble by g:7\n"
     ]
    }
   ],
   "source": [
    "j=24\n",
    "g=7\n",
    "\n",
    "if j%g ==0:\n",
    "    print (f\"j:{j}is divisble by g:{g}\")\n",
    "else:\n",
    "    print(f\"j:{j}is not divisble by g:{g}\")"
   ]
  },
  {
   "cell_type": "code",
   "execution_count": 14,
   "id": "6d83ae8a-7b85-4106-8cc6-fd5bddec5979",
   "metadata": {},
   "outputs": [
    {
     "data": {
      "text/plain": [
       "4.999999999999999"
      ]
     },
     "execution_count": 14,
     "metadata": {},
     "output_type": "execute_result"
    }
   ],
   "source": [
    "g=125\n",
    "\n",
    "g**(1/3)"
   ]
  },
  {
   "cell_type": "markdown",
   "id": "1865a437-bbbb-4c2f-b489-b468d06f149f",
   "metadata": {},
   "source": [
    "### string\n",
    "\n",
    "it is a immutable because we cannot directly assign  any values by using indexing"
   ]
  },
  {
   "cell_type": "markdown",
   "id": "01f07b11-69cc-4cca-8e60-dcf5694b083e",
   "metadata": {},
   "source": []
  },
  {
   "cell_type": "code",
   "execution_count": 3,
   "id": "cf961c5e-1ff8-483e-8dd9-8c6ed884fdf4",
   "metadata": {},
   "outputs": [],
   "source": [
    "name =\"veena\""
   ]
  },
  {
   "cell_type": "code",
   "execution_count": 4,
   "id": "554f6979-6f78-4431-9c98-0b4bd5351318",
   "metadata": {},
   "outputs": [
    {
     "data": {
      "text/plain": [
       "'e'"
      ]
     },
     "execution_count": 4,
     "metadata": {},
     "output_type": "execute_result"
    }
   ],
   "source": [
    "name[1]"
   ]
  },
  {
   "cell_type": "code",
   "execution_count": 5,
   "id": "5d27b745-322a-4707-bc35-5d89a560ca2c",
   "metadata": {},
   "outputs": [
    {
     "data": {
      "text/plain": [
       "'v'"
      ]
     },
     "execution_count": 5,
     "metadata": {},
     "output_type": "execute_result"
    }
   ],
   "source": [
    "name[0]"
   ]
  },
  {
   "cell_type": "code",
   "execution_count": 6,
   "id": "a7338389-29e7-4f3c-b5b9-e708772fce9d",
   "metadata": {},
   "outputs": [
    {
     "data": {
      "text/plain": [
       "'a'"
      ]
     },
     "execution_count": 6,
     "metadata": {},
     "output_type": "execute_result"
    }
   ],
   "source": [
    "name[-1]"
   ]
  },
  {
   "cell_type": "code",
   "execution_count": 7,
   "id": "c9326b4a-55b8-4541-a054-3b43bbc448dd",
   "metadata": {},
   "outputs": [
    {
     "data": {
      "text/plain": [
       "''"
      ]
     },
     "execution_count": 7,
     "metadata": {},
     "output_type": "execute_result"
    }
   ],
   "source": [
    "name[-1:-1:100]"
   ]
  },
  {
   "cell_type": "code",
   "execution_count": 8,
   "id": "3866e5f1-6065-489d-ae35-a751bc075b70",
   "metadata": {},
   "outputs": [
    {
     "data": {
      "text/plain": [
       "'v'"
      ]
     },
     "execution_count": 8,
     "metadata": {},
     "output_type": "execute_result"
    }
   ],
   "source": [
    "name[-0]"
   ]
  },
  {
   "cell_type": "markdown",
   "id": "6ec2c12d-509d-4b07-b976-4e0df2ca04bd",
   "metadata": {},
   "source": [
    "### string slicing"
   ]
  },
  {
   "cell_type": "code",
   "execution_count": 15,
   "id": "427681bd-2bb2-4856-9076-084c3c30af8b",
   "metadata": {},
   "outputs": [],
   "source": [
    "identity =\" i am learning full stack data science\""
   ]
  },
  {
   "cell_type": "code",
   "execution_count": 10,
   "id": "d5755feb-8522-444b-94d1-7560e42a4d0c",
   "metadata": {},
   "outputs": [
    {
     "data": {
      "text/plain": [
       "'ecneics atad kcats lluf gninrael ma i '"
      ]
     },
     "execution_count": 10,
     "metadata": {},
     "output_type": "execute_result"
    }
   ],
   "source": [
    "identity[::-1]"
   ]
  },
  {
   "cell_type": "code",
   "execution_count": 11,
   "id": "1bbe167e-fb72-4498-a84a-b5ca0ab3bfc8",
   "metadata": {},
   "outputs": [
    {
     "data": {
      "text/plain": [
       "['i', 'am', 'learning', 'full', 'stack', 'data', 'science']"
      ]
     },
     "execution_count": 11,
     "metadata": {},
     "output_type": "execute_result"
    }
   ],
   "source": [
    "identity.split()"
   ]
  },
  {
   "cell_type": "code",
   "execution_count": 12,
   "id": "4c9c26ce-8a16-440d-8fa2-b94f70b18a6c",
   "metadata": {},
   "outputs": [
    {
     "data": {
      "text/plain": [
       "''"
      ]
     },
     "execution_count": 12,
     "metadata": {},
     "output_type": "execute_result"
    }
   ],
   "source": [
    "identity[-1:-1:100]"
   ]
  },
  {
   "cell_type": "code",
   "execution_count": 13,
   "id": "954bb5d8-5a2d-48c4-89d4-1f0f9813dc79",
   "metadata": {},
   "outputs": [
    {
     "data": {
      "text/plain": [
       "' '"
      ]
     },
     "execution_count": 13,
     "metadata": {},
     "output_type": "execute_result"
    }
   ],
   "source": [
    "identity[::100]"
   ]
  },
  {
   "cell_type": "code",
   "execution_count": 14,
   "id": "3fdb7296-5af5-4ca5-9cc4-c5aec8d7e3e4",
   "metadata": {},
   "outputs": [
    {
     "data": {
      "text/plain": [
       "'ecneics atad kcats lluf gninrael ma '"
      ]
     },
     "execution_count": 14,
     "metadata": {},
     "output_type": "execute_result"
    }
   ],
   "source": [
    "identity[:1:-1]"
   ]
  },
  {
   "cell_type": "code",
   "execution_count": 15,
   "id": "1b84c53b-fa51-48d4-a8c9-675317f5c39c",
   "metadata": {},
   "outputs": [
    {
     "data": {
      "text/plain": [
       "'enisaa ct lfgire ai'"
      ]
     },
     "execution_count": 15,
     "metadata": {},
     "output_type": "execute_result"
    }
   ],
   "source": [
    "identity[::-2]"
   ]
  },
  {
   "cell_type": "code",
   "execution_count": 17,
   "id": "4f3ce63d-ca47-4259-92f6-993150c291a7",
   "metadata": {},
   "outputs": [
    {
     "data": {
      "text/plain": [
       "'ia erigfl tc aasine'"
      ]
     },
     "execution_count": 17,
     "metadata": {},
     "output_type": "execute_result"
    }
   ],
   "source": [
    "identity[1::2]"
   ]
  },
  {
   "cell_type": "code",
   "execution_count": 18,
   "id": "a4dde86e-e2d9-4f24-8d29-7fab81c29aed",
   "metadata": {},
   "outputs": [
    {
     "data": {
      "text/plain": [
       "'eest a ugnemi'"
      ]
     },
     "execution_count": 18,
     "metadata": {},
     "output_type": "execute_result"
    }
   ],
   "source": [
    "identity[::-3]"
   ]
  },
  {
   "cell_type": "code",
   "execution_count": 19,
   "id": "a5184dd7-3dec-477e-b9b2-b9e918cb115b",
   "metadata": {},
   "outputs": [
    {
     "data": {
      "text/plain": [
       "' I AM LEARNING FULL STACK DATA SCIENCE'"
      ]
     },
     "execution_count": 19,
     "metadata": {},
     "output_type": "execute_result"
    }
   ],
   "source": [
    "identity.upper()"
   ]
  },
  {
   "cell_type": "code",
   "execution_count": 16,
   "id": "5f25ccf6-3185-4168-965c-b46db885903d",
   "metadata": {},
   "outputs": [
    {
     "data": {
      "text/plain": [
       "'i am lear'"
      ]
     },
     "execution_count": 16,
     "metadata": {},
     "output_type": "execute_result"
    }
   ],
   "source": [
    "identity[1:10]"
   ]
  },
  {
   "cell_type": "code",
   "execution_count": 1,
   "id": "a09da689-93f2-446d-a20f-094b76cefa2a",
   "metadata": {},
   "outputs": [
    {
     "data": {
      "text/plain": [
       "'eena'"
      ]
     },
     "execution_count": 1,
     "metadata": {},
     "output_type": "execute_result"
    }
   ],
   "source": [
    "name =\"veena\"\n",
    "\n",
    "name[1:5]"
   ]
  },
  {
   "cell_type": "code",
   "execution_count": 2,
   "id": "387f6eac-1e9a-4c09-859b-d8d77c7859e5",
   "metadata": {},
   "outputs": [
    {
     "data": {
      "text/plain": [
       "'e'"
      ]
     },
     "execution_count": 2,
     "metadata": {},
     "output_type": "execute_result"
    }
   ],
   "source": [
    "name[2]"
   ]
  },
  {
   "cell_type": "code",
   "execution_count": 20,
   "id": "e0d225aa-e116-4e7c-9ba0-ed1e298d3413",
   "metadata": {},
   "outputs": [
    {
     "data": {
      "text/plain": [
       "'veena'"
      ]
     },
     "execution_count": 20,
     "metadata": {},
     "output_type": "execute_result"
    }
   ],
   "source": [
    "name[0:6]"
   ]
  },
  {
   "cell_type": "code",
   "execution_count": 21,
   "id": "e2af3611-0ead-4af4-8a54-c0d919c3a4e2",
   "metadata": {},
   "outputs": [
    {
     "data": {
      "text/plain": [
       "''"
      ]
     },
     "execution_count": 21,
     "metadata": {},
     "output_type": "execute_result"
    }
   ],
   "source": [
    "name[-1:0]"
   ]
  },
  {
   "cell_type": "code",
   "execution_count": 22,
   "id": "ff68e62a-62ee-4758-a672-16b4ff81bacb",
   "metadata": {},
   "outputs": [],
   "source": [
    "data =\"08/10/2022\"\n"
   ]
  },
  {
   "cell_type": "code",
   "execution_count": 24,
   "id": "522af396-482e-4c02-a739-83e92bd3ad76",
   "metadata": {},
   "outputs": [
    {
     "name": "stdout",
     "output_type": "stream",
     "text": [
      "its 08 th of the month :10 of the year:2022\n"
     ]
    }
   ],
   "source": [
    "todays_data =data[0:2]\n",
    "month =data[3:5]\n",
    "year =data[6:10]\n",
    "\n",
    "print(f\"its {todays_data} th of the month :{month} of the year:{year}\")"
   ]
  },
  {
   "cell_type": "code",
   "execution_count": 27,
   "id": "058d0e0b-4912-4669-b11a-27512b8f35d3",
   "metadata": {},
   "outputs": [
    {
     "name": "stdin",
     "output_type": "stream",
     "text": [
      "enter data of birth in the format dd//mm//yy 29/04/1998\n"
     ]
    },
    {
     "name": "stdout",
     "output_type": "stream",
     "text": [
      "the user was born in the month of 04 in the year :1998 on data :29\n"
     ]
    }
   ],
   "source": [
    "data =input('enter data of birth in the format dd//mm//yy')\n",
    "\n",
    "date =data[0:2]\n",
    "month =data[3:5]\n",
    "year =data[6:10]\n",
    "\n",
    "print(f'the user was born in the month of {month} in the year :{year} on data :{date}')"
   ]
  },
  {
   "cell_type": "code",
   "execution_count": 29,
   "id": "de104721-67bf-4ce3-9eef-30cea4555cee",
   "metadata": {},
   "outputs": [
    {
     "name": "stdin",
     "output_type": "stream",
     "text": [
      "enter data of birth in the format dd//mmm//yy 29/apr/1998\n"
     ]
    },
    {
     "name": "stdout",
     "output_type": "stream",
     "text": [
      "the user was born inthe month of apr in the year :199 on data :29\n"
     ]
    }
   ],
   "source": [
    "\n",
    "data =input('enter data of birth in the format dd//mmm//yy')\n",
    "\n",
    "\n",
    "\n",
    "date =data[0:2]\n",
    "\n",
    "month =data[3:6]\n",
    "\n",
    "year =data[7:10]\n",
    "\n",
    "\n",
    "\n",
    "print(f'the user was born inthe month of {month} in the year :{year} on data :{date}')"
   ]
  },
  {
   "cell_type": "code",
   "execution_count": 30,
   "id": "6d696ff4-8bf9-4c04-9689-adc03b4caf45",
   "metadata": {},
   "outputs": [
    {
     "name": "stdin",
     "output_type": "stream",
     "text": [
      "enter a name malayalam\n"
     ]
    },
    {
     "name": "stdout",
     "output_type": "stream",
     "text": [
      "malayalam,is a palindrome\n"
     ]
    }
   ],
   "source": [
    "Z =input (\"enter a name\")\n",
    "\n",
    "if Z == Z[::-1]:\n",
    "    print(f\"{Z},is a palindrome\" )\n",
    "else:\n",
    "    print(f\"{Z},is not a palindrome\")"
   ]
  },
  {
   "cell_type": "code",
   "execution_count": 31,
   "id": "febf131b-4d66-4f8c-8d08-6cc1c01193c5",
   "metadata": {},
   "outputs": [
    {
     "name": "stdin",
     "output_type": "stream",
     "text": [
      "enter a name radar\n"
     ]
    },
    {
     "name": "stdout",
     "output_type": "stream",
     "text": [
      "radar,is a palindrome\n"
     ]
    }
   ],
   "source": [
    "data =input(\"enter a name\")\n",
    "reverse=data[::-1]\n",
    "\n",
    "if data ==reverse:\n",
    "    print(f\"{data},is a palindrome\")\n",
    "else:\n",
    "     print(f\"{data}, is not a palindrome\")     "
   ]
  },
  {
   "cell_type": "code",
   "execution_count": 32,
   "id": "e9db9c5b-74ae-4713-85dc-ad2bb045e164",
   "metadata": {},
   "outputs": [
    {
     "name": "stdin",
     "output_type": "stream",
     "text": [
      "enter a name ashok\n"
     ]
    }
   ],
   "source": [
    "data =input(\"enter a name\")\n",
    "reverse=data[::-1]"
   ]
  },
  {
   "cell_type": "code",
   "execution_count": 34,
   "id": "9bf5969d-c7de-47c3-8868-616a7b588e5f",
   "metadata": {},
   "outputs": [
    {
     "name": "stdout",
     "output_type": "stream",
     "text": [
      "kohsa\n"
     ]
    }
   ],
   "source": [
    "print(reverse)"
   ]
  },
  {
   "cell_type": "markdown",
   "id": "7c7962ef-42db-47e4-9b46-391e4e0383f7",
   "metadata": {},
   "source": [
    "### mutablity"
   ]
  },
  {
   "cell_type": "code",
   "execution_count": 2,
   "id": "39b746c1-5761-4f09-951d-4ecb679cb211",
   "metadata": {},
   "outputs": [],
   "source": [
    "name=\"veena\"\n",
    "### mutable----subject to be change or can be changed\n",
    "### str---immutable"
   ]
  },
  {
   "cell_type": "code",
   "execution_count": 3,
   "id": "bee92792-5728-4d6d-a1a0-c9a49036df01",
   "metadata": {},
   "outputs": [
    {
     "data": {
      "text/plain": [
       "'seena'"
      ]
     },
     "execution_count": 3,
     "metadata": {},
     "output_type": "execute_result"
    }
   ],
   "source": [
    "\"s\"+name[1:]"
   ]
  },
  {
   "cell_type": "code",
   "execution_count": 4,
   "id": "688f8764-4637-4298-9b45-1927bd0331aa",
   "metadata": {},
   "outputs": [
    {
     "data": {
      "text/plain": [
       "'ggena'"
      ]
     },
     "execution_count": 4,
     "metadata": {},
     "output_type": "execute_result"
    }
   ],
   "source": [
    "\"gg\"+name[2:]"
   ]
  },
  {
   "cell_type": "code",
   "execution_count": 5,
   "id": "1f0e2a66-5786-40f5-a07a-022a9dfe0034",
   "metadata": {},
   "outputs": [],
   "source": [
    " name =\"s\"+name[1:]"
   ]
  },
  {
   "cell_type": "code",
   "execution_count": 6,
   "id": "784f3eac-65c1-4619-b8eb-3943a539506e",
   "metadata": {},
   "outputs": [
    {
     "data": {
      "text/plain": [
       "'seena'"
      ]
     },
     "execution_count": 6,
     "metadata": {},
     "output_type": "execute_result"
    }
   ],
   "source": [
    "name"
   ]
  },
  {
   "cell_type": "code",
   "execution_count": 7,
   "id": "14038c78-d3fd-4fbd-a2e7-3e6285dc4f92",
   "metadata": {},
   "outputs": [
    {
     "data": {
      "text/plain": [
       "'syyna'"
      ]
     },
     "execution_count": 7,
     "metadata": {},
     "output_type": "execute_result"
    }
   ],
   "source": [
    "name.replace(\"ee\",\"yy\")"
   ]
  },
  {
   "cell_type": "code",
   "execution_count": 8,
   "id": "ff3a9b15-ecfb-4202-ac59-9b43f913ea17",
   "metadata": {},
   "outputs": [],
   "source": [
    "name =name.replace(\"ee\",\"yy\")"
   ]
  },
  {
   "cell_type": "code",
   "execution_count": 9,
   "id": "0f85e4e7-5493-415f-9839-4bc6c6ef78a6",
   "metadata": {},
   "outputs": [
    {
     "data": {
      "text/plain": [
       "'syyna'"
      ]
     },
     "execution_count": 9,
     "metadata": {},
     "output_type": "execute_result"
    }
   ],
   "source": [
    "name"
   ]
  },
  {
   "cell_type": "code",
   "execution_count": 10,
   "id": "a194f8e9-1579-45d0-8f8a-da6133b06288",
   "metadata": {},
   "outputs": [],
   "source": [
    "name =\"veena KUMARI\"\n",
    "\n",
    "name =name.replace(\"veena\",\"VEENA\")"
   ]
  },
  {
   "cell_type": "code",
   "execution_count": 11,
   "id": "e17324fb-bc5b-495b-b584-a76df769f3ef",
   "metadata": {},
   "outputs": [
    {
     "data": {
      "text/plain": [
       "'VEENA KUMARI'"
      ]
     },
     "execution_count": 11,
     "metadata": {},
     "output_type": "execute_result"
    }
   ],
   "source": [
    "name"
   ]
  },
  {
   "cell_type": "code",
   "execution_count": 12,
   "id": "e233da53-3b80-4682-ab48-f6fe44a92251",
   "metadata": {},
   "outputs": [
    {
     "data": {
      "text/plain": [
       "'veena_KUMARI'"
      ]
     },
     "execution_count": 12,
     "metadata": {},
     "output_type": "execute_result"
    }
   ],
   "source": [
    "name =\"veena KUMARI\"\n",
    "\n",
    "name =name.replace(\" \",\"_\")\n",
    "name"
   ]
  },
  {
   "cell_type": "code",
   "execution_count": 13,
   "id": "49284958-9791-4845-bbea-e51b9e732304",
   "metadata": {},
   "outputs": [
    {
     "data": {
      "text/plain": [
       "12"
      ]
     },
     "execution_count": 13,
     "metadata": {},
     "output_type": "execute_result"
    }
   ],
   "source": [
    "len(name)"
   ]
  },
  {
   "cell_type": "code",
   "execution_count": 16,
   "id": "063d546b-bf8d-48d6-86b8-b21b55b7ff2e",
   "metadata": {},
   "outputs": [
    {
     "data": {
      "text/plain": [
       "38"
      ]
     },
     "execution_count": 16,
     "metadata": {},
     "output_type": "execute_result"
    }
   ],
   "source": [
    "len(identity)"
   ]
  },
  {
   "cell_type": "code",
   "execution_count": 2,
   "id": "b058cf3c-b6de-4a50-90ab-54c179ff143a",
   "metadata": {},
   "outputs": [
    {
     "data": {
      "text/plain": [
       "'ashok'"
      ]
     },
     "execution_count": 2,
     "metadata": {},
     "output_type": "execute_result"
    }
   ],
   "source": [
    "name=\" ashok  \"\n",
    "\n",
    "name =name.replace(\" \",\"\")\n",
    "name"
   ]
  },
  {
   "cell_type": "code",
   "execution_count": 3,
   "id": "915c7b83-ca03-4abb-93a0-d4fb647cdc93",
   "metadata": {},
   "outputs": [
    {
     "data": {
      "text/plain": [
       "'iok'"
      ]
     },
     "execution_count": 3,
     "metadata": {},
     "output_type": "execute_result"
    }
   ],
   "source": [
    "'i'+name[3:]"
   ]
  },
  {
   "cell_type": "code",
   "execution_count": 18,
   "id": "1db1500a-fc37-4413-b902-79511cd29f53",
   "metadata": {},
   "outputs": [
    {
     "data": {
      "text/plain": [
       "5"
      ]
     },
     "execution_count": 18,
     "metadata": {},
     "output_type": "execute_result"
    }
   ],
   "source": [
    "len(name)"
   ]
  },
  {
   "cell_type": "code",
   "execution_count": 19,
   "id": "0942ae1e-8d5e-4006-a062-038918af152a",
   "metadata": {},
   "outputs": [
    {
     "ename": "TypeError",
     "evalue": "'str' object does not support item assignment",
     "output_type": "error",
     "traceback": [
      "\u001b[0;31m---------------------------------------------------------------------------\u001b[0m",
      "\u001b[0;31mTypeError\u001b[0m                                 Traceback (most recent call last)",
      "Input \u001b[0;32mIn [19]\u001b[0m, in \u001b[0;36m<cell line: 1>\u001b[0;34m()\u001b[0m\n\u001b[0;32m----> 1\u001b[0m name[\u001b[38;5;241m0\u001b[39m]\u001b[38;5;241m=\u001b[39m\u001b[38;5;124m'\u001b[39m\u001b[38;5;124mf\u001b[39m\u001b[38;5;124m'\u001b[39m\n",
      "\u001b[0;31mTypeError\u001b[0m: 'str' object does not support item assignment"
     ]
    }
   ],
   "source": [
    "name[0]='f'"
   ]
  },
  {
   "cell_type": "markdown",
   "id": "9ad7d74c-bf9a-496f-813b-3ff8db206b2e",
   "metadata": {},
   "source": [
    "### count specific charcter"
   ]
  },
  {
   "cell_type": "code",
   "execution_count": 4,
   "id": "6675d2e0-231f-4dde-86a9-4deeaf288f9b",
   "metadata": {},
   "outputs": [],
   "source": [
    "name =\"veena\"                                                         "
   ]
  },
  {
   "cell_type": "code",
   "execution_count": 5,
   "id": "d2b83791-2eb4-4034-bbba-796cfbe9f323",
   "metadata": {},
   "outputs": [
    {
     "data": {
      "text/plain": [
       "2"
      ]
     },
     "execution_count": 5,
     "metadata": {},
     "output_type": "execute_result"
    }
   ],
   "source": [
    "name.count(\"e\")"
   ]
  },
  {
   "cell_type": "code",
   "execution_count": 6,
   "id": "679dd673-c62f-4e63-b4ee-d90eab46b1d3",
   "metadata": {},
   "outputs": [],
   "source": [
    "won ='i am learning english '"
   ]
  },
  {
   "cell_type": "code",
   "execution_count": 7,
   "id": "23c6b8c4-30ef-4645-87b7-a7c3e865e19a",
   "metadata": {},
   "outputs": [
    {
     "data": {
      "text/plain": [
       "['i', 'am', 'learning', 'english']"
      ]
     },
     "execution_count": 7,
     "metadata": {},
     "output_type": "execute_result"
    }
   ],
   "source": [
    "won.split()"
   ]
  },
  {
   "cell_type": "code",
   "execution_count": 10,
   "id": "eb55deef-5b19-4ffb-93bc-9ed727b9183b",
   "metadata": {},
   "outputs": [
    {
     "name": "stdout",
     "output_type": "stream",
     "text": [
      "\n",
      "first name:i\n",
      "middle name:am\n",
      "last :learning\n",
      "sur name :english\n"
     ]
    }
   ],
   "source": [
    "\n",
    "first_name,middle_name,last_name,surname=won.split()\n",
    "print(f\"\"\"\n",
    "first name:{first_name}\n",
    "middle name:{middle_name}\n",
    "last :{last_name}\n",
    "sur name :{surname}\"\"\")"
   ]
  },
  {
   "cell_type": "code",
   "execution_count": 11,
   "id": "d5d4d2a6-bcbd-4205-8774-56560d8db486",
   "metadata": {},
   "outputs": [
    {
     "name": "stdin",
     "output_type": "stream",
     "text": [
      "enter data of birth in the format dd//mm//yy 29/04/1998\n"
     ]
    },
    {
     "data": {
      "text/plain": [
       "['29', '04', '1998']"
      ]
     },
     "execution_count": 11,
     "metadata": {},
     "output_type": "execute_result"
    }
   ],
   "source": [
    "\n",
    "data =input('enter data of birth in the format dd//mm//yy')\n",
    "date,month,year =data.split(\"/\")\n",
    "print(f\"the user was born in the month of {month} in the year :{year} on date:{date}\")"
   ]
  },
  {
   "cell_type": "code",
   "execution_count": 12,
   "id": "38835c73-a3ef-43d3-b09d-17c89177ef04",
   "metadata": {},
   "outputs": [
    {
     "name": "stdin",
     "output_type": "stream",
     "text": [
      "enter data of birth in the format dd//mmm//yy 29/april-1998\n"
     ]
    },
    {
     "data": {
      "text/plain": [
       "['29', 'april-1998']"
      ]
     },
     "execution_count": 12,
     "metadata": {},
     "output_type": "execute_result"
    }
   ],
   "source": [
    "data =input('enter data of birth in the format dd//mmm//yy')\n",
    "data.split(\"/\")\n",
    "\n"
   ]
  },
  {
   "cell_type": "code",
   "execution_count": 15,
   "id": "3fbb07b8-1db9-4b83-93db-5e7a0b53a72e",
   "metadata": {},
   "outputs": [
    {
     "data": {
      "text/plain": [
       "['veena', 'kumar', 'i']"
      ]
     },
     "execution_count": 15,
     "metadata": {},
     "output_type": "execute_result"
    }
   ],
   "source": [
    "sur =\"veena_kumar_i\"\n",
    "\n",
    "sur.split(\"_\")"
   ]
  },
  {
   "cell_type": "code",
   "execution_count": 16,
   "id": "57891f12-f796-41f2-9b2d-18121986feb3",
   "metadata": {},
   "outputs": [
    {
     "data": {
      "text/plain": [
       "['vee', 'a_kumar_i']"
      ]
     },
     "execution_count": 16,
     "metadata": {},
     "output_type": "execute_result"
    }
   ],
   "source": [
    "sur.split(\"n\")"
   ]
  },
  {
   "cell_type": "code",
   "execution_count": 18,
   "id": "3aa854bf-4ac0-4fde-8b78-6ba07725b620",
   "metadata": {},
   "outputs": [
    {
     "data": {
      "text/plain": [
       "['veena_kumar_i']"
      ]
     },
     "execution_count": 18,
     "metadata": {},
     "output_type": "execute_result"
    }
   ],
   "source": [
    "sur.split(\".\")"
   ]
  },
  {
   "cell_type": "code",
   "execution_count": 17,
   "id": "75e4d2b5-70da-4c94-8b5a-420832420029",
   "metadata": {},
   "outputs": [
    {
     "ename": "ValueError",
     "evalue": "not enough values to unpack (expected 3, got 2)",
     "output_type": "error",
     "traceback": [
      "\u001b[0;31m---------------------------------------------------------------------------\u001b[0m",
      "\u001b[0;31mValueError\u001b[0m                                Traceback (most recent call last)",
      "Input \u001b[0;32mIn [17]\u001b[0m, in \u001b[0;36m<cell line: 1>\u001b[0;34m()\u001b[0m\n\u001b[0;32m----> 1\u001b[0m a,b,c\u001b[38;5;241m=\u001b[39mdata\u001b[38;5;241m.\u001b[39msplit(\u001b[38;5;124m\"\u001b[39m\u001b[38;5;124m/\u001b[39m\u001b[38;5;124m\"\u001b[39m)\n",
      "\u001b[0;31mValueError\u001b[0m: not enough values to unpack (expected 3, got 2)"
     ]
    }
   ],
   "source": [
    "a,b,c=data.split(\"/\")"
   ]
  },
  {
   "cell_type": "code",
   "execution_count": 19,
   "id": "7db93524-fb35-480b-a89e-0d85a0303e2f",
   "metadata": {},
   "outputs": [
    {
     "name": "stdin",
     "output_type": "stream",
     "text": [
      "enter data of birth in the format dd//mm//yy 29th/april/98\n"
     ]
    },
    {
     "data": {
      "text/plain": [
       "['29th', 'april', '98']"
      ]
     },
     "execution_count": 19,
     "metadata": {},
     "output_type": "execute_result"
    }
   ],
   "source": [
    "data =input('enter data of birth in the format dd//mm//yy')\n",
    "data.split(\"/\")"
   ]
  },
  {
   "cell_type": "code",
   "execution_count": 20,
   "id": "41281638-5d4e-406a-a055-7f22466ea0d8",
   "metadata": {},
   "outputs": [
    {
     "name": "stdout",
     "output_type": "stream",
     "text": [
      "29th april 98\n"
     ]
    }
   ],
   "source": [
    "A,B,C=data.split(\"/\")\n",
    "\n",
    "print(A,B,C)"
   ]
  },
  {
   "cell_type": "code",
   "execution_count": 21,
   "id": "05e1e74f-6368-4dd2-8980-8ff85a32b793",
   "metadata": {},
   "outputs": [
    {
     "data": {
      "text/plain": [
       "['29th', 'april', '98']"
      ]
     },
     "execution_count": 21,
     "metadata": {},
     "output_type": "execute_result"
    }
   ],
   "source": [
    "A=data.split(\"/\")\n",
    "\n",
    "\n",
    "A"
   ]
  },
  {
   "cell_type": "code",
   "execution_count": 23,
   "id": "a18d796c-7b17-482d-a2b3-8ef27f324ffd",
   "metadata": {},
   "outputs": [
    {
     "data": {
      "text/plain": [
       "'98'"
      ]
     },
     "execution_count": 23,
     "metadata": {},
     "output_type": "execute_result"
    }
   ],
   "source": [
    "A[2]"
   ]
  },
  {
   "cell_type": "code",
   "execution_count": 24,
   "id": "10c9226b-145c-4989-afe6-8419bf0aea21",
   "metadata": {},
   "outputs": [
    {
     "data": {
      "text/plain": [
       "3"
      ]
     },
     "execution_count": 24,
     "metadata": {},
     "output_type": "execute_result"
    }
   ],
   "source": [
    "len(A)"
   ]
  },
  {
   "cell_type": "markdown",
   "id": "9a0a457f-8c27-4c8c-8c30-a91b73a532ce",
   "metadata": {},
   "source": [
    "### lower,upper,title cases"
   ]
  },
  {
   "cell_type": "code",
   "execution_count": 25,
   "id": "b3eebf16-8b47-4e1b-aece-e160fdfadbd9",
   "metadata": {},
   "outputs": [
    {
     "data": {
      "text/plain": [
       "'veena kumari'"
      ]
     },
     "execution_count": 25,
     "metadata": {},
     "output_type": "execute_result"
    }
   ],
   "source": [
    "name =\"veena kumari\"\n",
    "\n",
    "\n",
    "name.lower()"
   ]
  },
  {
   "cell_type": "code",
   "execution_count": 26,
   "id": "a9379008-9b6e-4e09-9780-4304a1f9d835",
   "metadata": {},
   "outputs": [
    {
     "data": {
      "text/plain": [
       "'VEENA KUMARI'"
      ]
     },
     "execution_count": 26,
     "metadata": {},
     "output_type": "execute_result"
    }
   ],
   "source": [
    "\n",
    "name.upper()"
   ]
  },
  {
   "cell_type": "code",
   "execution_count": 27,
   "id": "b1a406dc-4b04-4841-92fa-73cdeb788d91",
   "metadata": {},
   "outputs": [
    {
     "name": "stdin",
     "output_type": "stream",
     "text": [
      "enter your name:  chinta ashok kumar\n"
     ]
    },
    {
     "name": "stdout",
     "output_type": "stream",
     "text": [
      "name in upper case :CHINTA ASHOK KUMAR\n",
      "name in lower case :chinta ashok kumar\n",
      "name in title case :Chinta Ashok Kumar\n",
      "name in capitalize case :Chinta ashok kumar\n",
      "name in swap case :CHINTA ASHOK KUMAR\n"
     ]
    }
   ],
   "source": [
    "name =input('enter your name: ')\n",
    "print(f'name in upper case :{name.upper()}')\n",
    "print(f'name in lower case :{name.lower()}')\n",
    "print(f'name in title case :{name.title()}')\n",
    "print(f'name in capitalize case :{name.capitalize()}')\n",
    "print(f'name in swap case :{name.swapcase()}')"
   ]
  },
  {
   "cell_type": "code",
   "execution_count": 28,
   "id": "c6484100-9a65-4abb-b460-938142f0ad30",
   "metadata": {},
   "outputs": [
    {
     "name": "stdout",
     "output_type": "stream",
     "text": [
      "name in upper case :TODAY IS THE BEST DAY OF MY LIFE\n",
      "name in lower case :today is the best day of my life\n",
      "name in title case :Today Is The Best Day Of My Life\n",
      "name in capitalize case :Today is the best day of my life\n",
      "name in swap case :TODAY IS THE BEST DAY OF MY LIFE\n"
     ]
    }
   ],
   "source": [
    "name =\"today is the best day of my life\"\n",
    "print(f'name in upper case :{name.upper()}')\n",
    "print(f'name in lower case :{name.lower()}')\n",
    "print(f'name in title case :{name.title()}')\n",
    "print(f'name in capitalize case :{name.capitalize()}')\n",
    "print(f'name in swap case :{name.swapcase()}')"
   ]
  },
  {
   "cell_type": "code",
   "execution_count": 29,
   "id": "ded5e41e-5a4d-4ebb-86aa-eef0ac7aaba5",
   "metadata": {},
   "outputs": [
    {
     "name": "stdout",
     "output_type": "stream",
     "text": [
      "name in upper case :TODAY IS THE BEST DAY OF MY LIFE\n",
      "name in lower case :today is the best day of my life\n",
      "name in title case :Today Is The Best Day Of My Life\n",
      "name in capitalize case :Today is the best day of my life\n",
      "name in swap case :tODAy Is tHE bEST DAY oF mY lIFE\n"
     ]
    }
   ],
   "source": [
    "name =\"TodaY iS The Best day Of My Life\"\n",
    "print(f'name in upper case :{name.upper()}')\n",
    "print(f'name in lower case :{name.lower()}')\n",
    "print(f'name in title case :{name.title()}')\n",
    "print(f'name in capitalize case :{name.capitalize()}')\n",
    "print(f'name in swap case :{name.swapcase()}')"
   ]
  },
  {
   "cell_type": "code",
   "execution_count": 30,
   "id": "f5a55e0e-cd51-4066-a2bf-d54b12b56cab",
   "metadata": {},
   "outputs": [
    {
     "data": {
      "text/plain": [
       "'v** e** e** n** a'"
      ]
     },
     "execution_count": 30,
     "metadata": {},
     "output_type": "execute_result"
    }
   ],
   "source": [
    "name =\"veena\"\n",
    "\n",
    "\"** \".join(name)\n"
   ]
  },
  {
   "cell_type": "code",
   "execution_count": 31,
   "id": "84df2b60-1eab-4dcc-851a-ff9a271d1188",
   "metadata": {},
   "outputs": [
    {
     "data": {
      "text/plain": [
       "'p**a**r**v**a**t**h**i'"
      ]
     },
     "execution_count": 31,
     "metadata": {},
     "output_type": "execute_result"
    }
   ],
   "source": [
    "mi =\"parvathi\"\n",
    "\n",
    "\"**\" .join(mi)"
   ]
  },
  {
   "cell_type": "code",
   "execution_count": 33,
   "id": "a1af6383-c281-4bd7-bb20-593ea87e6d0e",
   "metadata": {},
   "outputs": [
    {
     "data": {
      "text/plain": [
       "'*veena*'"
      ]
     },
     "execution_count": 33,
     "metadata": {},
     "output_type": "execute_result"
    }
   ],
   "source": [
    "mi =\"veena\"\n",
    "\n",
    "mi.join(\"**\")"
   ]
  },
  {
   "cell_type": "code",
   "execution_count": 38,
   "id": "dd62dcf1-62fb-46c6-ac0a-2ea89393ff63",
   "metadata": {},
   "outputs": [
    {
     "data": {
      "text/plain": [
       "'|v|e|e|n|a|'"
      ]
     },
     "execution_count": 38,
     "metadata": {},
     "output_type": "execute_result"
    }
   ],
   "source": [
    "mi.replace(\"\",\"|\")"
   ]
  },
  {
   "cell_type": "code",
   "execution_count": 34,
   "id": "113b8442-660b-425d-92ce-b2863e59cf43",
   "metadata": {},
   "outputs": [
    {
     "data": {
      "text/plain": [
       "'v_ e_ e_ n_ a'"
      ]
     },
     "execution_count": 34,
     "metadata": {},
     "output_type": "execute_result"
    }
   ],
   "source": [
    "name =\"veena\"\n",
    "\n",
    "\"_ \".join(name)\n"
   ]
  },
  {
   "cell_type": "code",
   "execution_count": 35,
   "id": "452c603d-93e3-43ea-9ce7-294d4f29d083",
   "metadata": {},
   "outputs": [
    {
     "data": {
      "text/plain": [
       "'v|e|e|n|a'"
      ]
     },
     "execution_count": 35,
     "metadata": {},
     "output_type": "execute_result"
    }
   ],
   "source": [
    "name =\"veena\"\n",
    "\n",
    "\"|\".join(name)"
   ]
  },
  {
   "cell_type": "code",
   "execution_count": 36,
   "id": "6e3322c2-7994-4150-b03f-07ca3847efb8",
   "metadata": {},
   "outputs": [
    {
     "data": {
      "text/plain": [
       "'aneev'"
      ]
     },
     "execution_count": 36,
     "metadata": {},
     "output_type": "execute_result"
    }
   ],
   "source": [
    "\"\".join(reversed(name))"
   ]
  },
  {
   "cell_type": "code",
   "execution_count": null,
   "id": "e3019725-fdd7-44f4-b540-6b4f4bdb6da5",
   "metadata": {},
   "outputs": [
    {
     "data": {
      "text/plain": [
       "'veena'"
      ]
     },
     "execution_count": 39,
     "metadata": {},
     "output_type": "execute_result"
    }
   ],
   "source": [
    "b =\"  veena  \"\n",
    "\n",
    "b.strip(\" \")"
   ]
  },
  {
   "cell_type": "code",
   "execution_count": null,
   "id": "d91de760-1d01-4eae-9213-5facb5e62319",
   "metadata": {},
   "outputs": [],
   "source": [
    "name=\" veena  \"\n",
    "\n",
    "name.strip(\" \")"
   ]
  },
  {
   "cell_type": "code",
   "execution_count": null,
   "id": "d6e9a64e-5134-4eee-bc36-574edd5fc3bb",
   "metadata": {},
   "outputs": [],
   "source": [
    "name=\" veena  \"\n",
    "\n",
    "name.lstrip(\" \")"
   ]
  },
  {
   "cell_type": "code",
   "execution_count": null,
   "id": "76878194-4a0c-4aaa-9f3e-d2dcc2bc949b",
   "metadata": {},
   "outputs": [],
   "source": [
    "name=\" veena  \"\n",
    "\n",
    "name.rstrip(\" \")"
   ]
  },
  {
   "cell_type": "code",
   "execution_count": 40,
   "id": "51625f47-2802-4586-8e19-9ec9790734c0",
   "metadata": {},
   "outputs": [
    {
     "data": {
      "text/plain": [
       "'veena'"
      ]
     },
     "execution_count": 40,
     "metadata": {},
     "output_type": "execute_result"
    }
   ],
   "source": [
    "name.replace(\" \",\"\")"
   ]
  },
  {
   "cell_type": "markdown",
   "id": "717517b0-0529-4990-85e6-6534e1a3174e",
   "metadata": {},
   "source": [
    "### formatting"
   ]
  },
  {
   "cell_type": "code",
   "execution_count": 41,
   "id": "320bd2e1-2d06-4235-ad07-7e186da88445",
   "metadata": {},
   "outputs": [
    {
     "data": {
      "text/plain": [
       "'##veena###'"
      ]
     },
     "execution_count": 41,
     "metadata": {},
     "output_type": "execute_result"
    }
   ],
   "source": [
    "name =\"veena\"\n",
    "\n",
    "\n",
    "name.center(10,\"#\")"
   ]
  },
  {
   "cell_type": "code",
   "execution_count": 43,
   "id": "45c74297-b804-49dd-8dc9-2017220a9fbf",
   "metadata": {},
   "outputs": [
    {
     "data": {
      "text/plain": [
       "'$$$$$$$veena$$$$$$$$'"
      ]
     },
     "execution_count": 43,
     "metadata": {},
     "output_type": "execute_result"
    }
   ],
   "source": [
    "name.center(20,\"$\")"
   ]
  },
  {
   "cell_type": "markdown",
   "id": "b9717cb0-bafb-444b-924e-fdcef5657acf",
   "metadata": {},
   "source": [
    "### checking string cases"
   ]
  },
  {
   "cell_type": "code",
   "execution_count": 44,
   "id": "45ae49cf-52fe-49a4-8102-fa961d680b77",
   "metadata": {},
   "outputs": [
    {
     "data": {
      "text/plain": [
       "False"
      ]
     },
     "execution_count": 44,
     "metadata": {},
     "output_type": "execute_result"
    }
   ],
   "source": [
    "name =\"ashok\"\n",
    "\n",
    "name.isupper()"
   ]
  },
  {
   "cell_type": "code",
   "execution_count": 45,
   "id": "88264479-734b-48be-a61e-228cf7427225",
   "metadata": {},
   "outputs": [
    {
     "data": {
      "text/plain": [
       "True"
      ]
     },
     "execution_count": 45,
     "metadata": {},
     "output_type": "execute_result"
    }
   ],
   "source": [
    "name.islower()"
   ]
  },
  {
   "cell_type": "code",
   "execution_count": 48,
   "id": "173267cd-636d-4fa0-b864-737d6d80979d",
   "metadata": {},
   "outputs": [
    {
     "data": {
      "text/plain": [
       "False"
      ]
     },
     "execution_count": 48,
     "metadata": {},
     "output_type": "execute_result"
    }
   ],
   "source": [
    "name =\"ashok\"\n",
    "name.isspace()"
   ]
  },
  {
   "cell_type": "code",
   "execution_count": 49,
   "id": "df871738-8851-493a-af4b-ed12ec89cd5f",
   "metadata": {},
   "outputs": [
    {
     "data": {
      "text/plain": [
       "False"
      ]
     },
     "execution_count": 49,
     "metadata": {},
     "output_type": "execute_result"
    }
   ],
   "source": [
    "name.istitle()"
   ]
  },
  {
   "cell_type": "code",
   "execution_count": 51,
   "id": "04049ed0-a3a7-44c2-bdfe-1057def02326",
   "metadata": {},
   "outputs": [
    {
     "name": "stdin",
     "output_type": "stream",
     "text": [
      "enter your name chinta veena kumari\n"
     ]
    },
    {
     "name": "stdout",
     "output_type": "stream",
     "text": [
      "user input :chinta veena kumari\n",
      "wrong input we need to autocorrect it\n",
      "correct output :Chinta Veena Kumari\n"
     ]
    }
   ],
   "source": [
    "name=input(\"enter your name\")\n",
    "\n",
    "print(f\"user input :{name}\")\n",
    "\n",
    "if name.istitle():\n",
    "    priint(f\"user has given correct input\")\n",
    "else:\n",
    "    print(f\"wrong input we need to autocorrect it\")\n",
    "    name = name.title()\n",
    "    print(f\"correct output :{name}\")"
   ]
  },
  {
   "cell_type": "code",
   "execution_count": 52,
   "id": "e0ac1cf3-bdfe-4833-9db7-9767a1badee0",
   "metadata": {},
   "outputs": [
    {
     "name": "stdin",
     "output_type": "stream",
     "text": [
      "enter your name  \n"
     ]
    },
    {
     "name": "stdout",
     "output_type": "stream",
     "text": [
      "user input : \n",
      "wrong input we need to autocorrect it\n",
      "correct output : \n"
     ]
    }
   ],
   "source": [
    "name=input(\"enter your name\")\n",
    "\n",
    "print(f\"user input :{name}\")\n",
    "\n",
    "if name.istitle():\n",
    "    pri  nt(f\"user has given correct input\")\n",
    "else:\n",
    "    print(f\"wrong input we need to autocorrect it\")\n",
    "    name = name.title()\n",
    "    print(f\"correct output :{name}\")"
   ]
  },
  {
   "cell_type": "code",
   "execution_count": null,
   "id": "f4cc2cc3-0129-4ae1-a2ce-f94a9a4315d4",
   "metadata": {},
   "outputs": [],
   "source": [
    "name=input(\"enter your name\")\n",
    "\n",
    "print(f\"user input :{name}\")\n",
    "\n",
    "if name.istitle():\n",
    "    priint(f\"user has given correct input\")\n",
    "else:\n",
    "    print(f\"wrong input we need to autocorrect it\")\n",
    "    name = name.title()\n",
    "    print(f\"correct output :{name}\")"
   ]
  },
  {
   "cell_type": "code",
   "execution_count": null,
   "id": "6bd86a7f-4295-426a-a596-793112d602b7",
   "metadata": {},
   "outputs": [],
   "source": []
  },
  {
   "cell_type": "code",
   "execution_count": null,
   "id": "f828a75b-e829-4087-91eb-65de92066ee8",
   "metadata": {},
   "outputs": [],
   "source": []
  },
  {
   "cell_type": "code",
   "execution_count": null,
   "id": "cf3c62fd-233b-44a7-8001-819025c86fd2",
   "metadata": {},
   "outputs": [],
   "source": []
  },
  {
   "cell_type": "code",
   "execution_count": null,
   "id": "97789acb-e038-46db-919f-08b4f2780cb3",
   "metadata": {},
   "outputs": [],
   "source": [
    "pan_number =\"2122  154\"\n",
    "pan_number.isalnum()"
   ]
  },
  {
   "cell_type": "code",
   "execution_count": null,
   "id": "0db27f62-53a5-4461-a6e1-771000fc98e1",
   "metadata": {},
   "outputs": [],
   "source": [
    "pan_number =\"21_)22154\"\n",
    "pan_number.isalnum()"
   ]
  },
  {
   "cell_type": "code",
   "execution_count": null,
   "id": "e67d9dab-be13-420b-806b-c63cff069883",
   "metadata": {},
   "outputs": [],
   "source": [
    "pan_number=\"AXPEY6788U\"\n",
    "\n",
    "if pan_number"
   ]
  }
 ],
 "metadata": {
  "kernelspec": {
   "display_name": "Python 3 (ipykernel)",
   "language": "python",
   "name": "python3"
  },
  "language_info": {
   "codemirror_mode": {
    "name": "ipython",
    "version": 3
   },
   "file_extension": ".py",
   "mimetype": "text/x-python",
   "name": "python",
   "nbconvert_exporter": "python",
   "pygments_lexer": "ipython3",
   "version": "3.9.12"
  }
 },
 "nbformat": 4,
 "nbformat_minor": 5
}
