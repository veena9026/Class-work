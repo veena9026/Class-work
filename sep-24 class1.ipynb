{
 "cells": [
  {
   "cell_type": "code",
   "execution_count": null,
   "id": "6427cc6c-2b72-4eae-9390-538596703eb7",
   "metadata": {},
   "outputs": [],
   "source": []
  },
  {
   "cell_type": "code",
   "execution_count": 1,
   "id": "2d69b60b-acb6-42d8-9345-e66505b763dc",
   "metadata": {},
   "outputs": [
    {
     "data": {
      "text/plain": [
       "'good morning'"
      ]
     },
     "execution_count": 1,
     "metadata": {},
     "output_type": "execute_result"
    }
   ],
   "source": [
    "'good morning'"
   ]
  },
  {
   "cell_type": "code",
   "execution_count": 2,
   "id": "063548df-68d9-4ded-8919-5ac8f5983da2",
   "metadata": {},
   "outputs": [
    {
     "name": "stdout",
     "output_type": "stream",
     "text": [
      "greetings from  ineuron\n"
     ]
    }
   ],
   "source": [
    "print('greetings from  ineuron')"
   ]
  },
  {
   "cell_type": "code",
   "execution_count": 3,
   "id": "5ab7d9de-7e4b-477d-a3c6-9d278289e758",
   "metadata": {},
   "outputs": [
    {
     "name": "stdin",
     "output_type": "stream",
     "text": [
      "my name veena\n"
     ]
    },
    {
     "data": {
      "text/plain": [
       "'veena'"
      ]
     },
     "execution_count": 3,
     "metadata": {},
     "output_type": "execute_result"
    }
   ],
   "source": [
    " input('my name' )"
   ]
  },
  {
   "cell_type": "raw",
   "id": "17f2e862-f55f-45f9-9e28-a0f8f959f40a",
   "metadata": {},
   "source": [
    "# multi line comments\n"
   ]
  },
  {
   "cell_type": "code",
   "execution_count": 4,
   "id": "f727511d-eff6-4a8d-be23-9570bb79e5cc",
   "metadata": {},
   "outputs": [
    {
     "name": "stdout",
     "output_type": "stream",
     "text": [
      "hi annaya ,i am fine,how are you\n"
     ]
    }
   ],
   "source": [
    "'''say hi\n",
    "students'''\n",
    "print(\"hi annaya ,i am fine,how are you\")"
   ]
  },
  {
   "cell_type": "code",
   "execution_count": 5,
   "id": "6ec140cc-2e33-483a-a394-505a8d2ae7c7",
   "metadata": {},
   "outputs": [
    {
     "name": "stdout",
     "output_type": "stream",
     "text": [
      "hi mam i am 'veena'@\n"
     ]
    }
   ],
   "source": [
    "print(\"hi mam i am 'veena'@\")"
   ]
  },
  {
   "cell_type": "code",
   "execution_count": 6,
   "id": "0de91184-7405-461c-b947-473e9594bece",
   "metadata": {},
   "outputs": [
    {
     "name": "stdout",
     "output_type": "stream",
     "text": [
      "ashok\n"
     ]
    }
   ],
   "source": [
    "print('ashok')"
   ]
  },
  {
   "cell_type": "code",
   "execution_count": 7,
   "id": "4a8150cd-155d-4ee1-8c45-fe9a33b8fe2c",
   "metadata": {},
   "outputs": [
    {
     "data": {
      "text/plain": [
       "160"
      ]
     },
     "execution_count": 7,
     "metadata": {},
     "output_type": "execute_result"
    }
   ],
   "source": [
    "123+37"
   ]
  },
  {
   "cell_type": "code",
   "execution_count": 8,
   "id": "e55edc93-606c-4561-9bf7-5fe42874cf2d",
   "metadata": {},
   "outputs": [
    {
     "data": {
      "text/plain": [
       "435"
      ]
     },
     "execution_count": 8,
     "metadata": {},
     "output_type": "execute_result"
    }
   ],
   "source": [
    "87*5"
   ]
  },
  {
   "cell_type": "code",
   "execution_count": 9,
   "id": "813d02d2-344b-452a-9250-b418afc66fd3",
   "metadata": {},
   "outputs": [
    {
     "data": {
      "text/plain": [
       "17.571428571428573"
      ]
     },
     "execution_count": 9,
     "metadata": {},
     "output_type": "execute_result"
    }
   ],
   "source": [
    "123/7"
   ]
  },
  {
   "cell_type": "code",
   "execution_count": 10,
   "id": "9434a932-43df-42e0-9e1b-88fd24564dc6",
   "metadata": {},
   "outputs": [
    {
     "name": "stdout",
     "output_type": "stream",
     "text": [
      "7995\n",
      "result\n"
     ]
    }
   ],
   "source": [
    "print(123*65)\n",
    "print('result')"
   ]
  },
  {
   "cell_type": "markdown",
   "id": "9a101781-d7b4-4115-b79f-01581c58f2cd",
   "metadata": {},
   "source": [
    "## variables in python ##"
   ]
  },
  {
   "cell_type": "code",
   "execution_count": 11,
   "id": "20677091-d688-4aee-9970-8de2d6ee8078",
   "metadata": {},
   "outputs": [],
   "source": [
    " x =10"
   ]
  },
  {
   "cell_type": "code",
   "execution_count": 12,
   "id": "14e846a2-7a88-4c63-bef1-fb4c2318ad7c",
   "metadata": {},
   "outputs": [
    {
     "data": {
      "text/plain": [
       "int"
      ]
     },
     "execution_count": 12,
     "metadata": {},
     "output_type": "execute_result"
    }
   ],
   "source": [
    "type(x)"
   ]
  },
  {
   "cell_type": "code",
   "execution_count": 13,
   "id": "a47fa031-d356-43d4-a865-c461397e54ce",
   "metadata": {},
   "outputs": [
    {
     "name": "stdout",
     "output_type": "stream",
     "text": [
      "(12+3j)\n"
     ]
    }
   ],
   "source": [
    "a=12+3j\n",
    "print (a)"
   ]
  },
  {
   "cell_type": "code",
   "execution_count": 14,
   "id": "f860cbfb-b572-48df-9f80-f844b5572b07",
   "metadata": {},
   "outputs": [
    {
     "data": {
      "text/plain": [
       "3.0"
      ]
     },
     "execution_count": 14,
     "metadata": {},
     "output_type": "execute_result"
    }
   ],
   "source": [
    "a.imag"
   ]
  },
  {
   "cell_type": "code",
   "execution_count": 15,
   "id": "33ea1ab6-cdb4-4849-b36a-54dbf51448d1",
   "metadata": {},
   "outputs": [
    {
     "name": "stdout",
     "output_type": "stream",
     "text": [
      "3.87\n"
     ]
    }
   ],
   "source": [
    "b =3.87\n",
    "print(b)"
   ]
  },
  {
   "cell_type": "code",
   "execution_count": 16,
   "id": "6674565f-116f-4507-a720-5a44294346a3",
   "metadata": {},
   "outputs": [
    {
     "data": {
      "text/plain": [
       "str"
      ]
     },
     "execution_count": 16,
     "metadata": {},
     "output_type": "execute_result"
    }
   ],
   "source": [
    "c ='ashok'\n",
    "type(c)"
   ]
  },
  {
   "cell_type": "code",
   "execution_count": 17,
   "id": "e45fc54a-d82a-41b0-b092-3f4a36a2d8a0",
   "metadata": {},
   "outputs": [
    {
     "name": "stdout",
     "output_type": "stream",
     "text": [
      "ashok\n"
     ]
    }
   ],
   "source": [
    "print (c)"
   ]
  },
  {
   "cell_type": "code",
   "execution_count": 18,
   "id": "196834b9-c4ec-48b0-9a04-15dba2349712",
   "metadata": {},
   "outputs": [
    {
     "data": {
      "text/plain": [
       "complex"
      ]
     },
     "execution_count": 18,
     "metadata": {},
     "output_type": "execute_result"
    }
   ],
   "source": [
    "type(a)"
   ]
  },
  {
   "cell_type": "code",
   "execution_count": 19,
   "id": "f2e55607-24ae-475e-8e5b-4e48ce5f2490",
   "metadata": {},
   "outputs": [
    {
     "data": {
      "text/plain": [
       "float"
      ]
     },
     "execution_count": 19,
     "metadata": {},
     "output_type": "execute_result"
    }
   ],
   "source": [
    "type(b)"
   ]
  },
  {
   "cell_type": "code",
   "execution_count": 20,
   "id": "61356c5a-c398-4ef2-9fa9-accc3a33396d",
   "metadata": {},
   "outputs": [
    {
     "name": "stdout",
     "output_type": "stream",
     "text": [
      "True\n"
     ]
    }
   ],
   "source": [
    "d =True\n",
    "print(d)"
   ]
  },
  {
   "cell_type": "code",
   "execution_count": 21,
   "id": "e0465935-91a4-4cad-aec6-00c0361a7c4e",
   "metadata": {},
   "outputs": [
    {
     "data": {
      "text/plain": [
       "bool"
      ]
     },
     "execution_count": 21,
     "metadata": {},
     "output_type": "execute_result"
    }
   ],
   "source": [
    "type(d)"
   ]
  },
  {
   "cell_type": "code",
   "execution_count": null,
   "id": "ebc21ea5-c58d-4152-8934-0b8612e90f10",
   "metadata": {},
   "outputs": [],
   "source": []
  },
  {
   "cell_type": "code",
   "execution_count": 22,
   "id": "434167c7-607c-43b0-9506-78d02775ba45",
   "metadata": {},
   "outputs": [
    {
     "name": "stdout",
     "output_type": "stream",
     "text": [
      "(3.1007751937984493+0.7751937984496123j)\n"
     ]
    }
   ],
   "source": [
    "print(a/b)"
   ]
  },
  {
   "cell_type": "markdown",
   "id": "03e574bc-9747-46be-bde3-1cfe1ccf433c",
   "metadata": {},
   "source": [
    "## dynamic typing\n",
    "\n",
    "\n",
    "int a=22; (c,c++ )"
   ]
  },
  {
   "cell_type": "code",
   "execution_count": 23,
   "id": "6a37ddfa-0891-4e60-8d98-0fa540b85906",
   "metadata": {},
   "outputs": [
    {
     "name": "stdout",
     "output_type": "stream",
     "text": [
      "<class 'complex'>\n",
      "<class 'float'>\n"
     ]
    }
   ],
   "source": [
    "z=22+4j\n",
    "print(type(a))\n",
    "k= 33.24\n",
    "print(type(k))"
   ]
  },
  {
   "cell_type": "markdown",
   "id": "319a26e1-162c-4817-b793-45f88cf5a8ca",
   "metadata": {},
   "source": [
    "## strong typing ##"
   ]
  },
  {
   "cell_type": "code",
   "execution_count": 24,
   "id": "fde127e3-f09b-4f8d-897e-0854b992f121",
   "metadata": {},
   "outputs": [
    {
     "ename": "TypeError",
     "evalue": "can only concatenate str (not \"int\") to str",
     "output_type": "error",
     "traceback": [
      "\u001b[0;31m---------------------------------------------------------------------------\u001b[0m",
      "\u001b[0;31mTypeError\u001b[0m                                 Traceback (most recent call last)",
      "Input \u001b[0;32mIn [24]\u001b[0m, in \u001b[0;36m<cell line: 1>\u001b[0;34m()\u001b[0m\n\u001b[0;32m----> 1\u001b[0m \u001b[38;5;124;43m'\u001b[39;49m\u001b[38;5;124;43mday\u001b[39;49m\u001b[38;5;124;43m'\u001b[39;49m\u001b[38;5;241;43m+\u001b[39;49m\u001b[38;5;241;43m1\u001b[39;49m\n",
      "\u001b[0;31mTypeError\u001b[0m: can only concatenate str (not \"int\") to str"
     ]
    }
   ],
   "source": [
    "'day'+1"
   ]
  },
  {
   "cell_type": "code",
   "execution_count": 25,
   "id": "299f1300-69ea-4934-ad85-16e0e7eea697",
   "metadata": {},
   "outputs": [],
   "source": [
    "e,f,g,h =334,34.67,34+2j,False"
   ]
  },
  {
   "cell_type": "code",
   "execution_count": 26,
   "id": "c4c0d333-40ac-4ae9-91ed-3de04aa7aeb0",
   "metadata": {},
   "outputs": [
    {
     "data": {
      "text/plain": [
       "'2222'"
      ]
     },
     "execution_count": 26,
     "metadata": {},
     "output_type": "execute_result"
    }
   ],
   "source": [
    "'22'+'22'"
   ]
  },
  {
   "cell_type": "code",
   "execution_count": 27,
   "id": "562e9d3c-6020-4658-9e0e-e28a9ae301a3",
   "metadata": {},
   "outputs": [
    {
     "data": {
      "text/plain": [
       "'ashok3456'"
      ]
     },
     "execution_count": 27,
     "metadata": {},
     "output_type": "execute_result"
    }
   ],
   "source": [
    "c+'3456'"
   ]
  },
  {
   "cell_type": "code",
   "execution_count": 28,
   "id": "19e4f6b3-fe65-47b7-85ec-4c4de2f34ee1",
   "metadata": {},
   "outputs": [
    {
     "data": {
      "text/plain": [
       "'ashok6376398'"
      ]
     },
     "execution_count": 28,
     "metadata": {},
     "output_type": "execute_result"
    }
   ],
   "source": [
    "c+\"6376398\""
   ]
  },
  {
   "cell_type": "code",
   "execution_count": 29,
   "id": "d5d92776-df73-4223-8c23-03f96c80fe59",
   "metadata": {},
   "outputs": [],
   "source": [
    "e,f,g,h =334,34.67,34+2j,False"
   ]
  },
  {
   "cell_type": "code",
   "execution_count": 30,
   "id": "cc52f71a-8c86-4804-8bb4-c5318751e770",
   "metadata": {},
   "outputs": [
    {
     "data": {
      "text/plain": [
       "334"
      ]
     },
     "execution_count": 30,
     "metadata": {},
     "output_type": "execute_result"
    }
   ],
   "source": [
    "e"
   ]
  },
  {
   "cell_type": "code",
   "execution_count": 31,
   "id": "e0d9a2cf-c07e-4b80-9667-4007c90f7a0d",
   "metadata": {},
   "outputs": [],
   "source": [
    "ad_just =\"parvathi\""
   ]
  },
  {
   "cell_type": "code",
   "execution_count": 32,
   "id": "5acbc2c1-9cc0-4b11-8ac3-56aef270e86f",
   "metadata": {},
   "outputs": [
    {
     "ename": "NameError",
     "evalue": "name 'adust' is not defined",
     "output_type": "error",
     "traceback": [
      "\u001b[0;31m---------------------------------------------------------------------------\u001b[0m",
      "\u001b[0;31mNameError\u001b[0m                                 Traceback (most recent call last)",
      "Input \u001b[0;32mIn [32]\u001b[0m, in \u001b[0;36m<cell line: 1>\u001b[0;34m()\u001b[0m\n\u001b[0;32m----> 1\u001b[0m \u001b[43madust\u001b[49m\n",
      "\u001b[0;31mNameError\u001b[0m: name 'adust' is not defined"
     ]
    }
   ],
   "source": [
    "adust# =12"
   ]
  },
  {
   "cell_type": "code",
   "execution_count": 33,
   "id": "87b06e89-9c73-4497-9995-2e12ec705e7f",
   "metadata": {},
   "outputs": [],
   "source": [
    "par89 =67.78"
   ]
  },
  {
   "cell_type": "code",
   "execution_count": 34,
   "id": "672afdd4-e3bd-4672-a0da-fafb5e1eb3ab",
   "metadata": {},
   "outputs": [],
   "source": [
    "q =\" i am working as a software engineer\""
   ]
  },
  {
   "cell_type": "code",
   "execution_count": 35,
   "id": "73fb1db0-a51a-42dc-bacf-b15adb4ca74c",
   "metadata": {},
   "outputs": [
    {
     "data": {
      "text/plain": [
       "' i am working as a software engineer'"
      ]
     },
     "execution_count": 35,
     "metadata": {},
     "output_type": "execute_result"
    }
   ],
   "source": [
    "q[0:100]"
   ]
  },
  {
   "cell_type": "code",
   "execution_count": 36,
   "id": "ab724d8a-edb8-47ae-84c0-5c5927aac658",
   "metadata": {},
   "outputs": [
    {
     "data": {
      "text/plain": [
       "'reenigne erawtfos a sa gnikrow ma i '"
      ]
     },
     "execution_count": 36,
     "metadata": {},
     "output_type": "execute_result"
    }
   ],
   "source": [
    "q[::-1]"
   ]
  },
  {
   "cell_type": "code",
   "execution_count": 37,
   "id": "e4b9e24d-9865-4eb8-8ae9-0243801bc198",
   "metadata": {},
   "outputs": [
    {
     "data": {
      "text/plain": [
       "34.0"
      ]
     },
     "execution_count": 37,
     "metadata": {},
     "output_type": "execute_result"
    }
   ],
   "source": [
    "g.real"
   ]
  },
  {
   "cell_type": "code",
   "execution_count": 38,
   "id": "0fc2c50e-ba6f-4dd9-8a36-5b1064f56cc3",
   "metadata": {},
   "outputs": [
    {
     "data": {
      "text/plain": [
       "' I AM WORKING AS A SOFTWARE ENGINEER'"
      ]
     },
     "execution_count": 38,
     "metadata": {},
     "output_type": "execute_result"
    }
   ],
   "source": [
    "q.upper()"
   ]
  },
  {
   "cell_type": "code",
   "execution_count": 39,
   "id": "b1b80739-2f31-43aa-b459-3bfd436481cd",
   "metadata": {},
   "outputs": [
    {
     "data": {
      "text/plain": [
       "' i am working as a software engineer'"
      ]
     },
     "execution_count": 39,
     "metadata": {},
     "output_type": "execute_result"
    }
   ],
   "source": [
    "q.lower()"
   ]
  },
  {
   "cell_type": "code",
   "execution_count": 43,
   "id": "cceb050b-af4b-4a30-a9d0-529354b3354c",
   "metadata": {},
   "outputs": [
    {
     "name": "stdin",
     "output_type": "stream",
     "text": [
      " ashok\n"
     ]
    }
   ],
   "source": [
    "w =input()\n",
    "s =78*56"
   ]
  },
  {
   "cell_type": "code",
   "execution_count": 41,
   "id": "7dfed872-83c0-4fce-b806-73139f699e1b",
   "metadata": {},
   "outputs": [],
   "source": [
    "language ='python'\n",
    "print =('hi welcome to class' + language +'language')"
   ]
  },
  {
   "cell_type": "code",
   "execution_count": 1,
   "id": "475c002e-e4ef-4c5c-87db-4a54f62b2e8a",
   "metadata": {},
   "outputs": [
    {
     "name": "stdout",
     "output_type": "stream",
     "text": [
      "hi welcome to class {language} language\n"
     ]
    }
   ],
   "source": [
    "language ='java script'\n",
    "print (\"hi welcome to class {language} language\")"
   ]
  },
  {
   "cell_type": "code",
   "execution_count": null,
   "id": "42bd88ec-9c6f-430d-aecd-fda3c0ca2b9e",
   "metadata": {},
   "outputs": [],
   "source": []
  },
  {
   "cell_type": "code",
   "execution_count": null,
   "id": "afb02c26-f79d-4c4a-b345-1b4dbc58286c",
   "metadata": {},
   "outputs": [],
   "source": []
  }
 ],
 "metadata": {
  "kernelspec": {
   "display_name": "Python 3 (ipykernel)",
   "language": "python",
   "name": "python3"
  },
  "language_info": {
   "codemirror_mode": {
    "name": "ipython",
    "version": 3
   },
   "file_extension": ".py",
   "mimetype": "text/x-python",
   "name": "python",
   "nbconvert_exporter": "python",
   "pygments_lexer": "ipython3",
   "version": "3.9.12"
  }
 },
 "nbformat": 4,
 "nbformat_minor": 5
}
