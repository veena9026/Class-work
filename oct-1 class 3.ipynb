{
 "cells": [
  {
   "cell_type": "markdown",
   "id": "affe1108-1bed-43b8-9d8a-77f7d439f951",
   "metadata": {},
   "source": [
    "### operators"
   ]
  },
  {
   "cell_type": "markdown",
   "id": "07d4feba-a143-4642-8fc9-2b4b90d9f061",
   "metadata": {},
   "source": [
    "### 1.logical\n",
    "* not -- unary negation\n",
    "* and-----conditional and\n",
    "* or--condit"
   ]
  },
  {
   "cell_type": "code",
   "execution_count": 70,
   "id": "afd5c824-db53-4dec-b53c-f19f7a8376ef",
   "metadata": {},
   "outputs": [
    {
     "name": "stdout",
     "output_type": "stream",
     "text": [
      "True\n"
     ]
    }
   ],
   "source": [
    "start =True\n",
    "print(start)"
   ]
  },
  {
   "cell_type": "code",
   "execution_count": 71,
   "id": "c43adcdf-d79c-4aaa-8c75-10aa666b17c2",
   "metadata": {},
   "outputs": [
    {
     "name": "stdout",
     "output_type": "stream",
     "text": [
      "False\n"
     ]
    }
   ],
   "source": [
    "start =True\n",
    "print(not start)"
   ]
  },
  {
   "cell_type": "code",
   "execution_count": 72,
   "id": "d952dad1-02e5-432e-a0a7-294ec36c6cb4",
   "metadata": {},
   "outputs": [
    {
     "name": "stdout",
     "output_type": "stream",
     "text": [
      "lets concentrate\n"
     ]
    }
   ],
   "source": [
    "class_started =True\n",
    "\n",
    "if class_started:\n",
    "    print('lets concentrate')"
   ]
  },
  {
   "cell_type": "code",
   "execution_count": 73,
   "id": "a7ccb3bf-0806-4413-9f70-74a750965957",
   "metadata": {},
   "outputs": [
    {
     "name": "stdout",
     "output_type": "stream",
     "text": [
      "lets revise previous class\n"
     ]
    }
   ],
   "source": [
    "class_started =False\n",
    "\n",
    "if class_started:\n",
    "    print(\"lets concentrate class\")\n",
    "else:\n",
    "    print(\"lets revise previous class\")\n",
    "    "
   ]
  },
  {
   "cell_type": "raw",
   "id": "4075d415-0118-41ab-950c-31bb08afa3c5",
   "metadata": {},
   "source": [
    "## if-- condtion:true\n",
    "print--exceute  this statement\n",
    "\n",
    "--else  conditon:if condition is not true\n",
    "print(if condition is not true excute the else statement)\n"
   ]
  },
  {
   "cell_type": "code",
   "execution_count": 74,
   "id": "f907f625-6f01-4ba5-95d7-ff9fbabab4cc",
   "metadata": {},
   "outputs": [
    {
     "name": "stdout",
     "output_type": "stream",
     "text": [
      "lets do work inhome\n"
     ]
    }
   ],
   "source": [
    "raining =True \n",
    "\n",
    "if raining :\n",
    "    print ('lets do work inhome')\n",
    "else:\n",
    "    print('lets go to office')\n",
    "    "
   ]
  },
  {
   "cell_type": "code",
   "execution_count": 75,
   "id": "8a096fe1-11b4-49ce-b609-c4a69eff8256",
   "metadata": {},
   "outputs": [
    {
     "name": "stdout",
     "output_type": "stream",
     "text": [
      "lets work in home\n"
     ]
    }
   ],
   "source": [
    "raining =True\n",
    "\n",
    "if  not raining:\n",
    "    print(\"lets go to office \")\n",
    "else:\n",
    "    print(\"lets work in home\")"
   ]
  },
  {
   "cell_type": "code",
   "execution_count": 76,
   "id": "6a127399-02b4-40bf-bb8e-512251aab3b2",
   "metadata": {},
   "outputs": [
    {
     "name": "stdout",
     "output_type": "stream",
     "text": [
      "lets go to office\n"
     ]
    }
   ],
   "source": [
    "raining =False\n",
    "\n",
    "if raining :\n",
    "    print ('lets do work inhome')\n",
    "else:\n",
    "    print('lets go to office')"
   ]
  },
  {
   "cell_type": "code",
   "execution_count": 77,
   "id": "3910ace7-4c09-44ba-b369-e95c85816e23",
   "metadata": {},
   "outputs": [
    {
     "name": "stdout",
     "output_type": "stream",
     "text": [
      "since its raining..\n",
      "lets do work inhome\n"
     ]
    }
   ],
   "source": [
    "raining =True \n",
    "\n",
    "if raining :\n",
    "    print('since its raining..')\n",
    "    print ('lets do work inhome')\n",
    "else:\n",
    "    print('since its not raining..')\n",
    "    print('lets go to office')"
   ]
  },
  {
   "cell_type": "code",
   "execution_count": 78,
   "id": "8b47c022-ffb8-4b93-9b06-08ee8511e7bf",
   "metadata": {},
   "outputs": [
    {
     "name": "stdout",
     "output_type": "stream",
     "text": [
      "since its not raining..\n",
      "lets go to office\n"
     ]
    }
   ],
   "source": [
    "raining =False\n",
    "\n",
    "if raining :\n",
    "    print('since its raining..')\n",
    "    print ('lets do work inhome')\n",
    "else:\n",
    "    print('since its not raining..')\n",
    "    print('lets go to office')"
   ]
  },
  {
   "cell_type": "code",
   "execution_count": 79,
   "id": "6f8f57af-656f-42ae-ba84-09b675a68fe9",
   "metadata": {},
   "outputs": [
    {
     "name": "stdout",
     "output_type": "stream",
     "text": [
      "since its  raining..\n",
      "lets go to office\n"
     ]
    }
   ],
   "source": [
    "raining =True \n",
    "\n",
    "if not raining :\n",
    "    print('since its  not raining..')\n",
    "    print ('lets do work inhome')\n",
    "else:\n",
    "    print('since its  raining..')\n",
    "    print('lets go to office')"
   ]
  },
  {
   "cell_type": "code",
   "execution_count": 80,
   "id": "07f5551b-2417-4bae-b109-c1e5d0cc5454",
   "metadata": {},
   "outputs": [
    {
     "name": "stdout",
     "output_type": "stream",
     "text": [
      "since its  not raining..\n",
      "lets do work inhome\n"
     ]
    }
   ],
   "source": [
    "raining =False\n",
    "\n",
    "if not raining :\n",
    "    print('since its  not raining..')\n",
    "    print ('lets do work inhome')\n",
    "else:\n",
    "    print('since its  raining..')\n",
    "    print('lets go to office')"
   ]
  },
  {
   "cell_type": "code",
   "execution_count": 81,
   "id": "84b74abf-98d4-4371-a910-00a9298e30df",
   "metadata": {},
   "outputs": [
    {
     "name": "stdout",
     "output_type": "stream",
     "text": [
      "lets revise\n"
     ]
    }
   ],
   "source": [
    "class_stated=True\n",
    "if class_started:\n",
    "    print('lets concentrate')\n",
    "else:\n",
    "    print('lets revise')"
   ]
  },
  {
   "cell_type": "code",
   "execution_count": 82,
   "id": "4ffc4646-db2c-41bd-8da2-49c6207cb369",
   "metadata": {},
   "outputs": [
    {
     "name": "stdout",
     "output_type": "stream",
     "text": [
      "since class started..\n",
      "lets concentrate\n"
     ]
    }
   ],
   "source": [
    "class_started=True\n",
    "if not class_started:\n",
    "    print('since class is not started..')\n",
    "    print('lets revise')\n",
    "else:    \n",
    "    print('since class started..')\n",
    "    print('lets concentrate')"
   ]
  },
  {
   "cell_type": "code",
   "execution_count": 83,
   "id": "b106e0e3-0ba7-49f1-b5a5-7a34741a10fa",
   "metadata": {},
   "outputs": [
    {
     "name": "stdout",
     "output_type": "stream",
     "text": [
      "since class  started..\n",
      "lets concentrate\n"
     ]
    }
   ],
   "source": [
    "class_stated=False\n",
    "\n",
    "if not class_started:\n",
    "    print('since class is not started..')\n",
    "    print('lets revise')\n",
    "else:\n",
    "    print('since class  started..')\n",
    "    print('lets concentrate')"
   ]
  },
  {
   "cell_type": "code",
   "execution_count": 87,
   "id": "02cf9821-a52e-4788-8837-393d9552baa9",
   "metadata": {},
   "outputs": [
    {
     "name": "stdin",
     "output_type": "stream",
     "text": [
      "hey friend ,is class started/:[0/1] 1\n"
     ]
    },
    {
     "name": "stdout",
     "output_type": "stream",
     "text": [
      "since class started..\n",
      "lets concentrate\n"
     ]
    }
   ],
   "source": [
    "class_stated= bool(int(input('hey friend ,is class started/:[0/1]')))\n",
    "\n",
    "if  class_started:\n",
    "    print('since class started..')\n",
    "    print('lets concentrate')\n",
    "else:\n",
    "    print('since class is not started..')\n",
    "    print('lets revise')"
   ]
  },
  {
   "cell_type": "code",
   "execution_count": 88,
   "id": "99acbd93-8994-4780-b21c-19a0584c288e",
   "metadata": {},
   "outputs": [
    {
     "name": "stdin",
     "output_type": "stream",
     "text": [
      "hey friend is class started? :[True-1/False-0] 0\n"
     ]
    },
    {
     "name": "stdout",
     "output_type": "stream",
     "text": [
      "since class is not started\n",
      "let revise\n"
     ]
    }
   ],
   "source": [
    "class_started= bool(int(input(\"hey friend is class started? :[True-1/False-0]\")))\n",
    "\n",
    "if  class_started:\n",
    "    print(\"since class  started\")\n",
    "    print(\"let concentrate\")\n",
    "else:\n",
    "    print('since class is not started')  \n",
    "    print(\"let revise\")"
   ]
  },
  {
   "cell_type": "markdown",
   "id": "d4ca53fe-a930-40ae-bc43-6f5139eb3270",
   "metadata": {},
   "source": [
    "## and ---conditional AND\n",
    " * and use ---both conditon must be true-- written True"
   ]
  },
  {
   "cell_type": "code",
   "execution_count": 89,
   "id": "866215db-e2bc-40c2-92a9-2924341e6515",
   "metadata": {},
   "outputs": [
    {
     "data": {
      "text/plain": [
       "False"
      ]
     },
     "execution_count": 89,
     "metadata": {},
     "output_type": "execute_result"
    }
   ],
   "source": [
    "True and False"
   ]
  },
  {
   "cell_type": "code",
   "execution_count": 90,
   "id": "978ec0ef-ca55-4485-b7e5-d5aa58ddacc9",
   "metadata": {},
   "outputs": [
    {
     "data": {
      "text/plain": [
       "False"
      ]
     },
     "execution_count": 90,
     "metadata": {},
     "output_type": "execute_result"
    }
   ],
   "source": [
    "True and False"
   ]
  },
  {
   "cell_type": "code",
   "execution_count": 91,
   "id": "73113d50-5d6a-404e-a2cf-d7d201b4befb",
   "metadata": {},
   "outputs": [
    {
     "name": "stdout",
     "output_type": "stream",
     "text": [
      "its bd dish \n",
      "because vegetable present:False\n",
      "and salt_present:False\n"
     ]
    }
   ],
   "source": [
    "vegetable_present =False\n",
    "salt_present=False\n",
    "\n",
    "if vegetable_present and salt_present:\n",
    "    print('its good dish')\n",
    "else:\n",
    "        print('its bd dish ')\n",
    "        print(f\"because vegetable present:{vegetable_present}\")\n",
    "        print(f'and salt_present:{salt_present}')"
   ]
  },
  {
   "cell_type": "code",
   "execution_count": 92,
   "id": "704cf880-d450-42d6-bdf2-d95cc58e3045",
   "metadata": {},
   "outputs": [
    {
     "name": "stdout",
     "output_type": "stream",
     "text": [
      "its a bad dish\n",
      "because vegetable :False\n",
      "and salt :True\n"
     ]
    }
   ],
   "source": [
    "vegetable=False\n",
    "salt=True\n",
    "\n",
    "if vegetable and salt :\n",
    "    print(\"it is a good dish\")\n",
    "else:\n",
    "    print(\"its a bad dish\")\n",
    "    print(f\"because vegetable :{vegetable}\")\n",
    "    print(f\"and salt :{salt}\")"
   ]
  },
  {
   "cell_type": "code",
   "execution_count": 93,
   "id": "c7246b09-50b0-410c-8f21-5c5c1cd2ccc5",
   "metadata": {},
   "outputs": [
    {
     "name": "stdout",
     "output_type": "stream",
     "text": [
      "its good dish\n"
     ]
    }
   ],
   "source": [
    "vegetable_present =True\n",
    "salt_present=True\n",
    "\n",
    "if vegetable_present and salt_present:\n",
    "    print('its good dish')\n",
    "else:\n",
    "        print('its bad dish ')\n",
    "        print(f\"because vegetable present:{vegetable_present}\")\n",
    "        print(f'and salt_present:{salt_present}')"
   ]
  },
  {
   "cell_type": "code",
   "execution_count": null,
   "id": "5e71b377-cdec-42a9-95f5-11c393f1e7ad",
   "metadata": {},
   "outputs": [],
   "source": []
  },
  {
   "cell_type": "markdown",
   "id": "ff369f01-2524-4e8b-9b90-74d8f2a5e47f",
   "metadata": {},
   "source": [
    "### or ----conditonal OR\n",
    "\n",
    "* if any one condition is true --True will be wriitten"
   ]
  },
  {
   "cell_type": "code",
   "execution_count": 53,
   "id": "d033b15b-7da3-4684-aabf-9d7f7384c5cc",
   "metadata": {},
   "outputs": [
    {
     "data": {
      "text/plain": [
       "True"
      ]
     },
     "execution_count": 53,
     "metadata": {},
     "output_type": "execute_result"
    }
   ],
   "source": [
    "True or False"
   ]
  },
  {
   "cell_type": "code",
   "execution_count": 54,
   "id": "63997c10-17bb-4674-88b5-c13ccee525cf",
   "metadata": {},
   "outputs": [
    {
     "data": {
      "text/plain": [
       "True"
      ]
     },
     "execution_count": 54,
     "metadata": {},
     "output_type": "execute_result"
    }
   ],
   "source": [
    "True or True"
   ]
  },
  {
   "cell_type": "code",
   "execution_count": 55,
   "id": "70d40260-768d-4b5b-b4f8-1b8e8de20314",
   "metadata": {},
   "outputs": [
    {
     "data": {
      "text/plain": [
       "False"
      ]
     },
     "execution_count": 55,
     "metadata": {},
     "output_type": "execute_result"
    }
   ],
   "source": [
    "False or False"
   ]
  },
  {
   "cell_type": "code",
   "execution_count": 56,
   "id": "d8f16cf2-4edb-4f19-b232-3389461533db",
   "metadata": {},
   "outputs": [
    {
     "data": {
      "text/plain": [
       "True"
      ]
     },
     "execution_count": 56,
     "metadata": {},
     "output_type": "execute_result"
    }
   ],
   "source": [
    "False or True"
   ]
  },
  {
   "cell_type": "code",
   "execution_count": 57,
   "id": "fb8b6ed9-b708-4e16-aa85-b66ab5f2b1e9",
   "metadata": {},
   "outputs": [
    {
     "name": "stdout",
     "output_type": "stream",
     "text": [
      "i can travel 100 KMs in a day\n"
     ]
    }
   ],
   "source": [
    "car=True\n",
    "bike=False\n",
    "\n",
    "if car or bike:\n",
    "    print(\"i can travel 100 KMs in a day\")\n",
    "else:\n",
    "    print(\"i can't travel and i will be struck in traffic\")"
   ]
  },
  {
   "cell_type": "code",
   "execution_count": 58,
   "id": "46bd57cb-feb9-4dba-b081-9ea9e238b791",
   "metadata": {},
   "outputs": [
    {
     "name": "stdout",
     "output_type": "stream",
     "text": [
      "iam struck as i do not have car or bike!\n"
     ]
    }
   ],
   "source": [
    "car =False\n",
    "bike=False\n",
    "if car or bike :\n",
    "    print('ican travel 100kms in a day')\n",
    "else:\n",
    "    print('iam struck as i do not have car or bike!')"
   ]
  },
  {
   "cell_type": "code",
   "execution_count": 59,
   "id": "a8ccc00e-9ee5-4e0b-b0a0-ce55c7505c00",
   "metadata": {},
   "outputs": [
    {
     "name": "stdout",
     "output_type": "stream",
     "text": [
      "ican travel 100kms in a day\n"
     ]
    }
   ],
   "source": [
    "car =True\n",
    "bike=True\n",
    "if car or bike :\n",
    "    print('ican travel 100kms in a day')\n",
    "else:\n",
    "    print('iam struck as i do not have car or bike!')"
   ]
  },
  {
   "cell_type": "code",
   "execution_count": 60,
   "id": "8b0dbd45-1691-4c4b-8027-fedf6fc6f88f",
   "metadata": {},
   "outputs": [
    {
     "name": "stdout",
     "output_type": "stream",
     "text": [
      "he/she is not eligible for exam\n"
     ]
    }
   ],
   "source": [
    "attendance=60\n",
    "assignment=80\n",
    "\n",
    "if attendance >70 and assignment >75 :\n",
    "    print(\"he/she will be eligble for final exam\")\n",
    "else:\n",
    "    print(\"he/she is not eligible for exam\")\n",
    "    "
   ]
  },
  {
   "cell_type": "code",
   "execution_count": 61,
   "id": "f474a4b7-c7ad-48d4-9126-dace966597fb",
   "metadata": {},
   "outputs": [
    {
     "name": "stdout",
     "output_type": "stream",
     "text": [
      "attendance criteria met /:True\n",
      "assignment criteria met/:True\n",
      "student eligible for final exam\n"
     ]
    }
   ],
   "source": [
    "attendance =80\n",
    "asignment =90\n",
    " \n",
    "print(f\"attendance criteria met /:{attendance>=70}\")\n",
    "print(f'assignment criteria met/:{assignment>=75}')\n",
    "if attendance >=75 and assignment>=70:\n",
    "    print ('student eligible for final exam')\n",
    "else :\n",
    "    print('student not eligible')"
   ]
  },
  {
   "cell_type": "code",
   "execution_count": 62,
   "id": "b97b595e-ecc3-480b-a200-be7005607827",
   "metadata": {},
   "outputs": [
    {
     "name": "stdout",
     "output_type": "stream",
     "text": [
      "student eligible for final exam\n"
     ]
    }
   ],
   "source": [
    "attendance =76\n",
    "assignment=71\n",
    " \n",
    "if attendance >=75 and assignment>=70:\n",
    "    print ('student eligible for final exam')\n",
    "else :\n",
    "    print('student not eligible')"
   ]
  },
  {
   "cell_type": "code",
   "execution_count": 63,
   "id": "2b03dbef-4d85-4d7f-9a07-ed732d86feab",
   "metadata": {},
   "outputs": [
    {
     "name": "stdout",
     "output_type": "stream",
     "text": [
      "ask from a dad for debit or credit card\n",
      "cash on delivery\n"
     ]
    }
   ],
   "source": [
    "own_credit_card=False\n",
    "own_debit_card=False\n",
    "\n",
    "if own_credit_card or own_debit_card:\n",
    "    print(f\"proceed for payment\")\n",
    "else:\n",
    "    print(\"ask from a dad for debit or credit card\")\n",
    "    \n",
    "    print(\"cash on delivery\")"
   ]
  },
  {
   "cell_type": "code",
   "execution_count": 64,
   "id": "08f7c53d-ecbd-43ad-8f11-8a5a9c86d471",
   "metadata": {},
   "outputs": [
    {
     "name": "stdout",
     "output_type": "stream",
     "text": [
      "proceed for payment\n"
     ]
    }
   ],
   "source": [
    "own_credit_card=False\n",
    "own_debit_card=False\n",
    "NET_BANKING=True\n",
    "if own_credit_card or own_debit_card or NET_BANKING:\n",
    "    print(f\"proceed for payment\")\n",
    "else:\n",
    "    print(\"ask from a dad for debit or credit card\")\n",
    "    \n",
    "    print(\"cash on delivery\")"
   ]
  },
  {
   "cell_type": "code",
   "execution_count": 65,
   "id": "b3c17742-91ca-47e8-886f-b1d42d58be69",
   "metadata": {},
   "outputs": [
    {
     "name": "stdout",
     "output_type": "stream",
     "text": [
      "ask from  a dad for debit or credit card?\n",
      "cash on delivery\n"
     ]
    }
   ],
   "source": [
    "own_credit_card =False\n",
    "own_debit_card =False\n",
    "\n",
    "if own_credit_card or own_debit_card :\n",
    "    print('proceed for further')\n",
    "else:\n",
    "    print ('ask from  a dad for debit or credit card?')\n",
    "    print('cash on delivery')       "
   ]
  },
  {
   "cell_type": "code",
   "execution_count": 66,
   "id": "de329f43-14b9-4d85-9582-db0eec678df6",
   "metadata": {},
   "outputs": [
    {
     "name": "stdout",
     "output_type": "stream",
     "text": [
      "proceed for further\n"
     ]
    }
   ],
   "source": [
    "own_credit_card =False\n",
    "own_debit_card =True\n",
    "\n",
    "if own_credit_card or own_debit_card :\n",
    "    print('proceed for further')\n",
    "else:\n",
    "    print ('ask from  a dad for debit or credit card?')\n",
    "    print('cash on delivery')   "
   ]
  },
  {
   "cell_type": "code",
   "execution_count": 67,
   "id": "64ed10d7-99c7-4d06-900a-9429b52e5284",
   "metadata": {},
   "outputs": [
    {
     "name": "stdout",
     "output_type": "stream",
     "text": [
      "attendance criteria met/?:False\n",
      "assignment criteria met?:False\n",
      "student eligible to attend exam\n"
     ]
    }
   ],
   "source": [
    "attendance =70\n",
    "assignment =40\n",
    "\n",
    "\n",
    "print(f'attendance criteria met/?:{attendance >=75}')\n",
    "print(f'assignment criteria met?:{assignment >= 70}')\n",
    "if attendance >=70 or assignment >=69:\n",
    "        print('student eligible to attend exam')\n",
    "else:\n",
    "    print('not eligible to attend exam')"
   ]
  },
  {
   "cell_type": "code",
   "execution_count": 68,
   "id": "544db3f2-f3bf-4a75-8e1c-c8f09ff4cbf2",
   "metadata": {},
   "outputs": [
    {
     "name": "stdout",
     "output_type": "stream",
     "text": [
      "proceed for further payment\n"
     ]
    }
   ],
   "source": [
    "own_credit_card =False\n",
    "own_dedit_card =False\n",
    "net_banking =True\n",
    "\n",
    "if own_credit_card or own_debit_card :\n",
    "    if net_banking:\n",
    "        print('proceed for further payment')\n",
    "else:\n",
    "    print ('ask from  a dad for debit or credit card or net banking?')\n",
    "    print('cash on delivery')   "
   ]
  },
  {
   "cell_type": "markdown",
   "id": "b2c981f9-ec02-4f9e-b73d-7243f72c29e1",
   "metadata": {},
   "source": [
    "### and --or use condition"
   ]
  },
  {
   "cell_type": "code",
   "execution_count": 69,
   "id": "7ea40717-8d48-4bba-84cb-062817321ed0",
   "metadata": {},
   "outputs": [
    {
     "name": "stdout",
     "output_type": "stream",
     "text": [
      "attendance criteria met/:True\n",
      "assignment criteria met/:False\n",
      "sports criteriamet/:False\n",
      "not eligible for exam\n"
     ]
    }
   ],
   "source": [
    "attendance =80\n",
    "assignment =65\n",
    "sports_player=False\n",
    "print(f\"attendance criteria met/:{attendance>=70}\")\n",
    "print(f\"assignment criteria met/:{assignment>=75}\")\n",
    "print(f\"sports criteriamet/:{sports_player}\")\n",
    "\n",
    "if attendance >=70 and assignment >=75:\n",
    "    if sports_player:\n",
    "        print(\"eligible for a exam\")\n",
    "    else:   \n",
    "        print(\"eligible for a exam\")\n",
    "else:\n",
    "    print(\"not eligible for exam\")"
   ]
  },
  {
   "cell_type": "code",
   "execution_count": 6,
   "id": "1fe41cc8-ced4-4225-a36f-59e71abc81c8",
   "metadata": {},
   "outputs": [
    {
     "name": "stdout",
     "output_type": "stream",
     "text": [
      "attendance criteria met/?:False\n",
      "assignment criteria met?:False\n",
      " sports criteria met?:True\n",
      "not eligible to attend exam\n"
     ]
    }
   ],
   "source": [
    "attendance =70\n",
    "assignment =40\n",
    "sports_player =True\n",
    "\n",
    "print(f'attendance criteria met/?:{attendance >=75}')\n",
    "print(f'assignment criteria met?:{assignment >= 70}')\n",
    "print(f' sports criteria met?:{sports_player}') \n",
    "if attendance >=75 and assignment >=70:\n",
    "    if sport_player :\n",
    "          print('the student is eligible to appear in exam')\n",
    "    else:\n",
    "          print('eligible to attend exam')\n",
    "else:\n",
    "      print('not eligible to attend exam')"
   ]
  },
  {
   "cell_type": "code",
   "execution_count": 4,
   "id": "36d36a31-d1c5-47bc-a89a-ad7cf3ad5f33",
   "metadata": {},
   "outputs": [
    {
     "name": "stdout",
     "output_type": "stream",
     "text": [
      "attendance criteria met/?:True\n",
      "assignment criteria met?:True\n",
      " sports criteria met?:True\n",
      "the student  can get grace marks =+10\n"
     ]
    }
   ],
   "source": [
    "attendance =75\n",
    "assignment =79\n",
    "sports_player =True\n",
    "\n",
    "print(f'attendance criteria met/?:{attendance >=75}')\n",
    "print(f'assignment criteria met?:{assignment >= 70}')\n",
    "print(f' sports criteria met?:{sports_player}') \n",
    "if attendance >=75 and assignment >=70:\n",
    "    if sports_player :\n",
    "          print('the student  can get grace marks =+10')\n",
    "    else:\n",
    "          print('eligible to attend exam but not extra grace marks')\n",
    "else:\n",
    "      print('not eligible to attend exam')"
   ]
  },
  {
   "cell_type": "code",
   "execution_count": 5,
   "id": "ffb6fabf-358e-4c67-8b01-e67e18fa7f0d",
   "metadata": {},
   "outputs": [
    {
     "name": "stdout",
     "output_type": "stream",
     "text": [
      "attendance criteria met/?:True\n",
      "assignment criteria met?:True\n",
      " sports criteria met?:False\n",
      "eligible to attend exam but not extra grace marks\n"
     ]
    }
   ],
   "source": [
    "attendance =75\n",
    "assignment =79\n",
    "sports_player =False\n",
    "\n",
    "print(f'attendance criteria met/?:{attendance >=75}')\n",
    "print(f'assignment criteria met?:{assignment >= 70}')\n",
    "print(f' sports criteria met?:{sports_player}') \n",
    "if attendance >=75 and assignment >=70:\n",
    "    if sports_player :\n",
    "          print('the student  can get grace marks =+10')\n",
    "    else:\n",
    "          print('eligible to attend exam but not extra grace marks')\n",
    "else:\n",
    "      print('not eligible to attend exam')"
   ]
  },
  {
   "cell_type": "code",
   "execution_count": null,
   "id": "6d790aca-d0f6-4e24-bb02-983acb277059",
   "metadata": {},
   "outputs": [],
   "source": []
  },
  {
   "cell_type": "markdown",
   "id": "d3065880-9158-4f0b-b1f9-bcf198198bc9",
   "metadata": {},
   "source": [
    "### equality operator \n",
    "* is \n",
    "* is not\n",
    "* ==\n",
    "* !="
   ]
  },
  {
   "cell_type": "code",
   "execution_count": 1,
   "id": "af1661a2-5b2a-4446-b079-9762b6411955",
   "metadata": {},
   "outputs": [
    {
     "name": "stdout",
     "output_type": "stream",
     "text": [
      "a and b are same \n"
     ]
    }
   ],
   "source": [
    "a=1\n",
    "b=1\n",
    "\n",
    "if a is b:\n",
    "    print ('a and b are same ')\n",
    "else:\n",
    "        print ('a and b are not same')"
   ]
  },
  {
   "cell_type": "code",
   "execution_count": 2,
   "id": "f0495151-248b-4fe7-8d69-4f833784b715",
   "metadata": {},
   "outputs": [
    {
     "name": "stdout",
     "output_type": "stream",
     "text": [
      "a and b are not same\n"
     ]
    }
   ],
   "source": [
    "a=1\n",
    "b=3\n",
    "\n",
    "if a is b:\n",
    "    print ('a and b are same ')\n",
    "else:\n",
    "        print ('a and b are not same')"
   ]
  },
  {
   "cell_type": "code",
   "execution_count": 3,
   "id": "83db013b-6d8c-46d6-8fc6-75dfd1c2be36",
   "metadata": {},
   "outputs": [
    {
     "name": "stdout",
     "output_type": "stream",
     "text": [
      "a and b are not same \n"
     ]
    }
   ],
   "source": [
    "a=1\n",
    "b=1\n",
    "\n",
    "if a is b:\n",
    "    print ('a and b are not same ')\n",
    "else:\n",
    "        print ('a and b are same')"
   ]
  },
  {
   "cell_type": "code",
   "execution_count": 4,
   "id": "c79fe479-41f1-4ba1-93d7-7899414392c3",
   "metadata": {},
   "outputs": [
    {
     "name": "stdout",
     "output_type": "stream",
     "text": [
      "a and b are same \n"
     ]
    }
   ],
   "source": [
    "a=1\n",
    "b=1\n",
    "\n",
    "if a == b:\n",
    "    print ('a and b are same ')\n",
    "else:\n",
    "        print ('a and b are not same')"
   ]
  },
  {
   "cell_type": "code",
   "execution_count": 5,
   "id": "593693d3-0347-4c0e-b423-56e126b5254c",
   "metadata": {},
   "outputs": [
    {
     "name": "stdout",
     "output_type": "stream",
     "text": [
      "a and b are not same\n"
     ]
    }
   ],
   "source": [
    "a=1\n",
    "b=1\n",
    "\n",
    "if a != b:\n",
    "    print ('a and b are same ')\n",
    "else:\n",
    "        print ('a and b are not same')"
   ]
  },
  {
   "cell_type": "code",
   "execution_count": 6,
   "id": "83b85be6-b5ca-419d-90a8-488006ba4c59",
   "metadata": {},
   "outputs": [
    {
     "data": {
      "text/plain": [
       "False"
      ]
     },
     "execution_count": 6,
     "metadata": {},
     "output_type": "execute_result"
    }
   ],
   "source": [
    "a=1.0\n",
    "b=1.0\n",
    "\n",
    "a is b"
   ]
  },
  {
   "cell_type": "code",
   "execution_count": 7,
   "id": "b30e74a8-1a63-4f8d-92e8-4e51a810b0fa",
   "metadata": {},
   "outputs": [
    {
     "data": {
      "text/plain": [
       "140274238710448"
      ]
     },
     "execution_count": 7,
     "metadata": {},
     "output_type": "execute_result"
    }
   ],
   "source": [
    "id(a)"
   ]
  },
  {
   "cell_type": "code",
   "execution_count": 8,
   "id": "32c80e3b-6e94-44e2-8f9c-1a359853fa83",
   "metadata": {},
   "outputs": [
    {
     "data": {
      "text/plain": [
       "140274283090352"
      ]
     },
     "execution_count": 8,
     "metadata": {},
     "output_type": "execute_result"
    }
   ],
   "source": [
    "id(b)"
   ]
  },
  {
   "cell_type": "code",
   "execution_count": null,
   "id": "d9fc0883-094f-4f28-9305-81c8a0644905",
   "metadata": {},
   "outputs": [],
   "source": []
  },
  {
   "cell_type": "code",
   "execution_count": 11,
   "id": "67a2ff98-1fb2-4cc6-86fb-b2b38d98a356",
   "metadata": {},
   "outputs": [
    {
     "data": {
      "text/plain": [
       "True"
      ]
     },
     "execution_count": 11,
     "metadata": {},
     "output_type": "execute_result"
    }
   ],
   "source": [
    "e=\"ashok\"\n",
    "f=\"ashok\"\n",
    "\n",
    "e is f"
   ]
  },
  {
   "cell_type": "code",
   "execution_count": 10,
   "id": "84bf0399-284d-4aa9-b1da-214188d4477a",
   "metadata": {},
   "outputs": [
    {
     "data": {
      "text/plain": [
       "False"
      ]
     },
     "execution_count": 10,
     "metadata": {},
     "output_type": "execute_result"
    }
   ],
   "source": [
    "a= ['ashok','veena']\n",
    "b=['ashok','veena']\n",
    "   \n",
    "a is b\n",
    "##because it has d/f address id in list(values add further)\n"
   ]
  },
  {
   "cell_type": "code",
   "execution_count": 14,
   "id": "d8749d92-2d71-4005-940f-399997324c70",
   "metadata": {},
   "outputs": [
    {
     "data": {
      "text/plain": [
       "True"
      ]
     },
     "execution_count": 14,
     "metadata": {},
     "output_type": "execute_result"
    }
   ],
   "source": [
    "a== b"
   ]
  },
  {
   "cell_type": "code",
   "execution_count": 12,
   "id": "a07e3828-2497-44e3-99e6-d287351d322e",
   "metadata": {},
   "outputs": [
    {
     "data": {
      "text/plain": [
       "140274238638848"
      ]
     },
     "execution_count": 12,
     "metadata": {},
     "output_type": "execute_result"
    }
   ],
   "source": [
    "id(a)"
   ]
  },
  {
   "cell_type": "code",
   "execution_count": 13,
   "id": "16b3797f-819a-4b72-a29d-a6e733f6b727",
   "metadata": {},
   "outputs": [
    {
     "data": {
      "text/plain": [
       "140274283113984"
      ]
     },
     "execution_count": 13,
     "metadata": {},
     "output_type": "execute_result"
    }
   ],
   "source": [
    "id(b)"
   ]
  },
  {
   "cell_type": "code",
   "execution_count": 16,
   "id": "b2197828-2692-4c9d-bcdc-a019d2a76886",
   "metadata": {},
   "outputs": [
    {
     "name": "stdin",
     "output_type": "stream",
     "text": [
      "enter the value of a: 1\n",
      "enter the value of b 1\n"
     ]
    },
    {
     "data": {
      "text/plain": [
       "True"
      ]
     },
     "execution_count": 16,
     "metadata": {},
     "output_type": "execute_result"
    }
   ],
   "source": [
    "v=int(input('enter the value of a:'))\n",
    "\n",
    "y=int (input('enter the value of b'))\n",
    "             \n",
    "v is  y    "
   ]
  },
  {
   "cell_type": "code",
   "execution_count": 17,
   "id": "9c783454-06a1-4bdc-9ebf-51c7ee70ae4c",
   "metadata": {},
   "outputs": [
    {
     "name": "stdin",
     "output_type": "stream",
     "text": [
      "enter the value of b 2\n"
     ]
    },
    {
     "data": {
      "text/plain": [
       "False"
      ]
     },
     "execution_count": 17,
     "metadata": {},
     "output_type": "execute_result"
    }
   ],
   "source": [
    "v=1\n",
    "\n",
    "y=int (input('enter the value of b'))\n",
    " \n",
    "v is y    "
   ]
  },
  {
   "cell_type": "code",
   "execution_count": 19,
   "id": "ab066826-c998-4ece-be85-67f0d430d274",
   "metadata": {},
   "outputs": [
    {
     "name": "stdin",
     "output_type": "stream",
     "text": [
      "Enter your name: veena\n"
     ]
    },
    {
     "name": "stdout",
     "output_type": "stream",
     "text": [
      "she is the mentor\n"
     ]
    }
   ],
   "source": [
    "name =input('Enter your name:')             \n",
    "\n",
    "if name =='veena':\n",
    "    print(f'she is the mentor')\n",
    "else:\n",
    "        print('its possible thst he/she is a student')"
   ]
  },
  {
   "cell_type": "code",
   "execution_count": 20,
   "id": "ec900aa4-9c43-45b5-b0b7-04ee9cce7abd",
   "metadata": {},
   "outputs": [
    {
     "name": "stdin",
     "output_type": "stream",
     "text": [
      "Enter your name: ashok\n"
     ]
    },
    {
     "name": "stdout",
     "output_type": "stream",
     "text": [
      "its possible thst he/she is a student\n"
     ]
    }
   ],
   "source": [
    "name =input('Enter your name:')             \n",
    "\n",
    "if name =='veena':\n",
    "    print(f'she is the mentor')\n",
    "else:\n",
    "        print('its possible thst he/she is a student')"
   ]
  },
  {
   "cell_type": "code",
   "execution_count": 25,
   "id": "888216ba-2049-47ba-92a8-2b949a473a7a",
   "metadata": {},
   "outputs": [
    {
     "data": {
      "text/plain": [
       "False"
      ]
     },
     "execution_count": 25,
     "metadata": {},
     "output_type": "execute_result"
    }
   ],
   "source": [
    "a=[1,2]\n",
    "\n",
    "b=[1,2]\n",
    "\n",
    "a is b"
   ]
  },
  {
   "cell_type": "markdown",
   "id": "fb0e5590-fb64-4915-9d6b-79ecda50939e",
   "metadata": {},
   "source": [
    "### comparsion operators\n",
    "< | > | <= | >= |"
   ]
  },
  {
   "cell_type": "code",
   "execution_count": 26,
   "id": "6442d771-950d-4d09-9505-f46ab827b01b",
   "metadata": {},
   "outputs": [
    {
     "name": "stdout",
     "output_type": "stream",
     "text": [
      "attendance criteria met/?:True\n",
      "assignment criteria met?:True\n",
      "student eligible to attend exam\n"
     ]
    }
   ],
   "source": [
    "attendance =75\n",
    "assignment =70\n",
    "\n",
    "\n",
    "print(f'attendance criteria met/?:{attendance >=75}')\n",
    "print(f'assignment criteria met?:{assignment >= 70}')\n",
    "\n",
    "if attendance >=70 or assignment >=69:\n",
    "        print('student eligible to attend exam')\n",
    "else:\n",
    "    print('not eligible to attend exam')"
   ]
  },
  {
   "cell_type": "code",
   "execution_count": 27,
   "id": "527304ad-dfe6-47c6-87b7-48900331bfdd",
   "metadata": {},
   "outputs": [
    {
     "name": "stdout",
     "output_type": "stream",
     "text": [
      "since you have scored:40 ,you have passed exam\n"
     ]
    }
   ],
   "source": [
    "your_score =40\n",
    "passing_marks =33.33\n",
    "\n",
    "if your_score>=33.33:\n",
    "    print(f'since you have scored:{your_score} ,you have passed exam')\n",
    "else:\n",
    "    print('dad; you should  have taken things seriouly')"
   ]
  },
  {
   "cell_type": "code",
   "execution_count": 28,
   "id": "6fb7b541-8a59-4c7c-ae34-e4872fcf37be",
   "metadata": {},
   "outputs": [
    {
     "name": "stdout",
     "output_type": "stream",
     "text": [
      "dad; you should  have taken things seriouly\n"
     ]
    }
   ],
   "source": [
    "your_score =31\n",
    "passing_marks =33.33\n",
    "\n",
    "if your_score>=33.33:\n",
    "    print(f'since you have scored: {your_score} ,you have passed exam')\n",
    "else:\n",
    "    print('dad; you should  have taken things seriouly')"
   ]
  },
  {
   "cell_type": "code",
   "execution_count": 30,
   "id": "fbeeed8b-5258-434d-ab87-e94259a5a125",
   "metadata": {},
   "outputs": [
    {
     "name": "stdout",
     "output_type": "stream",
     "text": [
      "since you have scored:80 ,you have passed exam\n",
      "dad: i will buy a bike ! well done\n"
     ]
    }
   ],
   "source": [
    "your_score =80\n",
    "passing_marks =33.33\n",
    "distinction_marks =75\n",
    "\n",
    "if your_score>=33.33:\n",
    "    print(f'since you have scored:{your_score} ,you have passed exam')\n",
    "    if your_score>distinction_marks:\n",
    "        print('dad: i will buy a bike ! well done')\n",
    "    else:\n",
    "        print('dad :better luck next time')\n",
    "else:\n",
    "    print('dad; you should  have taken things seriouly')"
   ]
  },
  {
   "cell_type": "code",
   "execution_count": 31,
   "id": "06ff0d88-7a2c-4fc8-827c-b197aecd977b",
   "metadata": {},
   "outputs": [
    {
     "name": "stdout",
     "output_type": "stream",
     "text": [
      "since you have scored:60 ,you have passed exam\n",
      "dad :better luck next time\n"
     ]
    }
   ],
   "source": [
    "your_score =60\n",
    "passing_marks =33.33\n",
    "distinction_marks =75\n",
    "\n",
    "if your_score>=33.33:\n",
    "    print(f'since you have scored:{your_score} ,you have passed exam')\n",
    "    if your_score>distinction_marks:\n",
    "        print('dad: i will buy a bike ! well done')\n",
    "    else:\n",
    "        print('dad :better luck next time')\n",
    "else:\n",
    "    print('dad; you should  have taken things seriouly')"
   ]
  },
  {
   "cell_type": "code",
   "execution_count": 32,
   "id": "23b7a22d-c7bc-447d-9b38-26b766325d06",
   "metadata": {},
   "outputs": [
    {
     "name": "stdout",
     "output_type": "stream",
     "text": [
      "i got lowest rank\n"
     ]
    }
   ],
   "source": [
    "got_rank =23\n",
    "my_friend_rank =3\n",
    " \n",
    "if got_rank<=my_friend_rank:\n",
    "        print('my friend got highest rank')\n",
    "else:\n",
    "        print('i got lowest rank')"
   ]
  },
  {
   "cell_type": "code",
   "execution_count": 33,
   "id": "8bc9e5a3-8dcf-4496-a67d-feae1da57737",
   "metadata": {},
   "outputs": [
    {
     "name": "stdout",
     "output_type": "stream",
     "text": [
      "my friend got highest rank\n"
     ]
    }
   ],
   "source": [
    "got_rank =23\n",
    "my_friend_rank =33\n",
    " \n",
    "if got_rank<=my_friend_rank:\n",
    "        print('my friend got highest rank')\n",
    "else:\n",
    "        print('i got lowest rank')"
   ]
  },
  {
   "cell_type": "code",
   "execution_count": 34,
   "id": "043e7bf5-cd75-4a9c-adee-5450c6eba46b",
   "metadata": {},
   "outputs": [
    {
     "name": "stdout",
     "output_type": "stream",
     "text": [
      "my firend got highest rank\n"
     ]
    }
   ],
   "source": [
    "got_rank =23\n",
    "my_friend_rank =33\n",
    " \n",
    "if got_rank <= my_friend_rank:\n",
    "    print('my firend got highest rank')\n",
    "else:\n",
    "    print('i got lowest rank') \n",
    "    print('we can not get equal rank, write false')"
   ]
  },
  {
   "cell_type": "code",
   "execution_count": 35,
   "id": "27ed5136-f27b-4c04-9027-fa0551bc8e13",
   "metadata": {},
   "outputs": [
    {
     "name": "stdout",
     "output_type": "stream",
     "text": [
      "i got lowest rank\n",
      "we can not get equal rank, write false\n"
     ]
    }
   ],
   "source": [
    "got_rank =23\n",
    "my_friend_rank =33\n",
    " \n",
    "if got_rank >= 33 or  my_friend_rank ==20:\n",
    "    print('my firend got highest rank')\n",
    "else:\n",
    "    print('i got lowest rank') \n",
    "    print('we can not get equal rank, write false')"
   ]
  },
  {
   "cell_type": "code",
   "execution_count": null,
   "id": "2562de3b-2419-436b-a2c5-73009d1da871",
   "metadata": {},
   "outputs": [],
   "source": []
  },
  {
   "cell_type": "code",
   "execution_count": 36,
   "id": "db966d6e-f0fe-44cd-8f1d-c80730a113f2",
   "metadata": {},
   "outputs": [
    {
     "name": "stdin",
     "output_type": "stream",
     "text": [
      "enter  a year 2000\n"
     ]
    },
    {
     "name": "stdout",
     "output_type": "stream",
     "text": [
      "2000 is a leap year \n"
     ]
    }
   ],
   "source": [
    "Year =  int(input(\"enter  a year\" ))\n",
    "\n",
    "if Year % 4 == 0 and  Year% 400 == 0:\n",
    "    print (Year ,\"is a leap year \")\n",
    "else:\n",
    "    print(Year,\" is not a leap year\")"
   ]
  },
  {
   "cell_type": "code",
   "execution_count": 24,
   "id": "50c2b2ae-26b2-4dcd-be41-d619fc168f49",
   "metadata": {},
   "outputs": [
    {
     "name": "stdin",
     "output_type": "stream",
     "text": [
      "enter a year 2021\n"
     ]
    },
    {
     "name": "stdout",
     "output_type": "stream",
     "text": [
      "2021 is not a leap year\n"
     ]
    }
   ],
   "source": [
    "year =int(input(\"enter a year\" ))\n",
    "\n",
    "if year%4 ==0 and year%100 !=0 :\n",
    "    if year%400 ==0:\n",
    "        print(year, \"is a leap year\")\n",
    "\n",
    "    else:\n",
    "        print(year,\"is a leap year \")\n",
    "else:\n",
    "\n",
    "    print(year, \"is not a leap year\")"
   ]
  },
  {
   "cell_type": "code",
   "execution_count": 38,
   "id": "f019a241-d536-496e-8e51-b1502a36c963",
   "metadata": {},
   "outputs": [
    {
     "name": "stdin",
     "output_type": "stream",
     "text": [
      "enter  a year 2024\n"
     ]
    },
    {
     "name": "stdout",
     "output_type": "stream",
     "text": [
      "2024 is a leap year \n"
     ]
    }
   ],
   "source": [
    "Year =  int(input(\"enter  a year\" ))\n",
    "\n",
    "if (Year % 4 == 0) :\n",
    "    print (f\"{Year} is a leap year \")\n",
    "else:\n",
    "    print(f\"{Year} is not a leap year\")"
   ]
  },
  {
   "cell_type": "code",
   "execution_count": 39,
   "id": "f6a7b9ef-ae11-4dbb-94dd-32005a410b11",
   "metadata": {},
   "outputs": [
    {
     "data": {
      "text/plain": [
       "False"
      ]
     },
     "execution_count": 39,
     "metadata": {},
     "output_type": "execute_result"
    }
   ],
   "source": [
    "s=5.0\n",
    "t=5.0\n",
    "\n",
    "s is t"
   ]
  },
  {
   "cell_type": "code",
   "execution_count": 40,
   "id": "4b7cda68-9129-4660-ab68-db93874e6bb5",
   "metadata": {},
   "outputs": [
    {
     "data": {
      "text/plain": [
       "140274238211024"
      ]
     },
     "execution_count": 40,
     "metadata": {},
     "output_type": "execute_result"
    }
   ],
   "source": [
    "id(s)"
   ]
  },
  {
   "cell_type": "code",
   "execution_count": 41,
   "id": "882b7ea7-e6ac-452a-b1cc-c762cda358f5",
   "metadata": {},
   "outputs": [
    {
     "data": {
      "text/plain": [
       "140274238210832"
      ]
     },
     "execution_count": 41,
     "metadata": {},
     "output_type": "execute_result"
    }
   ],
   "source": [
    "id(t)"
   ]
  },
  {
   "cell_type": "code",
   "execution_count": 43,
   "id": "182af4da-3ace-4c58-abb8-19d29f79f144",
   "metadata": {},
   "outputs": [
    {
     "data": {
      "text/plain": [
       "False"
      ]
     },
     "execution_count": 43,
     "metadata": {},
     "output_type": "execute_result"
    }
   ],
   "source": [
    "a=5.0\n",
    "b=10/2\n",
    "\n",
    "a is b"
   ]
  },
  {
   "cell_type": "code",
   "execution_count": 44,
   "id": "475df382-4e3c-4b69-b173-f9268fe778d6",
   "metadata": {},
   "outputs": [
    {
     "data": {
      "text/plain": [
       "140274238211216"
      ]
     },
     "execution_count": 44,
     "metadata": {},
     "output_type": "execute_result"
    }
   ],
   "source": [
    "id(a)"
   ]
  },
  {
   "cell_type": "code",
   "execution_count": 45,
   "id": "121d6c08-cbd8-4d1a-bf66-36b69e01b048",
   "metadata": {},
   "outputs": [
    {
     "data": {
      "text/plain": [
       "140274238211536"
      ]
     },
     "execution_count": 45,
     "metadata": {},
     "output_type": "execute_result"
    }
   ],
   "source": [
    "id(b)"
   ]
  },
  {
   "cell_type": "code",
   "execution_count": 52,
   "id": "9b7eba4e-48e7-4302-9dc9-356d452079a2",
   "metadata": {},
   "outputs": [
    {
     "data": {
      "text/plain": [
       "False"
      ]
     },
     "execution_count": 52,
     "metadata": {},
     "output_type": "execute_result"
    }
   ],
   "source": [
    "a=5.0\n",
    "b=5.0\n",
    "\n",
    "a is b"
   ]
  },
  {
   "cell_type": "code",
   "execution_count": 50,
   "id": "f9e740c7-3e7d-49a1-9864-919af2323faa",
   "metadata": {},
   "outputs": [
    {
     "data": {
      "text/plain": [
       "140274238211632"
      ]
     },
     "execution_count": 50,
     "metadata": {},
     "output_type": "execute_result"
    }
   ],
   "source": [
    "id(a)"
   ]
  },
  {
   "cell_type": "code",
   "execution_count": 51,
   "id": "986a6d11-334c-4bec-bd6d-f8dd487e70db",
   "metadata": {},
   "outputs": [
    {
     "data": {
      "text/plain": [
       "140274238211568"
      ]
     },
     "execution_count": 51,
     "metadata": {},
     "output_type": "execute_result"
    }
   ],
   "source": [
    "id(b)"
   ]
  },
  {
   "cell_type": "code",
   "execution_count": 94,
   "id": "dc7a6d7a-2517-49be-be02-cd7dbd2cac13",
   "metadata": {},
   "outputs": [
    {
     "data": {
      "text/plain": [
       "78"
      ]
     },
     "execution_count": 94,
     "metadata": {},
     "output_type": "execute_result"
    }
   ],
   "source": [
    "a=78.4\n",
    "int(a)"
   ]
  },
  {
   "cell_type": "code",
   "execution_count": 95,
   "id": "3a81bb63-3bf5-4875-87c8-a4a2ef50fd12",
   "metadata": {},
   "outputs": [
    {
     "data": {
      "text/plain": [
       "(22+0j)"
      ]
     },
     "execution_count": 95,
     "metadata": {},
     "output_type": "execute_result"
    }
   ],
   "source": [
    "a=22\n",
    "complex(a)"
   ]
  },
  {
   "cell_type": "code",
   "execution_count": null,
   "id": "1f4e6477-590b-4518-81a3-0b542a7dc1c8",
   "metadata": {},
   "outputs": [],
   "source": []
  }
 ],
 "metadata": {
  "kernelspec": {
   "display_name": "Python 3 (ipykernel)",
   "language": "python",
   "name": "python3"
  },
  "language_info": {
   "codemirror_mode": {
    "name": "ipython",
    "version": 3
   },
   "file_extension": ".py",
   "mimetype": "text/x-python",
   "name": "python",
   "nbconvert_exporter": "python",
   "pygments_lexer": "ipython3",
   "version": "3.9.12"
  }
 },
 "nbformat": 4,
 "nbformat_minor": 5
}
