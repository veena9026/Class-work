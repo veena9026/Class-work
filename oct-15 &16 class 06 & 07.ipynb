{
 "cells": [
  {
   "cell_type": "code",
   "execution_count": 1,
   "id": "a1d713d2-f580-4007-872f-bd531628a2b5",
   "metadata": {},
   "outputs": [],
   "source": [
    "S=[1,32,43,56,889]"
   ]
  },
  {
   "cell_type": "code",
   "execution_count": 2,
   "id": "e2ad0b8e-3d7c-49f1-9f05-b9a3f4fb86c1",
   "metadata": {},
   "outputs": [
    {
     "data": {
      "text/plain": [
       "43"
      ]
     },
     "execution_count": 2,
     "metadata": {},
     "output_type": "execute_result"
    }
   ],
   "source": [
    "S[2]"
   ]
  },
  {
   "cell_type": "code",
   "execution_count": 3,
   "id": "6992df3f-0fc6-44e5-962a-b517036c65a6",
   "metadata": {},
   "outputs": [],
   "source": [
    "D=[12,34.3,34+3j,True,'fdjfhjg']"
   ]
  },
  {
   "cell_type": "code",
   "execution_count": 4,
   "id": "438fae81-3d21-4cba-b7ec-38283737ce73",
   "metadata": {},
   "outputs": [
    {
     "data": {
      "text/plain": [
       "[12, 34.3, (34+3j), True, 'fdjfhjg']"
      ]
     },
     "execution_count": 4,
     "metadata": {},
     "output_type": "execute_result"
    }
   ],
   "source": [
    "D"
   ]
  },
  {
   "cell_type": "code",
   "execution_count": 5,
   "id": "a1bff170-2185-49a0-9635-f770db9b34ef",
   "metadata": {},
   "outputs": [
    {
     "data": {
      "text/plain": [
       "True"
      ]
     },
     "execution_count": 5,
     "metadata": {},
     "output_type": "execute_result"
    }
   ],
   "source": [
    "D[3]"
   ]
  },
  {
   "cell_type": "code",
   "execution_count": 6,
   "id": "5e65801e-1b22-4aa2-b7cc-61392c9ca493",
   "metadata": {},
   "outputs": [
    {
     "data": {
      "text/plain": [
       "5"
      ]
     },
     "execution_count": 6,
     "metadata": {},
     "output_type": "execute_result"
    }
   ],
   "source": [
    "len(D)"
   ]
  },
  {
   "cell_type": "code",
   "execution_count": 7,
   "id": "de514614-423a-4e2b-b62f-8eb6f5b0ca60",
   "metadata": {},
   "outputs": [
    {
     "data": {
      "text/plain": [
       "list"
      ]
     },
     "execution_count": 7,
     "metadata": {},
     "output_type": "execute_result"
    }
   ],
   "source": [
    "type(D)"
   ]
  },
  {
   "cell_type": "code",
   "execution_count": 8,
   "id": "c4854f79-fa3c-44d8-8df6-62fb5aa82867",
   "metadata": {},
   "outputs": [
    {
     "name": "stdout",
     "output_type": "stream",
     "text": [
      "12\n",
      "34.3\n",
      "(34+3j)\n",
      "True\n",
      "fdjfhjg\n"
     ]
    }
   ],
   "source": [
    "for element in D:\n",
    "    print(element)"
   ]
  },
  {
   "cell_type": "code",
   "execution_count": 9,
   "id": "956b21d2-1717-4c96-943a-4aae2d4b6de8",
   "metadata": {},
   "outputs": [
    {
     "name": "stdout",
     "output_type": "stream",
     "text": [
      "12\n",
      "34.3\n",
      "(34+3j)\n",
      "True\n",
      "fdjfhjg\n"
     ]
    }
   ],
   "source": [
    "for i in range(len(D)):\n",
    "    print(D[i])"
   ]
  },
  {
   "cell_type": "code",
   "execution_count": 10,
   "id": "cd92b548-7771-4b6c-83d5-9a2ddc84ec59",
   "metadata": {},
   "outputs": [
    {
     "name": "stdout",
     "output_type": "stream",
     "text": [
      "value=12,datatype=<class 'int'>\n",
      "value=34.3,datatype=<class 'float'>\n",
      "value=(34+3j),datatype=<class 'complex'>\n",
      "value=True,datatype=<class 'bool'>\n",
      "value=fdjfhjg,datatype=<class 'str'>\n"
     ]
    },
    {
     "ename": "IndexError",
     "evalue": "list index out of range",
     "output_type": "error",
     "traceback": [
      "\u001b[0;31m---------------------------------------------------------------------------\u001b[0m",
      "\u001b[0;31mIndexError\u001b[0m                                Traceback (most recent call last)",
      "Input \u001b[0;32mIn [10]\u001b[0m, in \u001b[0;36m<cell line: 1>\u001b[0;34m()\u001b[0m\n\u001b[1;32m      1\u001b[0m \u001b[38;5;28;01mfor\u001b[39;00m i \u001b[38;5;129;01min\u001b[39;00m \u001b[38;5;28mrange\u001b[39m(\u001b[38;5;28mlen\u001b[39m(D[i])):\n\u001b[0;32m----> 2\u001b[0m     \u001b[38;5;28mprint\u001b[39m(\u001b[38;5;124mf\u001b[39m\u001b[38;5;124m\"\u001b[39m\u001b[38;5;124mvalue=\u001b[39m\u001b[38;5;132;01m{\u001b[39;00mD[i]\u001b[38;5;132;01m}\u001b[39;00m\u001b[38;5;124m,datatype=\u001b[39m\u001b[38;5;132;01m{\u001b[39;00m\u001b[38;5;28mtype\u001b[39m(D[i])\u001b[38;5;132;01m}\u001b[39;00m\u001b[38;5;124m\"\u001b[39m)\n",
      "\u001b[0;31mIndexError\u001b[0m: list index out of range"
     ]
    }
   ],
   "source": [
    "for i in range(len(D[i])):\n",
    "    print(f\"value={D[i]},datatype={type(D[i])}\")"
   ]
  },
  {
   "cell_type": "code",
   "execution_count": 11,
   "id": "3723397e-d246-4819-98eb-d4f872ff1635",
   "metadata": {},
   "outputs": [
    {
     "data": {
      "text/plain": [
       "[12, (34+3j), 'fdjfhjg']"
      ]
     },
     "execution_count": 11,
     "metadata": {},
     "output_type": "execute_result"
    }
   ],
   "source": [
    "D[::2]"
   ]
  },
  {
   "cell_type": "code",
   "execution_count": 12,
   "id": "a11e2d09-8308-4bc3-aad5-2f04b5ed62df",
   "metadata": {},
   "outputs": [
    {
     "data": {
      "text/plain": [
       "[True, 'fdjfhjg']"
      ]
     },
     "execution_count": 12,
     "metadata": {},
     "output_type": "execute_result"
    }
   ],
   "source": [
    "D[3:]"
   ]
  },
  {
   "cell_type": "code",
   "execution_count": 13,
   "id": "ca59a634-fda5-48ba-9bdf-fb2869c0b784",
   "metadata": {},
   "outputs": [
    {
     "data": {
      "text/plain": [
       "[12, True]"
      ]
     },
     "execution_count": 13,
     "metadata": {},
     "output_type": "execute_result"
    }
   ],
   "source": [
    "\n",
    "\n",
    "D[0::3]"
   ]
  },
  {
   "cell_type": "code",
   "execution_count": 14,
   "id": "a8c2fca7-d2de-42b1-a58d-f9621819579e",
   "metadata": {},
   "outputs": [
    {
     "data": {
      "text/plain": [
       "['fdjfhjg', True, (34+3j), 34.3, 12]"
      ]
     },
     "execution_count": 14,
     "metadata": {},
     "output_type": "execute_result"
    }
   ],
   "source": [
    "D[::-1]"
   ]
  },
  {
   "cell_type": "code",
   "execution_count": 15,
   "id": "363d7eb2-76fb-4616-88f0-9d1f4df8b150",
   "metadata": {},
   "outputs": [
    {
     "name": "stdout",
     "output_type": "stream",
     "text": [
      "0 12\n",
      "2 (34+3j)\n",
      "4 fdjfhjg\n"
     ]
    }
   ],
   "source": [
    "for i in range(0,5,2):\n",
    "    print(i,D[i])"
   ]
  },
  {
   "cell_type": "code",
   "execution_count": 16,
   "id": "da08cc09-bcd8-4f7e-929a-74519ed4aa1d",
   "metadata": {},
   "outputs": [
    {
     "data": {
      "text/plain": [
       "['fdjfhjg', (34+3j), 12]"
      ]
     },
     "execution_count": 16,
     "metadata": {},
     "output_type": "execute_result"
    }
   ],
   "source": [
    "D[::-2]"
   ]
  },
  {
   "cell_type": "code",
   "execution_count": 17,
   "id": "bc316cc4-12fc-4b9d-9989-53e948109f42",
   "metadata": {},
   "outputs": [
    {
     "data": {
      "text/plain": [
       "[12, 34.3, (34+3j), True, 'fdjfhjg']"
      ]
     },
     "execution_count": 17,
     "metadata": {},
     "output_type": "execute_result"
    }
   ],
   "source": [
    "\n",
    "\n",
    "\n",
    "D"
   ]
  },
  {
   "cell_type": "code",
   "execution_count": 18,
   "id": "f3225bba-5947-429b-b19a-9ff68e91658d",
   "metadata": {},
   "outputs": [
    {
     "data": {
      "text/plain": [
       "[]"
      ]
     },
     "execution_count": 18,
     "metadata": {},
     "output_type": "execute_result"
    }
   ],
   "source": [
    "D[0:5:-1]"
   ]
  },
  {
   "cell_type": "code",
   "execution_count": 19,
   "id": "42808694-8552-4d49-9a2e-fb0bb497d737",
   "metadata": {},
   "outputs": [
    {
     "data": {
      "text/plain": [
       "[12, 34.3, (34+3j)]"
      ]
     },
     "execution_count": 19,
     "metadata": {},
     "output_type": "execute_result"
    }
   ],
   "source": [
    "D[-5:-2]"
   ]
  },
  {
   "cell_type": "code",
   "execution_count": 20,
   "id": "4666bd39-9d1f-4f71-a614-dc2fc85c8ca1",
   "metadata": {},
   "outputs": [
    {
     "data": {
      "text/plain": [
       "[12, 34.3, (34+3j), True, 'fdjfhjg']"
      ]
     },
     "execution_count": 20,
     "metadata": {},
     "output_type": "execute_result"
    }
   ],
   "source": [
    "D"
   ]
  },
  {
   "cell_type": "code",
   "execution_count": 21,
   "id": "0aa3549a-79f8-4270-aff2-c6c86508e1cd",
   "metadata": {},
   "outputs": [
    {
     "data": {
      "text/plain": [
       "[12, 34.3, (34+3j), True]"
      ]
     },
     "execution_count": 21,
     "metadata": {},
     "output_type": "execute_result"
    }
   ],
   "source": [
    "\n",
    "D[0:4]"
   ]
  },
  {
   "cell_type": "code",
   "execution_count": 22,
   "id": "24bd6e3a-a69a-4f30-bb08-b0586cedf1e6",
   "metadata": {},
   "outputs": [
    {
     "data": {
      "text/plain": [
       "[12, 34.3, (34+3j), True]"
      ]
     },
     "execution_count": 22,
     "metadata": {},
     "output_type": "execute_result"
    }
   ],
   "source": [
    "D[-5:-1]"
   ]
  },
  {
   "cell_type": "code",
   "execution_count": 23,
   "id": "fba97e96-b2f5-4903-89f0-fbd63dd1d864",
   "metadata": {},
   "outputs": [
    {
     "data": {
      "text/plain": [
       "['fdjfhjg']"
      ]
     },
     "execution_count": 23,
     "metadata": {},
     "output_type": "execute_result"
    }
   ],
   "source": [
    "D[4:]"
   ]
  },
  {
   "cell_type": "code",
   "execution_count": 24,
   "id": "f341ca0a-08b7-4146-9889-454ae3569eac",
   "metadata": {},
   "outputs": [
    {
     "name": "stdout",
     "output_type": "stream",
     "text": [
      "0\n",
      "2\n",
      "4\n",
      "6\n",
      "8\n"
     ]
    }
   ],
   "source": [
    "for i in range(0,10,2):\n",
    "    print(i)"
   ]
  },
  {
   "cell_type": "code",
   "execution_count": 25,
   "id": "e85faeb6-8489-4f7d-a056-819ae3c5abaa",
   "metadata": {},
   "outputs": [
    {
     "name": "stdout",
     "output_type": "stream",
     "text": [
      "1\n",
      "3\n",
      "5\n",
      "7\n",
      "9\n",
      "11\n"
     ]
    }
   ],
   "source": [
    "for i in range(1,13,2):\n",
    "    print(i)"
   ]
  },
  {
   "cell_type": "code",
   "execution_count": 26,
   "id": "6d096df3-5422-45b5-8873-2466d48ccb7d",
   "metadata": {},
   "outputs": [
    {
     "name": "stdout",
     "output_type": "stream",
     "text": [
      "0 12\n",
      "1 34.3\n",
      "2 (34+3j)\n",
      "3 True\n",
      "4 fdjfhjg\n"
     ]
    }
   ],
   "source": [
    "for i in range(0,len(D)):\n",
    "    print(i,D[i])"
   ]
  },
  {
   "cell_type": "code",
   "execution_count": 27,
   "id": "e500a63b-d8f0-4d0a-b585-6f579b49f23e",
   "metadata": {},
   "outputs": [
    {
     "name": "stdout",
     "output_type": "stream",
     "text": [
      "0 12\n",
      "2 (34+3j)\n",
      "4 fdjfhjg\n"
     ]
    }
   ],
   "source": [
    "for i in range(0,len(D),2):\n",
    "    print(i,D[i])"
   ]
  },
  {
   "cell_type": "code",
   "execution_count": 28,
   "id": "4b68cd75-e1d2-4fe2-90c5-665f805db8bf",
   "metadata": {},
   "outputs": [
    {
     "name": "stdout",
     "output_type": "stream",
     "text": [
      "-1 fdjfhjg\n",
      "-2 True\n",
      "-3 (34+3j)\n",
      "-4 34.3\n",
      "-5 12\n"
     ]
    }
   ],
   "source": [
    "for i in range(-1,-len(D)-1,-1):\n",
    "    print(i,D[i])"
   ]
  },
  {
   "cell_type": "code",
   "execution_count": 29,
   "id": "45ed014e-0881-4505-85eb-5d52bb3ec800",
   "metadata": {},
   "outputs": [
    {
     "data": {
      "text/plain": [
       "[12]"
      ]
     },
     "execution_count": 29,
     "metadata": {},
     "output_type": "execute_result"
    }
   ],
   "source": [
    "D[::1000]"
   ]
  },
  {
   "cell_type": "code",
   "execution_count": 30,
   "id": "59ff8b8e-acfc-4f35-b1a9-c5039707fb00",
   "metadata": {},
   "outputs": [
    {
     "data": {
      "text/plain": [
       "[12, 34.3, (34+3j), True, 'fdjfhjg']"
      ]
     },
     "execution_count": 30,
     "metadata": {},
     "output_type": "execute_result"
    }
   ],
   "source": [
    "D"
   ]
  },
  {
   "cell_type": "code",
   "execution_count": 31,
   "id": "ba0b2a5a-29ac-484c-ab07-04f898ca041a",
   "metadata": {},
   "outputs": [],
   "source": [
    "D[3]=False"
   ]
  },
  {
   "cell_type": "code",
   "execution_count": 32,
   "id": "5acb2cde-2e31-4883-bb68-7983933598f0",
   "metadata": {},
   "outputs": [
    {
     "data": {
      "text/plain": [
       "[12, 34.3, (34+3j), False, 'fdjfhjg']"
      ]
     },
     "execution_count": 32,
     "metadata": {},
     "output_type": "execute_result"
    }
   ],
   "source": [
    "D"
   ]
  },
  {
   "cell_type": "code",
   "execution_count": 33,
   "id": "52d15204-3830-4eb6-b876-a1fb055709db",
   "metadata": {},
   "outputs": [],
   "source": [
    "D=D+[1,2,3,4]"
   ]
  },
  {
   "cell_type": "code",
   "execution_count": 34,
   "id": "2ac6572b-11b9-42ad-9702-29c461585307",
   "metadata": {},
   "outputs": [
    {
     "data": {
      "text/plain": [
       "[12, 34.3, (34+3j), False, 'fdjfhjg', 1, 2, 3, 4]"
      ]
     },
     "execution_count": 34,
     "metadata": {},
     "output_type": "execute_result"
    }
   ],
   "source": [
    "D"
   ]
  },
  {
   "cell_type": "code",
   "execution_count": 35,
   "id": "1cc646dc-90b8-4a7d-af70-f5f64e7345a9",
   "metadata": {},
   "outputs": [],
   "source": [
    "s=[1,34,45,56]"
   ]
  },
  {
   "cell_type": "code",
   "execution_count": 36,
   "id": "159d875a-9b8b-45a9-8b9b-ab6c0a83e27a",
   "metadata": {},
   "outputs": [
    {
     "data": {
      "text/plain": [
       "[1, 34, 45, 56, 12, 34.3, (34+3j), False, 'fdjfhjg', 1, 2, 3, 4]"
      ]
     },
     "execution_count": 36,
     "metadata": {},
     "output_type": "execute_result"
    }
   ],
   "source": [
    "s+D"
   ]
  },
  {
   "cell_type": "code",
   "execution_count": 37,
   "id": "5aeddfde-b80b-4939-bff4-dba25822b487",
   "metadata": {},
   "outputs": [
    {
     "data": {
      "text/plain": [
       "[12, 34.3, (34+3j), False, 'fdjfhjg', 1, 2, 3, 4]"
      ]
     },
     "execution_count": 37,
     "metadata": {},
     "output_type": "execute_result"
    }
   ],
   "source": [
    "D"
   ]
  },
  {
   "cell_type": "code",
   "execution_count": 38,
   "id": "aeb9b1b5-4fc6-4816-9448-fe9f7ad123f5",
   "metadata": {},
   "outputs": [
    {
     "ename": "TypeError",
     "evalue": "unsupported operand type(s) for -: 'list' and 'list'",
     "output_type": "error",
     "traceback": [
      "\u001b[0;31m---------------------------------------------------------------------------\u001b[0m",
      "\u001b[0;31mTypeError\u001b[0m                                 Traceback (most recent call last)",
      "Input \u001b[0;32mIn [38]\u001b[0m, in \u001b[0;36m<cell line: 1>\u001b[0;34m()\u001b[0m\n\u001b[0;32m----> 1\u001b[0m \u001b[43ms\u001b[49m\u001b[38;5;241;43m-\u001b[39;49m\u001b[43mD\u001b[49m\n",
      "\u001b[0;31mTypeError\u001b[0m: unsupported operand type(s) for -: 'list' and 'list'"
     ]
    }
   ],
   "source": [
    "s-D"
   ]
  },
  {
   "cell_type": "code",
   "execution_count": 39,
   "id": "16f94933-c3f3-498d-b427-e7a8cc69515c",
   "metadata": {},
   "outputs": [
    {
     "ename": "TypeError",
     "evalue": "unsupported operand type(s) for %: 'list' and 'list'",
     "output_type": "error",
     "traceback": [
      "\u001b[0;31m---------------------------------------------------------------------------\u001b[0m",
      "\u001b[0;31mTypeError\u001b[0m                                 Traceback (most recent call last)",
      "Input \u001b[0;32mIn [39]\u001b[0m, in \u001b[0;36m<cell line: 1>\u001b[0;34m()\u001b[0m\n\u001b[0;32m----> 1\u001b[0m \u001b[43ms\u001b[49m\u001b[38;5;241;43m%\u001b[39;49m\u001b[43mD\u001b[49m\n",
      "\u001b[0;31mTypeError\u001b[0m: unsupported operand type(s) for %: 'list' and 'list'"
     ]
    }
   ],
   "source": [
    "s%D"
   ]
  },
  {
   "cell_type": "code",
   "execution_count": 40,
   "id": "c16a25de-607c-4d65-8f02-eb8ad2b25e5d",
   "metadata": {},
   "outputs": [
    {
     "data": {
      "text/plain": [
       "[1, 34, 45, 56, 1, 34, 45, 56]"
      ]
     },
     "execution_count": 40,
     "metadata": {},
     "output_type": "execute_result"
    }
   ],
   "source": [
    "s*2"
   ]
  },
  {
   "cell_type": "code",
   "execution_count": 41,
   "id": "bf166648-b11a-4d36-8fff-ac33e8010e40",
   "metadata": {},
   "outputs": [
    {
     "data": {
      "text/plain": [
       "[12,\n",
       " 34.3,\n",
       " (34+3j),\n",
       " False,\n",
       " 'fdjfhjg',\n",
       " 1,\n",
       " 2,\n",
       " 3,\n",
       " 4,\n",
       " 12,\n",
       " 34.3,\n",
       " (34+3j),\n",
       " False,\n",
       " 'fdjfhjg',\n",
       " 1,\n",
       " 2,\n",
       " 3,\n",
       " 4]"
      ]
     },
     "execution_count": 41,
     "metadata": {},
     "output_type": "execute_result"
    }
   ],
   "source": [
    "D*2"
   ]
  },
  {
   "cell_type": "code",
   "execution_count": 42,
   "id": "48d460df-ff68-4337-bedf-f882d1ed249d",
   "metadata": {},
   "outputs": [
    {
     "data": {
      "text/plain": [
       "[1, 34, 45, 56, 1, 34, 45, 56]"
      ]
     },
     "execution_count": 42,
     "metadata": {},
     "output_type": "execute_result"
    }
   ],
   "source": [
    "s+s"
   ]
  },
  {
   "cell_type": "code",
   "execution_count": 43,
   "id": "4b14075e-76bd-4fba-8d64-8ae40ad13529",
   "metadata": {},
   "outputs": [
    {
     "data": {
      "text/plain": [
       "[]"
      ]
     },
     "execution_count": 43,
     "metadata": {},
     "output_type": "execute_result"
    }
   ],
   "source": [
    "s*(-1)"
   ]
  },
  {
   "cell_type": "code",
   "execution_count": 44,
   "id": "3a32886d-093b-4a3c-aac2-1dc395f9c192",
   "metadata": {},
   "outputs": [
    {
     "data": {
      "text/plain": [
       "[]"
      ]
     },
     "execution_count": 44,
     "metadata": {},
     "output_type": "execute_result"
    }
   ],
   "source": [
    "s*(-3)"
   ]
  },
  {
   "cell_type": "code",
   "execution_count": 45,
   "id": "78b9f022-8c49-4a79-860a-96e7c852918b",
   "metadata": {},
   "outputs": [
    {
     "ename": "NameError",
     "evalue": "name 'd' is not defined",
     "output_type": "error",
     "traceback": [
      "\u001b[0;31m---------------------------------------------------------------------------\u001b[0m",
      "\u001b[0;31mNameError\u001b[0m                                 Traceback (most recent call last)",
      "Input \u001b[0;32mIn [45]\u001b[0m, in \u001b[0;36m<cell line: 1>\u001b[0;34m()\u001b[0m\n\u001b[0;32m----> 1\u001b[0m \u001b[43md\u001b[49m\u001b[38;5;241m*\u001b[39m(\u001b[38;5;241m-\u001b[39m\u001b[38;5;241m2\u001b[39m)\n",
      "\u001b[0;31mNameError\u001b[0m: name 'd' is not defined"
     ]
    }
   ],
   "source": [
    "d*(-2)"
   ]
  },
  {
   "cell_type": "code",
   "execution_count": 46,
   "id": "9103edab-dead-433c-bc47-4cb26fd737e2",
   "metadata": {},
   "outputs": [
    {
     "data": {
      "text/plain": [
       "9"
      ]
     },
     "execution_count": 46,
     "metadata": {},
     "output_type": "execute_result"
    }
   ],
   "source": [
    "len(D)"
   ]
  },
  {
   "cell_type": "code",
   "execution_count": 47,
   "id": "92794461-dfdc-4911-b978-0ec35c6879ee",
   "metadata": {},
   "outputs": [
    {
     "data": {
      "text/plain": [
       "0"
      ]
     },
     "execution_count": 47,
     "metadata": {},
     "output_type": "execute_result"
    }
   ],
   "source": [
    "my_list=[]\n",
    "\n",
    "len(my_list)"
   ]
  },
  {
   "cell_type": "code",
   "execution_count": 48,
   "id": "b6868779-8982-4f2e-b231-b04b1ff411b3",
   "metadata": {},
   "outputs": [
    {
     "name": "stdin",
     "output_type": "stream",
     "text": [
      "enter the item  puechase ldkflm\n",
      "enter the item  puechase v,v.,\n",
      "enter the item  puechase lvlvb\n",
      "enter the item  puechase gfg\n",
      "enter the item  puechase dgg\n",
      "enter the item  puechase rybnh\n",
      "enter the item  puechase dcher\n",
      "enter the item  puechase awfg\n",
      "enter the item  puechase sdfdr\n",
      "enter the item  puechase egba\n"
     ]
    },
    {
     "name": "stdout",
     "output_type": "stream",
     "text": [
      "['ldkflm', 'v,v.,', 'lvlvb', 'gfg', 'dgg', 'rybnh', 'dcher', 'awfg', 'sdfdr', 'egba']\n"
     ]
    }
   ],
   "source": [
    "list_of_items= list()\n",
    "\n",
    "for i in range(10):\n",
    "    user =input(\"enter the item  puechase\")\n",
    "    list_of_items =list_of_items+[user]\n",
    "print(list_of_items    )"
   ]
  },
  {
   "cell_type": "code",
   "execution_count": 1,
   "id": "0aaec51c-05e5-48d0-a8af-64f8c1b8eea5",
   "metadata": {},
   "outputs": [
    {
     "name": "stdin",
     "output_type": "stream",
     "text": [
      "No of item you want to purchase:  3\n",
      "Enter the item that you want to purchase:  jhjh\n",
      "Enter the item that you want to purchase:  ghghg\n",
      "Enter the item that you want to purchase:  hjhjg\n"
     ]
    },
    {
     "name": "stdout",
     "output_type": "stream",
     "text": [
      "['jhjh', 'ghghg', 'hjhjg']\n"
     ]
    }
   ],
   "source": [
    "list_of_item_to_purchase = list() # empty list\n",
    "\n",
    "N = int(input(\"No of item you want to purchase: \"))\n",
    "for i in range(N):\n",
    "  user_input = input(\"Enter the item that you want to purchase: \")\n",
    "  list_of_item_to_purchase = list_of_item_to_purchase + [user_input]\n",
    "\n",
    "print(list_of_item_to_purchase)"
   ]
  },
  {
   "cell_type": "code",
   "execution_count": 1,
   "id": "466a3469-63a9-4add-8e67-92c1857cafed",
   "metadata": {},
   "outputs": [
    {
     "name": "stdin",
     "output_type": "stream",
     "text": [
      "no of items 4\n",
      "enter the item  puechase jjdh\n",
      "enter the item  puechase ldkl\n",
      "enter the item  puechase klckl\n",
      "enter the item  puechase lvklk\n"
     ]
    },
    {
     "name": "stdout",
     "output_type": "stream",
     "text": [
      "['jjdh', 'ldkl', 'klckl', 'lvklk']\n"
     ]
    }
   ],
   "source": [
    "list_of_items= list()\n",
    "\n",
    "N=int(input(\"no of items\"))\n",
    "for i in range(N):\n",
    "    user =input(\"enter the item  puechase\")\n",
    "    list_of_items =list_of_items+[user]\n",
    "print(list_of_items    )"
   ]
  },
  {
   "cell_type": "code",
   "execution_count": 53,
   "id": "f7b77b28-1c7d-4290-ad1d-70ee76342397",
   "metadata": {},
   "outputs": [
    {
     "ename": "SyntaxError",
     "evalue": "f-string: expecting '}' (3208528007.py, line 9)",
     "output_type": "error",
     "traceback": [
      "\u001b[0;36m  Input \u001b[0;32mIn [53]\u001b[0;36m\u001b[0m\n\u001b[0;31m    print(f\"current list:{list_of_items=list_of_items+[user]}\")\u001b[0m\n\u001b[0m                                                              ^\u001b[0m\n\u001b[0;31mSyntaxError\u001b[0m\u001b[0;31m:\u001b[0m f-string: expecting '}'\n"
     ]
    }
   ],
   "source": [
    "list_of_items= list()\n",
    "\n",
    "\n",
    "N=int(input(\"number\"))\n",
    "i=0\n",
    "while i<N:\n",
    "    user =input(\"enter the item  puechase\")\n",
    "    list_of_items =list_of_items+[user]\n",
    "    print(f\"current list:{list_of_items=list_of_items+[user]}\")\n",
    "    i=i+1\n",
    "    print(list_of_items    )"
   ]
  },
  {
   "cell_type": "code",
   "execution_count": 54,
   "id": "2200a0d7-c5c7-40da-bc19-968a84453d80",
   "metadata": {},
   "outputs": [
    {
     "data": {
      "text/plain": [
       "False"
      ]
     },
     "execution_count": 54,
     "metadata": {},
     "output_type": "execute_result"
    }
   ],
   "source": [
    "\"67\" in list_of_items"
   ]
  },
  {
   "cell_type": "code",
   "execution_count": 55,
   "id": "39feab2a-a51f-4a4a-a05f-cc3a39702600",
   "metadata": {},
   "outputs": [
    {
     "name": "stdout",
     "output_type": "stream",
     "text": [
      "no ,add into list\n"
     ]
    },
    {
     "data": {
      "text/plain": [
       "['93898',\n",
       " '3891',\n",
       " '43355',\n",
       " '554',\n",
       " '22',\n",
       " '34456',\n",
       " '678',\n",
       " '56',\n",
       " '77',\n",
       " '22',\n",
       " 'phone cover']"
      ]
     },
     "execution_count": 55,
     "metadata": {},
     "output_type": "execute_result"
    }
   ],
   "source": [
    "if \"phone cover\" in list_of_items:\n",
    "    print(\"yes\")\n",
    "else:\n",
    "    print(\"no ,add into list\")\n",
    "    list_of_items=list_of_items+[\"phone cover\"]\n",
    "list_of_items"
   ]
  },
  {
   "cell_type": "code",
   "execution_count": 56,
   "id": "01a1e033-a01d-495f-9aae-1e5c97a65648",
   "metadata": {},
   "outputs": [
    {
     "name": "stdout",
     "output_type": "stream",
     "text": [
      "yes\n"
     ]
    },
    {
     "data": {
      "text/plain": [
       "['93898',\n",
       " '3891',\n",
       " '43355',\n",
       " '554',\n",
       " '22',\n",
       " '34456',\n",
       " '678',\n",
       " '56',\n",
       " '77',\n",
       " '22',\n",
       " 'phone cover']"
      ]
     },
     "execution_count": 56,
     "metadata": {},
     "output_type": "execute_result"
    }
   ],
   "source": [
    "if \"milk\"  not in list_of_items:\n",
    "    print(\"yes\")\n",
    "else:\n",
    "    print(\"no ,add into list\")\n",
    "    list_of_items=list_of_items+[\"milk\"]\n",
    "list_of_items"
   ]
  },
  {
   "cell_type": "code",
   "execution_count": 58,
   "id": "192cbc16-bbb8-4951-ba1d-110e6a630f2e",
   "metadata": {},
   "outputs": [
    {
     "name": "stdin",
     "output_type": "stream",
     "text": [
      "enter \"veena\n"
     ]
    },
    {
     "name": "stdout",
     "output_type": "stream",
     "text": [
      "yes\n"
     ]
    },
    {
     "data": {
      "text/plain": [
       "['93898',\n",
       " '3891',\n",
       " '43355',\n",
       " '554',\n",
       " '22',\n",
       " '34456',\n",
       " '678',\n",
       " '56',\n",
       " '77',\n",
       " '22',\n",
       " 'phone cover']"
      ]
     },
     "execution_count": 58,
     "metadata": {},
     "output_type": "execute_result"
    }
   ],
   "source": [
    "new_item=input(\"enter\")\n",
    "\n",
    "if \"phone cover\" in list_of_items:\n",
    "    print(\"yes\")\n",
    "else:\n",
    "    print(\"no ,add into list\")\n",
    "    list_of_items=list_of_items+[new_item]\n",
    "list_of_items"
   ]
  },
  {
   "cell_type": "code",
   "execution_count": null,
   "id": "b5c00101-2301-4f83-8f53-30db62069dfa",
   "metadata": {},
   "outputs": [],
   "source": [
    "len(list_of_items)"
   ]
  },
  {
   "cell_type": "code",
   "execution_count": null,
   "id": "ec6ac171-493f-4fa1-91bf-340f5b046b2c",
   "metadata": {},
   "outputs": [],
   "source": [
    "list1 =[1,334,546,64,33]\n",
    "list2 =[\"ashok\", \"veena\",\"parvathi\"]\n",
    "\n",
    "print(max(list1))\n",
    "print(max(list2))"
   ]
  },
  {
   "cell_type": "code",
   "execution_count": null,
   "id": "c12bcd66-8428-477f-b672-569f22e19859",
   "metadata": {},
   "outputs": [],
   "source": [
    "string =[\"a\",\"B\",\"f\",\"c\"]\n",
    "\n",
    "print(max(string))"
   ]
  },
  {
   "cell_type": "code",
   "execution_count": null,
   "id": "cf689c67-1e26-4a30-b40e-b2a52baecb71",
   "metadata": {},
   "outputs": [],
   "source": [
    "example=[12,334,466,89]"
   ]
  },
  {
   "cell_type": "code",
   "execution_count": null,
   "id": "12fa1244-1e30-49e3-a44e-4587615c4bcb",
   "metadata": {},
   "outputs": [],
   "source": [
    "print(max(example))"
   ]
  },
  {
   "cell_type": "code",
   "execution_count": null,
   "id": "827eccf1-90b3-4376-987d-7721c8288a1a",
   "metadata": {},
   "outputs": [],
   "source": [
    "example =(1,23,334,45.5)\n",
    "\n",
    "print(max(example))"
   ]
  },
  {
   "cell_type": "code",
   "execution_count": null,
   "id": "494cbd50-3a3e-4009-a02d-5bb3fb7552f1",
   "metadata": {},
   "outputs": [],
   "source": [
    "print(min(example))"
   ]
  },
  {
   "cell_type": "code",
   "execution_count": null,
   "id": "a47fad8e-e61e-4421-90d8-4a672dfed594",
   "metadata": {},
   "outputs": [],
   "source": [
    "print(min(string))"
   ]
  },
  {
   "cell_type": "code",
   "execution_count": null,
   "id": "0241d96d-7f55-4a7c-b768-512f21757c77",
   "metadata": {},
   "outputs": [],
   "source": [
    "example =(1,23,334,45.5,1000,-500,200*20)\n",
    "\n",
    "print(max(example))"
   ]
  },
  {
   "cell_type": "code",
   "execution_count": null,
   "id": "0eed222f-324b-459e-8c95-0e50c26742e2",
   "metadata": {},
   "outputs": [],
   "source": [
    "print(min(list1))\n",
    "print(min(list2))"
   ]
  },
  {
   "cell_type": "code",
   "execution_count": 1,
   "id": "f9fcbe43-6a21-4b3d-a429-317ebc345fb0",
   "metadata": {},
   "outputs": [
    {
     "name": "stdout",
     "output_type": "stream",
     "text": [
      "['ashok', 'veena', 'parvathi', 'narasimhulu']\n",
      "['ashok', 'veena', 'parvathi', 'narasimhulu']\n",
      "['ashok', 'veena', 'parvathi', 'narasimhulu']\n",
      "['ashok', 'veena', 'parvathi', 'narasimhulu']\n"
     ]
    }
   ],
   "source": [
    "list1=[\"ashok\",\"veena\",\"parvathi\",\"narasimhulu\"]\n",
    "\n",
    "for example in list1:\n",
    "    print(list1)\n",
    " "
   ]
  },
  {
   "cell_type": "code",
   "execution_count": 2,
   "id": "7978ee47-e0e9-468b-8e93-ea6961aceee1",
   "metadata": {},
   "outputs": [
    {
     "name": "stdout",
     "output_type": "stream",
     "text": [
      "narasimhulu 11\n"
     ]
    }
   ],
   "source": [
    "   print(example,len(example))"
   ]
  },
  {
   "cell_type": "code",
   "execution_count": 3,
   "id": "21a0d610-9130-4a61-b2f8-1dc7b31c8c2f",
   "metadata": {},
   "outputs": [
    {
     "name": "stdout",
     "output_type": "stream",
     "text": [
      "('ashok', 5)\n",
      "('veena', 5)\n",
      "('parvathi', 8)\n",
      "('narasimhulu', 11)\n",
      "result:max_len :11 name:narasimhulu\n"
     ]
    }
   ],
   "source": [
    "max_len =0\n",
    "result =''\n",
    "for example in list1:\n",
    "    print((example,len(example)))\n",
    "    if len(example)>max_len:\n",
    "        max_len =len(example)\n",
    "        result =example\n",
    "\n",
    "print(f\"result:max_len :{max_len} name:{result}\")    \n",
    "        "
   ]
  },
  {
   "cell_type": "code",
   "execution_count": 4,
   "id": "4668f469-c673-416b-8101-840ed5cd64ef",
   "metadata": {},
   "outputs": [
    {
     "data": {
      "text/plain": [
       "[1, 45, 22, 34, 'new element']"
      ]
     },
     "execution_count": 4,
     "metadata": {},
     "output_type": "execute_result"
    }
   ],
   "source": [
    "l= [1,45,22,34]\n",
    "l.append(\"new element\")\n",
    "l"
   ]
  },
  {
   "cell_type": "code",
   "execution_count": 5,
   "id": "710796bd-821c-47e6-ae78-fe8109788569",
   "metadata": {},
   "outputs": [
    {
     "data": {
      "text/plain": [
       "[1, 45, 22, 34, 'new element', 'rome']"
      ]
     },
     "execution_count": 5,
     "metadata": {},
     "output_type": "execute_result"
    }
   ],
   "source": [
    "l.append(\"rome\")\n",
    "\n",
    "l"
   ]
  },
  {
   "cell_type": "code",
   "execution_count": 6,
   "id": "dc0390d6-641e-4d34-82c4-56f2edd3d9eb",
   "metadata": {},
   "outputs": [
    {
     "data": {
      "text/plain": [
       "[1, 45, 22, 34, 'new element', 'rome', ['ashok', 'paar']]"
      ]
     },
     "execution_count": 6,
     "metadata": {},
     "output_type": "execute_result"
    }
   ],
   "source": [
    "\n",
    "l.append([\"ashok\",\"paar\"])\n",
    "l"
   ]
  },
  {
   "cell_type": "code",
   "execution_count": 7,
   "id": "b0b4c9de-4442-48d6-8815-f27e1737a915",
   "metadata": {},
   "outputs": [
    {
     "data": {
      "text/plain": [
       "['ashok', 'paar']"
      ]
     },
     "execution_count": 7,
     "metadata": {},
     "output_type": "execute_result"
    }
   ],
   "source": [
    "l.pop()"
   ]
  },
  {
   "cell_type": "code",
   "execution_count": 8,
   "id": "2d9b7705-9352-4181-a569-c9a2328aa9e1",
   "metadata": {},
   "outputs": [
    {
     "data": {
      "text/plain": [
       "[1, 45, 22, 34, 'new element', 'rome']"
      ]
     },
     "execution_count": 8,
     "metadata": {},
     "output_type": "execute_result"
    }
   ],
   "source": [
    "l"
   ]
  },
  {
   "cell_type": "code",
   "execution_count": 9,
   "id": "0ffaa8a7-52f8-4f8b-8b24-41519374e4c0",
   "metadata": {},
   "outputs": [
    {
     "data": {
      "text/plain": [
       "[1, 45, 22, 34, 'new element', 'rome', ['ashok', 'paravathi']]"
      ]
     },
     "execution_count": 9,
     "metadata": {},
     "output_type": "execute_result"
    }
   ],
   "source": [
    "\n",
    "l.append([\"ashok\",\"paravathi\"])\n",
    "l"
   ]
  },
  {
   "cell_type": "code",
   "execution_count": 10,
   "id": "c2d5a788-eb5c-4236-960e-9dbe0aa34407",
   "metadata": {},
   "outputs": [
    {
     "name": "stdin",
     "output_type": "stream",
     "text": [
      "no of items 3\n",
      "enter the item  puechase : dlx\n",
      "enter the item  puechase : dg\n",
      "enter the item  puechase : dd\n"
     ]
    },
    {
     "name": "stdout",
     "output_type": "stream",
     "text": [
      "['dlx', 'dg', 'dd']\n"
     ]
    }
   ],
   "source": [
    "list_of_items= list()\n",
    "\n",
    "N=int(input(\"no of items\"))\n",
    "for i in range(N):\n",
    "    user =input(\"enter the item  puechase :\")\n",
    "    list_of_items =list_of_items+[user]\n",
    "print(list_of_items    )"
   ]
  },
  {
   "cell_type": "code",
   "execution_count": 11,
   "id": "122a1721-66ca-4b17-9c70-0790593f3aff",
   "metadata": {},
   "outputs": [],
   "source": [
    "a=[1,2,3,456,\"veena\",24]\n"
   ]
  },
  {
   "cell_type": "code",
   "execution_count": 12,
   "id": "c2e583c3-d26f-4f41-8a74-1251f37c611f",
   "metadata": {},
   "outputs": [
    {
     "data": {
      "text/plain": [
       "1"
      ]
     },
     "execution_count": 12,
     "metadata": {},
     "output_type": "execute_result"
    }
   ],
   "source": [
    "a.pop(0)"
   ]
  },
  {
   "cell_type": "code",
   "execution_count": 13,
   "id": "0eb09833-d2d7-4310-847a-a27dc31800c3",
   "metadata": {},
   "outputs": [
    {
     "data": {
      "text/plain": [
       "[2, 3, 456, 'veena', 24]"
      ]
     },
     "execution_count": 13,
     "metadata": {},
     "output_type": "execute_result"
    }
   ],
   "source": [
    "a"
   ]
  },
  {
   "cell_type": "code",
   "execution_count": 14,
   "id": "7ad3908f-a668-4b1e-b435-a63e507dbc48",
   "metadata": {},
   "outputs": [
    {
     "data": {
      "text/plain": [
       "[2, 3, 456, 24]"
      ]
     },
     "execution_count": 14,
     "metadata": {},
     "output_type": "execute_result"
    }
   ],
   "source": [
    "a.pop(3)\n",
    "a"
   ]
  },
  {
   "cell_type": "code",
   "execution_count": 15,
   "id": "1a963d37-8854-4b57-9e78-2532c8f7ae2d",
   "metadata": {},
   "outputs": [],
   "source": [
    "a.append(\"append me!\")"
   ]
  },
  {
   "cell_type": "code",
   "execution_count": 16,
   "id": "23da1cea-cc0d-4586-984f-bd4b211f273e",
   "metadata": {},
   "outputs": [
    {
     "data": {
      "text/plain": [
       "[2, 3, 456, 24, 'append me!']"
      ]
     },
     "execution_count": 16,
     "metadata": {},
     "output_type": "execute_result"
    }
   ],
   "source": [
    "a"
   ]
  },
  {
   "cell_type": "code",
   "execution_count": 17,
   "id": "ad28f279-2b2d-41dc-9dca-1dfad2670300",
   "metadata": {},
   "outputs": [
    {
     "data": {
      "text/plain": [
       "[45, 22, 34, 'new element', 'rome', ['ashok', 'paravathi']]"
      ]
     },
     "execution_count": 17,
     "metadata": {},
     "output_type": "execute_result"
    }
   ],
   "source": [
    "remove_item =l.pop(0)\n",
    "\n",
    "l\n"
   ]
  },
  {
   "cell_type": "code",
   "execution_count": 18,
   "id": "29099a8a-b503-4a96-be07-b40e968df018",
   "metadata": {},
   "outputs": [
    {
     "data": {
      "text/plain": [
       "1"
      ]
     },
     "execution_count": 18,
     "metadata": {},
     "output_type": "execute_result"
    }
   ],
   "source": [
    "\n",
    "remove_item"
   ]
  },
  {
   "cell_type": "code",
   "execution_count": 19,
   "id": "dd24f68f-c36d-4945-b066-339c63357cbe",
   "metadata": {},
   "outputs": [
    {
     "name": "stdout",
     "output_type": "stream",
     "text": [
      "0 2\n",
      "1 34\n",
      "2 45\n",
      "3 6\n",
      "4 678\n",
      "5 543\n"
     ]
    }
   ],
   "source": [
    "A=[2,34,45,6,678,543]\n",
    "\n",
    "\n",
    "for idx in range(len(A)):\n",
    "    print(idx,A[idx])"
   ]
  },
  {
   "cell_type": "code",
   "execution_count": 20,
   "id": "81bfe190-1c1d-47b3-8095-29eea8486285",
   "metadata": {},
   "outputs": [
    {
     "name": "stdout",
     "output_type": "stream",
     "text": [
      "0 2\n",
      "1 34\n",
      "2 45\n",
      "3 6\n",
      "4 678\n",
      "5 543\n"
     ]
    }
   ],
   "source": [
    "A=[2,34,45,6,678,543]\n",
    "\n",
    "\n",
    "for idx in range(len(A)):\n",
    "    num =A[idx]\n",
    "    print(idx,A[idx])"
   ]
  },
  {
   "cell_type": "code",
   "execution_count": 21,
   "id": "b8f75f4c-13a5-44b7-8cdb-b13ca7cb7e18",
   "metadata": {},
   "outputs": [
    {
     "name": "stdout",
     "output_type": "stream",
     "text": [
      "0 2\n",
      "even num:2\n",
      "1 34\n",
      "even num:34\n",
      "2 45\n",
      "odd num :45\n",
      "3 6\n",
      "even num:6\n",
      "4 678\n",
      "even num:678\n",
      "5 543\n",
      "odd num :543\n"
     ]
    }
   ],
   "source": [
    "A=[2,34,45,6,678,543]\n",
    "\n",
    "\n",
    "for idx in range(len(A)):\n",
    "    num =A[idx]\n",
    "    print(idx,A[idx])\n",
    "    if num%2 !=0:\n",
    "        print(f\"odd num :{num}\")\n",
    "    else:\n",
    "            print(f\"even num:{num}\")"
   ]
  },
  {
   "cell_type": "code",
   "execution_count": 22,
   "id": "4d684f18-1304-4b89-8adc-530d35d305ca",
   "metadata": {},
   "outputs": [
    {
     "data": {
      "text/plain": [
       "[2, 34, 45, 6, 678, 543]"
      ]
     },
     "execution_count": 22,
     "metadata": {},
     "output_type": "execute_result"
    }
   ],
   "source": [
    "A"
   ]
  },
  {
   "cell_type": "code",
   "execution_count": 23,
   "id": "a07b6621-97d0-4e5c-8504-f34214ea5e68",
   "metadata": {},
   "outputs": [
    {
     "ename": "IndexError",
     "evalue": "list index out of range",
     "output_type": "error",
     "traceback": [
      "\u001b[0;31m---------------------------------------------------------------------------\u001b[0m",
      "\u001b[0;31mIndexError\u001b[0m                                Traceback (most recent call last)",
      "Input \u001b[0;32mIn [23]\u001b[0m, in \u001b[0;36m<cell line: 1>\u001b[0;34m()\u001b[0m\n\u001b[0;32m----> 1\u001b[0m \u001b[43mA\u001b[49m\u001b[43m[\u001b[49m\u001b[38;5;241;43m100\u001b[39;49m\u001b[43m]\u001b[49m\n",
      "\u001b[0;31mIndexError\u001b[0m: list index out of range"
     ]
    }
   ],
   "source": [
    "A[100]"
   ]
  },
  {
   "cell_type": "code",
   "execution_count": 24,
   "id": "b8c524e6-9013-4697-989b-a6ab97843d63",
   "metadata": {},
   "outputs": [
    {
     "data": {
      "text/plain": [
       "[-345, 1, 12, 34, 456, 3454, 5566]"
      ]
     },
     "execution_count": 24,
     "metadata": {},
     "output_type": "execute_result"
    }
   ],
   "source": [
    "A =[1,12,3454,5566,-345,456,34]\n",
    "\n",
    "sorted (A)"
   ]
  },
  {
   "cell_type": "code",
   "execution_count": 25,
   "id": "0415230f-2ab6-474e-be5a-161a4f002d1d",
   "metadata": {},
   "outputs": [
    {
     "data": {
      "text/plain": [
       "[1, 12, 3454, 5566, -345, 456, 34]"
      ]
     },
     "execution_count": 25,
     "metadata": {},
     "output_type": "execute_result"
    }
   ],
   "source": [
    "A"
   ]
  },
  {
   "cell_type": "code",
   "execution_count": 26,
   "id": "1292ab6c-71a8-4978-8565-a05991fb6e38",
   "metadata": {},
   "outputs": [
    {
     "data": {
      "text/plain": [
       "[-345, 1, 12, 34, 456, 3454, 5566]"
      ]
     },
     "execution_count": 26,
     "metadata": {},
     "output_type": "execute_result"
    }
   ],
   "source": [
    "A=sorted(A)\n",
    "\n",
    "A"
   ]
  },
  {
   "cell_type": "code",
   "execution_count": 27,
   "id": "1295d681-cdc1-4253-bad1-cf1dc6ef054a",
   "metadata": {},
   "outputs": [
    {
     "data": {
      "text/plain": [
       "[5566, 3454, 456, 34, 12, 1, -345]"
      ]
     },
     "execution_count": 27,
     "metadata": {},
     "output_type": "execute_result"
    }
   ],
   "source": [
    "A[::-1]"
   ]
  },
  {
   "cell_type": "code",
   "execution_count": 28,
   "id": "5cd542cd-cb5b-454f-810a-0ac28f709d61",
   "metadata": {},
   "outputs": [
    {
     "data": {
      "text/plain": [
       "[-345, 1, 12, 34, 456, 3454, 5566]"
      ]
     },
     "execution_count": 28,
     "metadata": {},
     "output_type": "execute_result"
    }
   ],
   "source": [
    "A.sort()\n",
    "\n",
    "A"
   ]
  },
  {
   "cell_type": "code",
   "execution_count": 29,
   "id": "c7e01b90-8aa6-4f5b-a0e3-2de87e62f533",
   "metadata": {},
   "outputs": [],
   "source": [
    "A.sort(reverse =True)"
   ]
  },
  {
   "cell_type": "code",
   "execution_count": 30,
   "id": "dbd4dc91-a1c9-4d19-96e6-046dfa64d0f1",
   "metadata": {},
   "outputs": [
    {
     "data": {
      "text/plain": [
       "[5566, 3454, 456, 34, 12, 1, -345]"
      ]
     },
     "execution_count": 30,
     "metadata": {},
     "output_type": "execute_result"
    }
   ],
   "source": [
    "A"
   ]
  },
  {
   "cell_type": "code",
   "execution_count": 31,
   "id": "a0f25f88-ecb9-4987-b427-2187abc5bedc",
   "metadata": {},
   "outputs": [
    {
     "data": {
      "text/plain": [
       "[5566, 3454, 456, 34, 12, 1, -345]"
      ]
     },
     "execution_count": 31,
     "metadata": {},
     "output_type": "execute_result"
    }
   ],
   "source": [
    "A"
   ]
  },
  {
   "cell_type": "code",
   "execution_count": 32,
   "id": "2e5e7f8b-ab63-4f01-be6b-0902787e883b",
   "metadata": {},
   "outputs": [
    {
     "data": {
      "text/plain": [
       "[-345, 1, 12, 34, 456, 3454, 5566]"
      ]
     },
     "execution_count": 32,
     "metadata": {},
     "output_type": "execute_result"
    }
   ],
   "source": [
    "A.reverse()\n",
    "\n",
    "A"
   ]
  },
  {
   "cell_type": "code",
   "execution_count": 33,
   "id": "28e46502-b723-4004-9c5c-9cf349630402",
   "metadata": {},
   "outputs": [
    {
     "data": {
      "text/plain": [
       "['ineuron', 'veena', -234, 23, 2, 1]"
      ]
     },
     "execution_count": 33,
     "metadata": {},
     "output_type": "execute_result"
    }
   ],
   "source": [
    "a=[1,2,23,-234,\"veena\",\"ineuron\"]\n",
    "\n",
    "a[::-1]"
   ]
  },
  {
   "cell_type": "code",
   "execution_count": 34,
   "id": "d5e5bc43-5466-4312-8255-da91d420cbc4",
   "metadata": {},
   "outputs": [
    {
     "data": {
      "text/plain": [
       "['ineuron', 'veena', -234, 23, 2, 1]"
      ]
     },
     "execution_count": 34,
     "metadata": {},
     "output_type": "execute_result"
    }
   ],
   "source": [
    "a.reverse()\n",
    "\n",
    "a"
   ]
  },
  {
   "cell_type": "code",
   "execution_count": null,
   "id": "2c8bb356-f387-4578-9153-0d472d35536d",
   "metadata": {},
   "outputs": [],
   "source": [
    "a.sort()\n",
    "\n",
    "a"
   ]
  },
  {
   "cell_type": "markdown",
   "id": "9f52690c-aacb-42d6-bb3a-8ab5507bc7bf",
   "metadata": {},
   "source": [
    "   ###  16th  oct "
   ]
  },
  {
   "cell_type": "markdown",
   "id": "d93fa1c2-2271-41da-8eb2-751f50dc45a2",
   "metadata": {},
   "source": [
    "### nesting"
   ]
  },
  {
   "cell_type": "code",
   "execution_count": 35,
   "id": "a5cda6ae-450a-4951-80d1-87a77343909a",
   "metadata": {},
   "outputs": [],
   "source": [
    "A=[[1,2,3,4],[5,6,7,8],[9,10,11,12]]\n",
    "\n"
   ]
  },
  {
   "cell_type": "code",
   "execution_count": 36,
   "id": "c801f535-c044-4722-a4b6-90c679df101d",
   "metadata": {},
   "outputs": [
    {
     "data": {
      "text/plain": [
       "[[1, 2, 3, 4], [5, 6, 7, 8], [9, 10, 11, 12]]"
      ]
     },
     "execution_count": 36,
     "metadata": {},
     "output_type": "execute_result"
    }
   ],
   "source": [
    "A"
   ]
  },
  {
   "cell_type": "code",
   "execution_count": 37,
   "id": "01a71130-548f-4845-a050-1e1fca9b1ce5",
   "metadata": {},
   "outputs": [
    {
     "data": {
      "text/plain": [
       "[1, 2, 3, 4]"
      ]
     },
     "execution_count": 37,
     "metadata": {},
     "output_type": "execute_result"
    }
   ],
   "source": [
    "A[0]"
   ]
  },
  {
   "cell_type": "code",
   "execution_count": 38,
   "id": "dde5538a-17a7-4441-84fd-f9ec73a045a2",
   "metadata": {},
   "outputs": [
    {
     "data": {
      "text/plain": [
       "8"
      ]
     },
     "execution_count": 38,
     "metadata": {},
     "output_type": "execute_result"
    }
   ],
   "source": [
    "A[1][3]"
   ]
  },
  {
   "cell_type": "code",
   "execution_count": 39,
   "id": "a07c2686-3414-4335-8afa-cfd4eba66d3c",
   "metadata": {},
   "outputs": [
    {
     "data": {
      "text/plain": [
       "11"
      ]
     },
     "execution_count": 39,
     "metadata": {},
     "output_type": "execute_result"
    }
   ],
   "source": [
    "A[2][2]"
   ]
  },
  {
   "cell_type": "code",
   "execution_count": 40,
   "id": "3252ba60-d96f-4984-956b-e9e3fa569304",
   "metadata": {},
   "outputs": [],
   "source": [
    "s= [[1,2,3],[11,22,33,[500,502]],[45,[239,\"hii\"],56,77]]"
   ]
  },
  {
   "cell_type": "code",
   "execution_count": 41,
   "id": "1682decf-2f9a-43af-ae75-ebade694e5af",
   "metadata": {},
   "outputs": [
    {
     "data": {
      "text/plain": [
       "'hii'"
      ]
     },
     "execution_count": 41,
     "metadata": {},
     "output_type": "execute_result"
    }
   ],
   "source": [
    "s[2][1][1]"
   ]
  },
  {
   "cell_type": "code",
   "execution_count": 42,
   "id": "5978c274-d77a-4e66-b24f-845b6552c9de",
   "metadata": {},
   "outputs": [
    {
     "data": {
      "text/plain": [
       "'hii'"
      ]
     },
     "execution_count": 42,
     "metadata": {},
     "output_type": "execute_result"
    }
   ],
   "source": [
    "\n",
    "s[-1][1][-1]"
   ]
  },
  {
   "cell_type": "code",
   "execution_count": 3,
   "id": "77a0d2e8-d96c-4c39-959e-86e1c6f53a88",
   "metadata": {},
   "outputs": [
    {
     "data": {
      "text/plain": [
       "5000"
      ]
     },
     "execution_count": 3,
     "metadata": {},
     "output_type": "execute_result"
    }
   ],
   "source": [
    "amazon_cart =[[\"watch\",5000],[\"phone\",10000],[\"laptop\",50000]]\n",
    "\n",
    "total_cost =0\n",
    "\n",
    "amazon_cart[0][1]"
   ]
  },
  {
   "cell_type": "code",
   "execution_count": 4,
   "id": "3b8448f7-375d-456b-9489-c5af86e54b56",
   "metadata": {},
   "outputs": [
    {
     "data": {
      "text/plain": [
       "10000"
      ]
     },
     "execution_count": 4,
     "metadata": {},
     "output_type": "execute_result"
    }
   ],
   "source": [
    "amazon_cart[1][1]"
   ]
  },
  {
   "cell_type": "code",
   "execution_count": 5,
   "id": "86c31e22-eca0-4b5e-b22e-0971e74d7de6",
   "metadata": {},
   "outputs": [
    {
     "data": {
      "text/plain": [
       "50000"
      ]
     },
     "execution_count": 5,
     "metadata": {},
     "output_type": "execute_result"
    }
   ],
   "source": [
    "amazon_cart[2][1]"
   ]
  },
  {
   "cell_type": "code",
   "execution_count": 6,
   "id": "3b5b7b3c-5134-4a8e-a991-3f8e4a4557f7",
   "metadata": {},
   "outputs": [
    {
     "data": {
      "text/plain": [
       "65000"
      ]
     },
     "execution_count": 6,
     "metadata": {},
     "output_type": "execute_result"
    }
   ],
   "source": [
    "\n",
    "amazon_cart[0][1]+amazon_cart[1][1]+amazon_cart[2][1]\n"
   ]
  },
  {
   "cell_type": "code",
   "execution_count": 7,
   "id": "082415d8-fd4e-4389-a06c-0a0efa45e4c1",
   "metadata": {},
   "outputs": [
    {
     "name": "stdin",
     "output_type": "stream",
     "text": [
      " 3\n"
     ]
    },
    {
     "name": "stdout",
     "output_type": "stream",
     "text": [
      "5000\n",
      "10000\n",
      "50000\n",
      "65000\n"
     ]
    }
   ],
   "source": [
    "total_cost=0\n",
    "N=int(input())\n",
    "\n",
    "for i in range (len(amazon_cart)):\n",
    "    print(amazon_cart[i][1])\n",
    "    total_cost=total_cost+amazon_cart[i][1]\n",
    "print(total_cost)    "
   ]
  },
  {
   "cell_type": "code",
   "execution_count": 48,
   "id": "8244f27f-acbd-440e-8cfb-41c703b2d44e",
   "metadata": {},
   "outputs": [
    {
     "name": "stdout",
     "output_type": "stream",
     "text": [
      "5000\n",
      "cart adding watch: 1\n",
      "10000\n",
      "cart adding phone: 2\n",
      "50000\n",
      "cart adding laptop: 3\n",
      "total payable amount:3\n"
     ]
    }
   ],
   "source": [
    "total_cost=0\n",
    "N=int(input())\n",
    "\n",
    "for item in amazon_cart:\n",
    "    print(item[1])\n",
    "    total_cost=total_cost+1\n",
    "    print(f\"cart adding {item[0]}: {total_cost}\")\n",
    "print(f\"total payable amount:{total_cost}\")    "
   ]
  },
  {
   "cell_type": "markdown",
   "id": "1f10e2c2-80b0-426c-b0b9-78987d7bb000",
   "metadata": {},
   "source": [
    "### list comprehension"
   ]
  },
  {
   "cell_type": "code",
   "execution_count": 49,
   "id": "3647fd72-689d-4d94-b4e1-8b4948bdd59a",
   "metadata": {},
   "outputs": [],
   "source": [
    "a=[1,2,3,4,5,6,7,8,9,10]\n",
    "\n"
   ]
  },
  {
   "cell_type": "code",
   "execution_count": null,
   "id": "e62a461e-a2f0-485d-bead-2bb85cac7012",
   "metadata": {},
   "outputs": [],
   "source": []
  },
  {
   "cell_type": "code",
   "execution_count": 50,
   "id": "967162b5-fcdc-4641-94ca-9c66fe88fdf7",
   "metadata": {},
   "outputs": [
    {
     "name": "stdout",
     "output_type": "stream",
     "text": [
      "1\n",
      "4\n",
      "9\n",
      "16\n",
      "25\n",
      "36\n",
      "49\n",
      "64\n",
      "81\n"
     ]
    }
   ],
   "source": [
    "for i in range(1,10):\n",
    "    print(i**2)"
   ]
  },
  {
   "cell_type": "code",
   "execution_count": 51,
   "id": "8c6e96f4-6443-4ec3-a9bf-cc569180a318",
   "metadata": {},
   "outputs": [
    {
     "data": {
      "text/plain": [
       "[1, 2, 3, 4, 5, 6, 7, 8, 9, 10]"
      ]
     },
     "execution_count": 51,
     "metadata": {},
     "output_type": "execute_result"
    }
   ],
   "source": [
    "a"
   ]
  },
  {
   "cell_type": "code",
   "execution_count": 52,
   "id": "a82f1b96-5d0f-4b14-a293-6b55ee4ff8a3",
   "metadata": {},
   "outputs": [
    {
     "name": "stdout",
     "output_type": "stream",
     "text": [
      "1\n",
      "4\n",
      "9\n",
      "16\n",
      "25\n",
      "36\n",
      "49\n",
      "64\n",
      "81\n",
      "100\n"
     ]
    }
   ],
   "source": [
    "ans =list()\n",
    "\n",
    "for ele in a:\n",
    "    print(ele**2)\n",
    "    ans.append(ans)"
   ]
  },
  {
   "cell_type": "code",
   "execution_count": 53,
   "id": "38814b12-6d68-41ae-8180-cdcc22be0ec4",
   "metadata": {},
   "outputs": [],
   "source": [
    "ans=[ele**2 for ele in a]"
   ]
  },
  {
   "cell_type": "code",
   "execution_count": 54,
   "id": "9eb1cc1d-c626-477b-b673-0e22a14e1098",
   "metadata": {},
   "outputs": [
    {
     "name": "stdout",
     "output_type": "stream",
     "text": [
      "[1, 4, 9, 16, 25, 36, 49, 64, 81, 100]\n"
     ]
    }
   ],
   "source": [
    "print(ans)"
   ]
  },
  {
   "cell_type": "code",
   "execution_count": 55,
   "id": "fa6f1807-5b3a-4ae2-97d6-bd7815496fc3",
   "metadata": {},
   "outputs": [
    {
     "name": "stdout",
     "output_type": "stream",
     "text": [
      "1\n",
      "9\n",
      "25\n",
      "49\n",
      "81\n"
     ]
    }
   ],
   "source": [
    "l =list()\n",
    "\n",
    "for i in range(1,10,2):\n",
    "    \n",
    "    print(i**2)\n",
    "    \n",
    "\n",
    "    l.append(i)"
   ]
  },
  {
   "cell_type": "code",
   "execution_count": 56,
   "id": "1652fca3-35b1-422b-976e-cbd609eb01e7",
   "metadata": {},
   "outputs": [
    {
     "data": {
      "text/plain": [
       "[1, 3, 5, 7, 9]"
      ]
     },
     "execution_count": 56,
     "metadata": {},
     "output_type": "execute_result"
    }
   ],
   "source": [
    "l"
   ]
  },
  {
   "cell_type": "code",
   "execution_count": 57,
   "id": "76a69c16-0596-4567-9341-cf7dcc27ee30",
   "metadata": {},
   "outputs": [],
   "source": [
    "l=[i**2 for i in a]"
   ]
  },
  {
   "cell_type": "code",
   "execution_count": 58,
   "id": "dc9287cd-39f4-4fc7-b11a-85e3a906892c",
   "metadata": {},
   "outputs": [
    {
     "name": "stdout",
     "output_type": "stream",
     "text": [
      "[1, 4, 9, 16, 25, 36, 49, 64, 81, 100]\n"
     ]
    }
   ],
   "source": [
    "print(l)"
   ]
  },
  {
   "cell_type": "code",
   "execution_count": 59,
   "id": "812e1fda-8723-4130-946a-e0f381fd79ef",
   "metadata": {},
   "outputs": [
    {
     "data": {
      "text/plain": [
       "[1, 2, 3, 4, 5, 6, 7, 8, 9, 10]"
      ]
     },
     "execution_count": 59,
     "metadata": {},
     "output_type": "execute_result"
    }
   ],
   "source": [
    "a"
   ]
  },
  {
   "cell_type": "code",
   "execution_count": 60,
   "id": "5af65daa-faea-491c-a0c1-4ff1dc7bc172",
   "metadata": {},
   "outputs": [
    {
     "name": "stdout",
     "output_type": "stream",
     "text": [
      "1\n",
      "[1]\n",
      "9\n",
      "[1, 9]\n",
      "25\n",
      "[1, 9, 25]\n",
      "49\n",
      "[1, 9, 25, 49]\n",
      "81\n",
      "[1, 9, 25, 49, 81]\n"
     ]
    }
   ],
   "source": [
    "a=[1,2,3,4,5,6,7,8,9,10]\n",
    "\n",
    "\n",
    "ans=list()\n",
    "\n",
    "for i in a:\n",
    "    if i%2 !=0:\n",
    "        print(i**2)\n",
    "        ans.append(i**2)\n",
    "        print(ans)"
   ]
  },
  {
   "cell_type": "markdown",
   "id": "b4186c31-4ae0-4bc3-bf26-5c05deac8172",
   "metadata": {},
   "source": [
    "### count"
   ]
  },
  {
   "cell_type": "code",
   "execution_count": 61,
   "id": "4f05e21e-2985-449b-a8f8-f1e0eae803d1",
   "metadata": {},
   "outputs": [],
   "source": [
    "A=[1,2,1,3,32,89,11,2,[6,6],[6,6]]"
   ]
  },
  {
   "cell_type": "code",
   "execution_count": 62,
   "id": "e29e3956-66ba-487a-a4a9-0bf9957391ee",
   "metadata": {},
   "outputs": [
    {
     "data": {
      "text/plain": [
       "2"
      ]
     },
     "execution_count": 62,
     "metadata": {},
     "output_type": "execute_result"
    }
   ],
   "source": [
    "A.count(1)"
   ]
  },
  {
   "cell_type": "code",
   "execution_count": 63,
   "id": "42e507d3-71d0-49e9-97ce-b0138afe9b2e",
   "metadata": {},
   "outputs": [
    {
     "data": {
      "text/plain": [
       "2"
      ]
     },
     "execution_count": 63,
     "metadata": {},
     "output_type": "execute_result"
    }
   ],
   "source": [
    "A.count([6,6])"
   ]
  },
  {
   "cell_type": "code",
   "execution_count": 64,
   "id": "b3e6f042-8086-4d0a-bdbf-986661ccc80f",
   "metadata": {},
   "outputs": [
    {
     "data": {
      "text/plain": [
       "2"
      ]
     },
     "execution_count": 64,
     "metadata": {},
     "output_type": "execute_result"
    }
   ],
   "source": [
    "A[-1].count(6)"
   ]
  },
  {
   "cell_type": "code",
   "execution_count": 65,
   "id": "58228d39-f7ca-4c94-9b5c-894ba3d4ea3d",
   "metadata": {},
   "outputs": [
    {
     "data": {
      "text/plain": [
       "[1, 2, 1, 3, 32, 89, 11, 2, [6, 6], [6, 6]]"
      ]
     },
     "execution_count": 65,
     "metadata": {},
     "output_type": "execute_result"
    }
   ],
   "source": [
    "A"
   ]
  },
  {
   "cell_type": "code",
   "execution_count": 66,
   "id": "52aeb586-445a-40d1-806c-4ec5da92f86b",
   "metadata": {},
   "outputs": [
    {
     "name": "stdout",
     "output_type": "stream",
     "text": [
      "1 2\n",
      "2 2\n",
      "1 2\n",
      "3 1\n",
      "32 1\n",
      "89 1\n",
      "11 1\n",
      "2 2\n",
      "[6, 6] 2\n",
      "[6, 6] 2\n"
     ]
    }
   ],
   "source": [
    "for i in A:\n",
    "    print(i,A.count(i))"
   ]
  },
  {
   "cell_type": "code",
   "execution_count": 52,
   "id": "b70fd522-0147-4dba-b1e9-1f2e0cd3651e",
   "metadata": {},
   "outputs": [
    {
     "name": "stdout",
     "output_type": "stream",
     "text": [
      "v 1\n",
      "e 2\n",
      "e 2\n",
      "n 1\n",
      "a 1\n"
     ]
    }
   ],
   "source": [
    "B=\"veena\"\n",
    "\n",
    "for i in B:\n",
    "    print(i,B.count(i))"
   ]
  },
  {
   "cell_type": "code",
   "execution_count": 53,
   "id": "6ff2ebae-c646-47b8-9f68-5b93a789964f",
   "metadata": {},
   "outputs": [
    {
     "name": "stdout",
     "output_type": "stream",
     "text": [
      "veena 2\n",
      "ashok 1\n",
      "veena 2\n"
     ]
    }
   ],
   "source": [
    "B=\"veena\",\"ashok\",'veena'\n",
    "\n",
    "for i in B:\n",
    "    print(i,B.count(i))"
   ]
  },
  {
   "cell_type": "markdown",
   "id": "ad84cdfc-a888-4330-a69d-38507328e60f",
   "metadata": {},
   "source": [
    "### extend"
   ]
  },
  {
   "cell_type": "code",
   "execution_count": 54,
   "id": "2bfac0ed-09c3-40b9-b42e-61f3d8411fc5",
   "metadata": {},
   "outputs": [
    {
     "data": {
      "text/plain": [
       "[1, 2, 3, 4, 5, 6]"
      ]
     },
     "execution_count": 54,
     "metadata": {},
     "output_type": "execute_result"
    }
   ],
   "source": [
    "Z=[1,2,3]\n",
    "\n",
    "Y=[4,5,6]\n",
    "\n",
    "Z+Y"
   ]
  },
  {
   "cell_type": "code",
   "execution_count": 55,
   "id": "925e7025-2004-44a2-90e9-cb95f9ede743",
   "metadata": {},
   "outputs": [
    {
     "name": "stdout",
     "output_type": "stream",
     "text": [
      "[1, 2, 3, 4, 5, 6]\n"
     ]
    }
   ],
   "source": [
    "Z.extend(Y)\n",
    "\n",
    "print(Z)"
   ]
  },
  {
   "cell_type": "code",
   "execution_count": 56,
   "id": "82d152b4-2c72-4716-84e7-6ea11e7cc9ce",
   "metadata": {},
   "outputs": [
    {
     "data": {
      "text/plain": [
       "[1, 2, 3, 4, 5, 6, [4, 5, 6]]"
      ]
     },
     "execution_count": 56,
     "metadata": {},
     "output_type": "execute_result"
    }
   ],
   "source": [
    "Z.append(Y)\n",
    "\n",
    "Z"
   ]
  },
  {
   "cell_type": "markdown",
   "id": "c6f00dfa-8445-4f71-8e52-b390241ab805",
   "metadata": {},
   "source": [
    "### index"
   ]
  },
  {
   "cell_type": "code",
   "execution_count": 57,
   "id": "d7ca8c5a-4ed4-41e7-aee9-fa4f1829b881",
   "metadata": {},
   "outputs": [],
   "source": [
    "S=[123,2,34,445,\"veena\",89+4j]"
   ]
  },
  {
   "cell_type": "code",
   "execution_count": 58,
   "id": "f542a3ea-d00b-48a6-8a00-0e5b41d7fe55",
   "metadata": {},
   "outputs": [
    {
     "data": {
      "text/plain": [
       "0"
      ]
     },
     "execution_count": 58,
     "metadata": {},
     "output_type": "execute_result"
    }
   ],
   "source": [
    "S.index(123)"
   ]
  },
  {
   "cell_type": "code",
   "execution_count": 59,
   "id": "7b8c0a06-59c9-4bc6-95c4-6bebfcb5398d",
   "metadata": {},
   "outputs": [
    {
     "data": {
      "text/plain": [
       "4"
      ]
     },
     "execution_count": 59,
     "metadata": {},
     "output_type": "execute_result"
    }
   ],
   "source": [
    "S.index(\"veena\")"
   ]
  },
  {
   "cell_type": "code",
   "execution_count": 60,
   "id": "e1b962b1-9f5e-4407-9f9f-46b7647e2b12",
   "metadata": {},
   "outputs": [
    {
     "name": "stdout",
     "output_type": "stream",
     "text": [
      "element:(89+4j),type :<class 'complex'> ,index :5\n"
     ]
    }
   ],
   "source": [
    "for i in S:\n",
    "    if type(i)==complex:\n",
    "        print(f\"element:{i},type :{type(i)} ,index :{S.index(i)}\")"
   ]
  },
  {
   "cell_type": "code",
   "execution_count": 61,
   "id": "d3dd5472-f952-4636-92a0-7608082d623a",
   "metadata": {},
   "outputs": [
    {
     "name": "stdout",
     "output_type": "stream",
     "text": [
      "element:(89+4j),type :<class 'complex'> ,index :5\n"
     ]
    }
   ],
   "source": [
    "for i in S:\n",
    "    if isinstance( i,complex):\n",
    "        print(f\"element:{i},type :{type(i)} ,index :{S.index(i)}\")"
   ]
  },
  {
   "cell_type": "code",
   "execution_count": 62,
   "id": "429584ce-0c0b-44c2-bb1c-3888cdab7d43",
   "metadata": {},
   "outputs": [
    {
     "name": "stdout",
     "output_type": "stream",
     "text": [
      "element:123,type :<class 'int'> ,index :0\n",
      "element:2,type :<class 'int'> ,index :1\n",
      "element:34,type :<class 'int'> ,index :2\n",
      "element:445,type :<class 'int'> ,index :3\n"
     ]
    }
   ],
   "source": [
    "for i in S:\n",
    "    if type(i)==int:\n",
    "        print(f\"element:{i},type :{type(i)} ,index :{S.index(i)}\")"
   ]
  },
  {
   "cell_type": "code",
   "execution_count": 63,
   "id": "c52a7080-1d40-461b-94f4-5934c945aba4",
   "metadata": {},
   "outputs": [
    {
     "name": "stdout",
     "output_type": "stream",
     "text": [
      "element:veena,type :<class 'str'> ,index :4\n"
     ]
    }
   ],
   "source": [
    "for i in S:\n",
    "    if type(i)==str:\n",
    "        print(f\"element:{i},type :{type(i)} ,index :{S.index(i)}\")"
   ]
  },
  {
   "cell_type": "code",
   "execution_count": 64,
   "id": "f9ec50f9-c2ff-45b6-bb7f-095e7631370f",
   "metadata": {},
   "outputs": [
    {
     "name": "stdout",
     "output_type": "stream",
     "text": [
      "123 0\n",
      "2 1\n",
      "34 2\n",
      "445 3\n",
      "(89+4j) 5\n"
     ]
    }
   ],
   "source": [
    "for i in S:\n",
    "    if type(i)==complex or type(i)==int:\n",
    "        print(i,S.index(i))"
   ]
  },
  {
   "cell_type": "code",
   "execution_count": 65,
   "id": "d1616253-f714-404e-844f-5428a8ba97a1",
   "metadata": {},
   "outputs": [
    {
     "name": "stdout",
     "output_type": "stream",
     "text": [
      "element:123,type :<class 'int'> ,index :0\n",
      "element:2,type :<class 'int'> ,index :1\n",
      "element:34,type :<class 'int'> ,index :2\n",
      "element:445,type :<class 'int'> ,index :3\n",
      "element:(89+4j),type :<class 'complex'> ,index :5\n"
     ]
    }
   ],
   "source": [
    "for i  in S:\n",
    "    if isinstance(i,(complex,int)):\n",
    "        print(f\"element:{i},type :{type(i)} ,index :{S.index(i)}\")"
   ]
  },
  {
   "cell_type": "code",
   "execution_count": 66,
   "id": "643cec1d-7038-43c1-8ac5-a70ef6ebdeee",
   "metadata": {},
   "outputs": [],
   "source": [
    "ans =[i for i in S if isinstance (i,complex)]"
   ]
  },
  {
   "cell_type": "code",
   "execution_count": 67,
   "id": "1a6404bf-62f8-4377-8d88-c5f7a51a8b0b",
   "metadata": {},
   "outputs": [
    {
     "data": {
      "text/plain": [
       "[(89+4j)]"
      ]
     },
     "execution_count": 67,
     "metadata": {},
     "output_type": "execute_result"
    }
   ],
   "source": [
    "ans"
   ]
  },
  {
   "cell_type": "code",
   "execution_count": 68,
   "id": "e269500c-3734-4b9c-8170-d209f2659d2d",
   "metadata": {},
   "outputs": [],
   "source": [
    "ans =[i for i in S if type(i)==complex or type(i)==int]"
   ]
  },
  {
   "cell_type": "code",
   "execution_count": 69,
   "id": "ad22a9cd-bf33-4160-bedc-993b22a7d948",
   "metadata": {},
   "outputs": [
    {
     "data": {
      "text/plain": [
       "[123, 2, 34, 445, (89+4j)]"
      ]
     },
     "execution_count": 69,
     "metadata": {},
     "output_type": "execute_result"
    }
   ],
   "source": [
    "ans"
   ]
  },
  {
   "cell_type": "code",
   "execution_count": 70,
   "id": "58e89d56-4b33-4cc4-a267-77e54dac1a80",
   "metadata": {},
   "outputs": [
    {
     "data": {
      "text/plain": [
       "4.999999999999999"
      ]
     },
     "execution_count": 70,
     "metadata": {},
     "output_type": "execute_result"
    }
   ],
   "source": [
    "125**(1/3)                                       \n"
   ]
  },
  {
   "cell_type": "code",
   "execution_count": 71,
   "id": "3c68933c-90bf-426f-9078-82778f40b435",
   "metadata": {},
   "outputs": [
    {
     "name": "stdout",
     "output_type": "stream",
     "text": [
      "1 1\n",
      "3 27\n",
      "5 125\n",
      "7 343\n",
      "9 729\n",
      "11 1331\n",
      "13 2197\n"
     ]
    }
   ],
   "source": [
    "for i in range(1,15,2):\n",
    "    if i**3:\n",
    "        print(i,i**3)\n",
    "        "
   ]
  },
  {
   "cell_type": "code",
   "execution_count": 72,
   "id": "7b6d481d-f57f-4719-a697-ad7e2773ca8e",
   "metadata": {},
   "outputs": [
    {
     "data": {
      "text/plain": [
       "1"
      ]
     },
     "execution_count": 72,
     "metadata": {},
     "output_type": "execute_result"
    }
   ],
   "source": [
    "X=[1,2,3,2,1,[56,76],[8,90,76]]\n",
    "\n",
    "X[5].index(76)"
   ]
  },
  {
   "cell_type": "markdown",
   "id": "7b800e61-fa31-4110-9e06-3c67dc395e5d",
   "metadata": {},
   "source": [
    "### insert"
   ]
  },
  {
   "cell_type": "code",
   "execution_count": 73,
   "id": "0845cd87-136c-4476-af6d-dc5171032a7a",
   "metadata": {},
   "outputs": [
    {
     "data": {
      "text/plain": [
       "[1, 2, 3, 4, 5, 6, 99]"
      ]
     },
     "execution_count": 73,
     "metadata": {},
     "output_type": "execute_result"
    }
   ],
   "source": [
    "A =[1,2,3,4,5,6]\n",
    "\n",
    "\n",
    "A.append(99)\n",
    "\n",
    "A"
   ]
  },
  {
   "cell_type": "code",
   "execution_count": 74,
   "id": "b52b2bdf-7e22-4608-8bcc-b715a9084bcf",
   "metadata": {},
   "outputs": [
    {
     "data": {
      "text/plain": [
       "7"
      ]
     },
     "execution_count": 74,
     "metadata": {},
     "output_type": "execute_result"
    }
   ],
   "source": [
    "len(A)"
   ]
  },
  {
   "cell_type": "code",
   "execution_count": 75,
   "id": "ed32c82d-0252-478a-9c05-3e7f15497482",
   "metadata": {},
   "outputs": [],
   "source": [
    "A.insert(200,\"veena\")"
   ]
  },
  {
   "cell_type": "code",
   "execution_count": 76,
   "id": "4c4e1313-ff75-4c2a-84e3-92a433ec902b",
   "metadata": {},
   "outputs": [
    {
     "data": {
      "text/plain": [
       "[1, 2, 3, 4, 5, 6, 99, 'veena']"
      ]
     },
     "execution_count": 76,
     "metadata": {},
     "output_type": "execute_result"
    }
   ],
   "source": [
    "A"
   ]
  },
  {
   "cell_type": "code",
   "execution_count": 77,
   "id": "3774b47f-9be1-4e16-ad67-003d4ccc3f93",
   "metadata": {},
   "outputs": [
    {
     "data": {
      "text/plain": [
       "7"
      ]
     },
     "execution_count": 77,
     "metadata": {},
     "output_type": "execute_result"
    }
   ],
   "source": [
    "A.index(\"veena\")"
   ]
  },
  {
   "cell_type": "code",
   "execution_count": 78,
   "id": "ddf851c7-e3e4-4bf8-bfff-255b98ab7e69",
   "metadata": {},
   "outputs": [
    {
     "data": {
      "text/plain": [
       "['ashok', 1, 2, 3, 4, 5, 6, 99, 'veena']"
      ]
     },
     "execution_count": 78,
     "metadata": {},
     "output_type": "execute_result"
    }
   ],
   "source": [
    "A.insert(-500,\"ashok\")\n",
    "\n",
    "A"
   ]
  },
  {
   "cell_type": "code",
   "execution_count": 79,
   "id": "6d3fb34d-7359-4bb4-934d-f1c6b73f2c32",
   "metadata": {},
   "outputs": [
    {
     "ename": "IndexError",
     "evalue": "list index out of range",
     "output_type": "error",
     "traceback": [
      "\u001b[0;31m---------------------------------------------------------------------------\u001b[0m",
      "\u001b[0;31mIndexError\u001b[0m                                Traceback (most recent call last)",
      "Input \u001b[0;32mIn [79]\u001b[0m, in \u001b[0;36m<cell line: 1>\u001b[0;34m()\u001b[0m\n\u001b[0;32m----> 1\u001b[0m \u001b[43mA\u001b[49m\u001b[43m[\u001b[49m\u001b[38;5;241;43m200\u001b[39;49m\u001b[43m]\u001b[49m\n",
      "\u001b[0;31mIndexError\u001b[0m: list index out of range"
     ]
    }
   ],
   "source": [
    "A[200]"
   ]
  },
  {
   "cell_type": "code",
   "execution_count": 80,
   "id": "0a29bc77-def3-420c-bf95-f3b6715f4325",
   "metadata": {},
   "outputs": [
    {
     "data": {
      "text/plain": [
       "9"
      ]
     },
     "execution_count": 80,
     "metadata": {},
     "output_type": "execute_result"
    }
   ],
   "source": [
    "len(A)"
   ]
  },
  {
   "cell_type": "code",
   "execution_count": 81,
   "id": "5315c845-46b6-48fb-9949-2897c2783561",
   "metadata": {},
   "outputs": [],
   "source": [
    "A.insert(2,\"parvthi\")"
   ]
  },
  {
   "cell_type": "code",
   "execution_count": 82,
   "id": "863296af-8c31-4075-8294-6bb4800b5f6d",
   "metadata": {},
   "outputs": [
    {
     "data": {
      "text/plain": [
       "10"
      ]
     },
     "execution_count": 82,
     "metadata": {},
     "output_type": "execute_result"
    }
   ],
   "source": [
    "A\n",
    "\n",
    "len(A)"
   ]
  },
  {
   "cell_type": "code",
   "execution_count": 83,
   "id": "6a1e2017-371f-4625-81c4-7e87602d78a4",
   "metadata": {},
   "outputs": [],
   "source": [
    "A.insert(3,[1,2,3,5,4])"
   ]
  },
  {
   "cell_type": "code",
   "execution_count": 84,
   "id": "7f345259-39f4-44d6-8427-bea3fe66fec3",
   "metadata": {},
   "outputs": [
    {
     "data": {
      "text/plain": [
       "['ashok', 1, 'parvthi', [1, 2, 3, 5, 4], 2, 3, 4, 5, 6, 99, 'veena']"
      ]
     },
     "execution_count": 84,
     "metadata": {},
     "output_type": "execute_result"
    }
   ],
   "source": [
    "A"
   ]
  },
  {
   "cell_type": "code",
   "execution_count": 85,
   "id": "14768cd2-7686-4222-9eec-836cdb8a4e2d",
   "metadata": {},
   "outputs": [
    {
     "data": {
      "text/plain": [
       "12"
      ]
     },
     "execution_count": 85,
     "metadata": {},
     "output_type": "execute_result"
    }
   ],
   "source": [
    "A.append(2)\n",
    "\n",
    "\n",
    "A\n",
    "\n",
    "len(A)"
   ]
  },
  {
   "cell_type": "code",
   "execution_count": 86,
   "id": "d211a7fb-0ffe-4830-ae31-ae49a5336092",
   "metadata": {},
   "outputs": [
    {
     "data": {
      "text/plain": [
       "['ashok', 1, 'parvthi', [1, 2, 3, 5, 4], 2, 3, 4, 5, 6, 99, 'veena', 2]"
      ]
     },
     "execution_count": 86,
     "metadata": {},
     "output_type": "execute_result"
    }
   ],
   "source": [
    "A"
   ]
  },
  {
   "cell_type": "code",
   "execution_count": 87,
   "id": "66a45a23-70b1-4fde-867c-efecb488b961",
   "metadata": {},
   "outputs": [
    {
     "data": {
      "text/plain": [
       "[1, 1, 2, 1, 445, 6678, 54]"
      ]
     },
     "execution_count": 87,
     "metadata": {},
     "output_type": "execute_result"
    }
   ],
   "source": [
    "X=[1,1,2,3,1,445,6678,54]\n",
    "\n",
    "X.remove(3)\n",
    "\n",
    "X"
   ]
  },
  {
   "cell_type": "code",
   "execution_count": 88,
   "id": "6b351e38-fa30-4cd9-88cb-affbd5b5a8d7",
   "metadata": {},
   "outputs": [],
   "source": [
    "X.remove(1)"
   ]
  },
  {
   "cell_type": "code",
   "execution_count": 89,
   "id": "7e2d7953-bad0-4937-ba5f-75a65efe695a",
   "metadata": {},
   "outputs": [
    {
     "data": {
      "text/plain": [
       "[1, 2, 1, 445, 6678, 54]"
      ]
     },
     "execution_count": 89,
     "metadata": {},
     "output_type": "execute_result"
    }
   ],
   "source": [
    "X"
   ]
  },
  {
   "cell_type": "code",
   "execution_count": 90,
   "id": "c10c8d98-567b-425b-a9d8-d25e7ac5a31c",
   "metadata": {},
   "outputs": [
    {
     "ename": "ValueError",
     "evalue": "list.remove(x): x not in list",
     "output_type": "error",
     "traceback": [
      "\u001b[0;31m---------------------------------------------------------------------------\u001b[0m",
      "\u001b[0;31mValueError\u001b[0m                                Traceback (most recent call last)",
      "Input \u001b[0;32mIn [90]\u001b[0m, in \u001b[0;36m<cell line: 1>\u001b[0;34m()\u001b[0m\n\u001b[0;32m----> 1\u001b[0m \u001b[43mX\u001b[49m\u001b[38;5;241;43m.\u001b[39;49m\u001b[43mremove\u001b[49m\u001b[43m(\u001b[49m\u001b[38;5;241;43m123\u001b[39;49m\u001b[43m)\u001b[49m\n",
      "\u001b[0;31mValueError\u001b[0m: list.remove(x): x not in list"
     ]
    }
   ],
   "source": [
    "X.remove(123)"
   ]
  },
  {
   "cell_type": "code",
   "execution_count": 91,
   "id": "05f8e6a2-1b31-410c-964c-67c0726297c8",
   "metadata": {},
   "outputs": [
    {
     "data": {
      "text/plain": [
       "54"
      ]
     },
     "execution_count": 91,
     "metadata": {},
     "output_type": "execute_result"
    }
   ],
   "source": [
    "X.pop(-1)"
   ]
  },
  {
   "cell_type": "code",
   "execution_count": 92,
   "id": "ae7e2a71-5749-4203-8c8b-f7b8d28774b7",
   "metadata": {},
   "outputs": [
    {
     "data": {
      "text/plain": [
       "[1, 2, 1, 445, 6678]"
      ]
     },
     "execution_count": 92,
     "metadata": {},
     "output_type": "execute_result"
    }
   ],
   "source": [
    "X"
   ]
  },
  {
   "cell_type": "code",
   "execution_count": null,
   "id": "42306d3e-a807-4b67-b8c1-2e061d9ac38a",
   "metadata": {},
   "outputs": [],
   "source": []
  },
  {
   "cell_type": "markdown",
   "id": "da4417ac-6363-4593-99d4-84040bde896c",
   "metadata": {
    "tags": []
   },
   "source": [
    "#### Tuples --()--immutable\n",
    "LIST----[]-----mutable"
   ]
  },
  {
   "cell_type": "code",
   "execution_count": 93,
   "id": "4f7b8c1b-6a62-465e-8c13-a3af93b3dc88",
   "metadata": {},
   "outputs": [
    {
     "name": "stdout",
     "output_type": "stream",
     "text": [
      "<class 'tuple'>\n"
     ]
    }
   ],
   "source": [
    "A=(1,2,34)\n",
    "\n",
    "print(type(A))"
   ]
  },
  {
   "cell_type": "code",
   "execution_count": 94,
   "id": "f6740166-a2cb-4016-b278-cf3ae0952e14",
   "metadata": {},
   "outputs": [
    {
     "data": {
      "text/plain": [
       "34"
      ]
     },
     "execution_count": 94,
     "metadata": {},
     "output_type": "execute_result"
    }
   ],
   "source": [
    "A[-1]"
   ]
  },
  {
   "cell_type": "code",
   "execution_count": 95,
   "id": "8eb7fb54-43f0-4784-99c6-05b7c47b9ce7",
   "metadata": {},
   "outputs": [
    {
     "ename": "TypeError",
     "evalue": "'tuple' object does not support item assignment",
     "output_type": "error",
     "traceback": [
      "\u001b[0;31m---------------------------------------------------------------------------\u001b[0m",
      "\u001b[0;31mTypeError\u001b[0m                                 Traceback (most recent call last)",
      "Input \u001b[0;32mIn [95]\u001b[0m, in \u001b[0;36m<cell line: 1>\u001b[0;34m()\u001b[0m\n\u001b[0;32m----> 1\u001b[0m A[\u001b[38;5;241m0\u001b[39m]\u001b[38;5;241m=\u001b[39m\u001b[38;5;241m22\u001b[39m\n",
      "\u001b[0;31mTypeError\u001b[0m: 'tuple' object does not support item assignment"
     ]
    }
   ],
   "source": [
    "A[0]=22"
   ]
  },
  {
   "cell_type": "code",
   "execution_count": 96,
   "id": "98ad6fac-4856-42d2-918d-22148a576ee3",
   "metadata": {},
   "outputs": [],
   "source": [
    "A=(23,445,56,78,45,12)"
   ]
  },
  {
   "cell_type": "code",
   "execution_count": 97,
   "id": "23ab878b-12a6-4a18-9820-f90bce4f2aff",
   "metadata": {},
   "outputs": [
    {
     "ename": "AttributeError",
     "evalue": "'tuple' object has no attribute 'sort'",
     "output_type": "error",
     "traceback": [
      "\u001b[0;31m---------------------------------------------------------------------------\u001b[0m",
      "\u001b[0;31mAttributeError\u001b[0m                            Traceback (most recent call last)",
      "Input \u001b[0;32mIn [97]\u001b[0m, in \u001b[0;36m<cell line: 1>\u001b[0;34m()\u001b[0m\n\u001b[0;32m----> 1\u001b[0m \u001b[43mA\u001b[49m\u001b[38;5;241;43m.\u001b[39;49m\u001b[43msort\u001b[49m()\n\u001b[1;32m      2\u001b[0m A\n",
      "\u001b[0;31mAttributeError\u001b[0m: 'tuple' object has no attribute 'sort'"
     ]
    }
   ],
   "source": [
    "A.sort()\n",
    "A"
   ]
  },
  {
   "cell_type": "code",
   "execution_count": 98,
   "id": "90953b7d-58da-4dd7-babd-6eede052fd51",
   "metadata": {},
   "outputs": [
    {
     "data": {
      "text/plain": [
       "12"
      ]
     },
     "execution_count": 98,
     "metadata": {},
     "output_type": "execute_result"
    }
   ],
   "source": [
    "A[-1]"
   ]
  },
  {
   "cell_type": "code",
   "execution_count": 99,
   "id": "35ee23b9-f121-439d-bca0-2cc3e3f9e0bd",
   "metadata": {},
   "outputs": [
    {
     "data": {
      "text/plain": [
       "[12, 23, 45, 56, 78, 445]"
      ]
     },
     "execution_count": 99,
     "metadata": {},
     "output_type": "execute_result"
    }
   ],
   "source": [
    "sorted(A)"
   ]
  },
  {
   "cell_type": "code",
   "execution_count": 100,
   "id": "600dd67f-3520-4f92-8356-25f83fa06451",
   "metadata": {},
   "outputs": [
    {
     "data": {
      "text/plain": [
       "(23, 445, 56, 78, 45, 12)"
      ]
     },
     "execution_count": 100,
     "metadata": {},
     "output_type": "execute_result"
    }
   ],
   "source": [
    "A"
   ]
  },
  {
   "cell_type": "code",
   "execution_count": 101,
   "id": "1cc6027a-5e54-4005-987f-8f47be6982a5",
   "metadata": {},
   "outputs": [],
   "source": [
    "A=sorted(A)"
   ]
  },
  {
   "cell_type": "code",
   "execution_count": 102,
   "id": "aeebe4a8-4b70-4ca9-9691-691036b7eee9",
   "metadata": {},
   "outputs": [
    {
     "data": {
      "text/plain": [
       "[12, 23, 45, 56, 78, 445]"
      ]
     },
     "execution_count": 102,
     "metadata": {},
     "output_type": "execute_result"
    }
   ],
   "source": [
    "A"
   ]
  },
  {
   "cell_type": "code",
   "execution_count": 103,
   "id": "716bfe38-2ce2-4390-95c7-1d07a2988a40",
   "metadata": {},
   "outputs": [],
   "source": [
    "A=tuple(A)"
   ]
  },
  {
   "cell_type": "code",
   "execution_count": 104,
   "id": "b7e97ef1-485b-45f7-b10a-64b9fe690123",
   "metadata": {},
   "outputs": [
    {
     "data": {
      "text/plain": [
       "(12, 23, 45, 56, 78, 445)"
      ]
     },
     "execution_count": 104,
     "metadata": {},
     "output_type": "execute_result"
    }
   ],
   "source": [
    "A"
   ]
  },
  {
   "cell_type": "code",
   "execution_count": 105,
   "id": "56b9b6e3-28f3-4a74-902b-490ba4791f45",
   "metadata": {},
   "outputs": [
    {
     "data": {
      "text/plain": [
       "6"
      ]
     },
     "execution_count": 105,
     "metadata": {},
     "output_type": "execute_result"
    }
   ],
   "source": [
    "len(A)"
   ]
  },
  {
   "cell_type": "code",
   "execution_count": 106,
   "id": "70cb03eb-7dc2-4936-bc84-cfd37a6939fb",
   "metadata": {},
   "outputs": [
    {
     "data": {
      "text/plain": [
       "(12, 23, 45, 56, 78, 445, 12, 23, 45, 56, 78, 445)"
      ]
     },
     "execution_count": 106,
     "metadata": {},
     "output_type": "execute_result"
    }
   ],
   "source": [
    "A*2\n",
    "\n"
   ]
  },
  {
   "cell_type": "code",
   "execution_count": 107,
   "id": "e73aab70-0bc2-4154-8439-94288bd27387",
   "metadata": {},
   "outputs": [],
   "source": [
    "A=A*2"
   ]
  },
  {
   "cell_type": "code",
   "execution_count": 108,
   "id": "641ab31f-018d-4f4e-a219-47692f2ba0fa",
   "metadata": {},
   "outputs": [
    {
     "data": {
      "text/plain": [
       "(12, 23, 45, 56, 78, 445, 12, 23, 45, 56, 78, 445)"
      ]
     },
     "execution_count": 108,
     "metadata": {},
     "output_type": "execute_result"
    }
   ],
   "source": [
    "A"
   ]
  },
  {
   "cell_type": "code",
   "execution_count": 109,
   "id": "d61bd7ec-15cb-4f61-8bfd-ff19766982f5",
   "metadata": {},
   "outputs": [
    {
     "data": {
      "text/plain": [
       "445"
      ]
     },
     "execution_count": 109,
     "metadata": {},
     "output_type": "execute_result"
    }
   ],
   "source": [
    "max(A)"
   ]
  },
  {
   "cell_type": "code",
   "execution_count": 110,
   "id": "d7745af5-96cc-4739-9284-103a0c1f144c",
   "metadata": {},
   "outputs": [
    {
     "data": {
      "text/plain": [
       "12"
      ]
     },
     "execution_count": 110,
     "metadata": {},
     "output_type": "execute_result"
    }
   ],
   "source": [
    "min(A)"
   ]
  },
  {
   "cell_type": "code",
   "execution_count": 111,
   "id": "409d301b-71bb-47d3-b4ce-e1dc5072caa6",
   "metadata": {},
   "outputs": [
    {
     "data": {
      "text/plain": [
       "0"
      ]
     },
     "execution_count": 111,
     "metadata": {},
     "output_type": "execute_result"
    }
   ],
   "source": [
    "A.index(12)"
   ]
  },
  {
   "cell_type": "code",
   "execution_count": 112,
   "id": "c67842b2-a7e6-4d5b-9f2a-97886f5df318",
   "metadata": {},
   "outputs": [
    {
     "data": {
      "text/plain": [
       "2"
      ]
     },
     "execution_count": 112,
     "metadata": {},
     "output_type": "execute_result"
    }
   ],
   "source": [
    "A.count(56)"
   ]
  },
  {
   "cell_type": "code",
   "execution_count": 113,
   "id": "d0344de9-ffc7-4509-9064-a9f9bd2e2519",
   "metadata": {},
   "outputs": [
    {
     "data": {
      "text/plain": [
       "1318"
      ]
     },
     "execution_count": 113,
     "metadata": {},
     "output_type": "execute_result"
    }
   ],
   "source": [
    "sum(A)"
   ]
  },
  {
   "cell_type": "code",
   "execution_count": 114,
   "id": "6af83550-77a2-41a4-86d1-2c4ec979ab45",
   "metadata": {},
   "outputs": [
    {
     "ename": "AttributeError",
     "evalue": "'tuple' object has no attribute 'reversed'",
     "output_type": "error",
     "traceback": [
      "\u001b[0;31m---------------------------------------------------------------------------\u001b[0m",
      "\u001b[0;31mAttributeError\u001b[0m                            Traceback (most recent call last)",
      "Input \u001b[0;32mIn [114]\u001b[0m, in \u001b[0;36m<cell line: 1>\u001b[0;34m()\u001b[0m\n\u001b[0;32m----> 1\u001b[0m \u001b[43mA\u001b[49m\u001b[38;5;241;43m.\u001b[39;49m\u001b[43mreversed\u001b[49m()\n",
      "\u001b[0;31mAttributeError\u001b[0m: 'tuple' object has no attribute 'reversed'"
     ]
    }
   ],
   "source": [
    "A.reversed()"
   ]
  },
  {
   "cell_type": "code",
   "execution_count": 115,
   "id": "c883a6c7-bc14-43aa-92c1-e1d17700c7ae",
   "metadata": {},
   "outputs": [
    {
     "data": {
      "text/plain": [
       "(445, 78, 56, 45, 23, 12, 445, 78, 56, 45, 23, 12)"
      ]
     },
     "execution_count": 115,
     "metadata": {},
     "output_type": "execute_result"
    }
   ],
   "source": [
    "A[::-1]"
   ]
  },
  {
   "cell_type": "code",
   "execution_count": 116,
   "id": "dd8a0eab-1cf5-4c02-84b5-231f51e2aa89",
   "metadata": {},
   "outputs": [],
   "source": [
    "amazon_cart =[(\"watch\",5000),(\"phone\",10000),(\"laptop\",50000)]\n",
    "\n",
    "total_cost =0\n"
   ]
  },
  {
   "cell_type": "code",
   "execution_count": 117,
   "id": "0cc7f386-4916-4cb3-895d-e68b408818f1",
   "metadata": {},
   "outputs": [
    {
     "data": {
      "text/plain": [
       "[('watch', 5000), ('phone', 10000), ('laptop', 50000)]"
      ]
     },
     "execution_count": 117,
     "metadata": {},
     "output_type": "execute_result"
    }
   ],
   "source": [
    "amazon_cart"
   ]
  },
  {
   "cell_type": "code",
   "execution_count": 118,
   "id": "f8ebfdef-0022-4a8e-8e1b-b34fb223c208",
   "metadata": {},
   "outputs": [],
   "source": [
    "amazon_cart=list(amazon_cart)"
   ]
  },
  {
   "cell_type": "code",
   "execution_count": 119,
   "id": "7bf7141a-3342-4abe-848e-6c19611b8d87",
   "metadata": {},
   "outputs": [
    {
     "data": {
      "text/plain": [
       "[('watch', 5000), ('phone', 10000), ('laptop', 50000)]"
      ]
     },
     "execution_count": 119,
     "metadata": {},
     "output_type": "execute_result"
    }
   ],
   "source": [
    "amazon_cart"
   ]
  },
  {
   "cell_type": "code",
   "execution_count": 120,
   "id": "a9bc86fb-2d47-4d6e-bbce-d642d7b46e6b",
   "metadata": {},
   "outputs": [
    {
     "data": {
      "text/plain": [
       "list"
      ]
     },
     "execution_count": 120,
     "metadata": {},
     "output_type": "execute_result"
    }
   ],
   "source": [
    " type(amazon_cart)"
   ]
  },
  {
   "cell_type": "code",
   "execution_count": 121,
   "id": "fa697c74-14bd-43d2-b427-15789c31df1a",
   "metadata": {},
   "outputs": [
    {
     "data": {
      "text/plain": [
       "(445, 56, 23, 445, 56, 23)"
      ]
     },
     "execution_count": 121,
     "metadata": {},
     "output_type": "execute_result"
    }
   ],
   "source": [
    "A[::-2]"
   ]
  },
  {
   "cell_type": "code",
   "execution_count": 122,
   "id": "c2b15eb8-b6df-4490-9fba-97507fc4540d",
   "metadata": {},
   "outputs": [
    {
     "data": {
      "text/plain": [
       "(12, 23, 45, 56, 78, 445, 12, 23, 45, 56, 78, 445)"
      ]
     },
     "execution_count": 122,
     "metadata": {},
     "output_type": "execute_result"
    }
   ],
   "source": [
    "A"
   ]
  },
  {
   "cell_type": "code",
   "execution_count": 123,
   "id": "10df0c08-7d30-4266-9808-248a038ca567",
   "metadata": {},
   "outputs": [
    {
     "data": {
      "text/plain": [
       "(12, 23, 45, 56, 78, 445, 12)"
      ]
     },
     "execution_count": 123,
     "metadata": {},
     "output_type": "execute_result"
    }
   ],
   "source": [
    "A[0:7]"
   ]
  },
  {
   "cell_type": "code",
   "execution_count": 124,
   "id": "91eb4b63-c308-48bb-95fa-99fedd7db1d2",
   "metadata": {},
   "outputs": [
    {
     "data": {
      "text/plain": [
       "(12, 45, 78, 12, 45, 78)"
      ]
     },
     "execution_count": 124,
     "metadata": {},
     "output_type": "execute_result"
    }
   ],
   "source": [
    "A[::2]"
   ]
  },
  {
   "cell_type": "code",
   "execution_count": 125,
   "id": "3378f678-712a-4112-8b1c-0cf40f90cf5d",
   "metadata": {},
   "outputs": [],
   "source": [
    "amazon_cart =[(\"watch\",5000),(\"phone\",10000),(\"laptop\",50000),(\"shirt\",1234)]\n",
    "\n",
    "total_cost =0\n"
   ]
  },
  {
   "cell_type": "code",
   "execution_count": 126,
   "id": "842f2831-7442-4fd5-a4bb-7720caf4445a",
   "metadata": {},
   "outputs": [
    {
     "name": "stdout",
     "output_type": "stream",
     "text": [
      "empty cart:0\n",
      "5000\n",
      "cart adding watch: 1\n",
      "10000\n",
      "cart adding phone: 2\n",
      "50000\n",
      "cart adding laptop: 3\n",
      "1234\n",
      "cart adding shirt: 4\n",
      "total payable amount:4\n"
     ]
    }
   ],
   "source": [
    "total_cost=0\n",
    "print(f\"empty cart:{total_cost}\")\n",
    "\n",
    "for item in amazon_cart:\n",
    "    print(item[1])\n",
    "    total_cost=total_cost+1\n",
    "    print(f\"cart adding {item[0]}: {total_cost}\")\n",
    "print(f\"total payable amount:{total_cost}\")    "
   ]
  },
  {
   "cell_type": "code",
   "execution_count": 127,
   "id": "98dc0225-cc45-4e82-8db4-a1042cf5fb7b",
   "metadata": {},
   "outputs": [
    {
     "name": "stdin",
     "output_type": "stream",
     "text": [
      "enter an  items: phone\n"
     ]
    }
   ],
   "source": [
    "amazon_website=[(\"watch\",5000),(\"phone\",10000),(\"laptop\",50000)]\n",
    "\n",
    "\n",
    "\n",
    "\n",
    "\n",
    "amazon_cart=input(\"enter an  items:\")"
   ]
  },
  {
   "cell_type": "code",
   "execution_count": 128,
   "id": "140bae4f-bcac-4359-99fb-ac94ee7c5533",
   "metadata": {},
   "outputs": [
    {
     "name": "stdout",
     "output_type": "stream",
     "text": [
      "('phone', 10000)\n"
     ]
    }
   ],
   "source": [
    "for item in amazon_website:\n",
    "    if item[0]==amazon_cart:\n",
    "        print(item)\n",
    "  "
   ]
  },
  {
   "cell_type": "markdown",
   "id": "91df7b22-aca7-4f1b-9a9b-e28ffb4c5023",
   "metadata": {},
   "source": [
    "### assignment \n",
    "amazon_cart =[(\"watch\",5000),(\"phone\",10000),(\"laptop\",50000),(\"shirt\",1000)]\n",
    "\n",
    "user input N no.of times  and find total cost to be paid\n",
    "\n",
    "\n",
    "ask quality or count of item\n",
    "\n",
    "if item is not prrresent in the amazonwebsites then print that items as out of stock\n",
    "\n"
   ]
  },
  {
   "cell_type": "code",
   "execution_count": 2,
   "id": "4dd48e69-438a-42a2-b4b8-d227784def13",
   "metadata": {},
   "outputs": [],
   "source": [
    "amazon_website =[(\"watch\",5000),(\"phone\",10000),(\"laptop\",50000),(\"shirt\",1000)]"
   ]
  },
  {
   "cell_type": "code",
   "execution_count": 3,
   "id": "df14e31c-df8b-4c4d-bbc4-b9abff7bd6b4",
   "metadata": {},
   "outputs": [
    {
     "data": {
      "text/plain": [
       "5000"
      ]
     },
     "execution_count": 3,
     "metadata": {},
     "output_type": "execute_result"
    }
   ],
   "source": [
    "amazon_website[0][1]"
   ]
  },
  {
   "cell_type": "code",
   "execution_count": null,
   "id": "5fb9d378-5551-48ca-83dd-c2f3688d98cd",
   "metadata": {},
   "outputs": [],
   "source": []
  },
  {
   "cell_type": "code",
   "execution_count": 15,
   "id": "7ad0ab6d-4c05-4508-b3c0-4dca7c22208d",
   "metadata": {},
   "outputs": [
    {
     "name": "stdin",
     "output_type": "stream",
     "text": [
      "enter N no.of items 5\n",
      "enter a items trolley\n"
     ]
    },
    {
     "name": "stdout",
     "output_type": "stream",
     "text": [
      "5000\n",
      "cart adding watch: 1\n",
      "10000\n",
      "cart adding phone: 2\n",
      "50000\n",
      "cart adding laptop: 3\n",
      "1000\n",
      "cart adding shirt: 4\n",
      "total quality :5\n",
      "total payable amount:4\n"
     ]
    }
   ],
   "source": [
    "total_cost=0\n",
    "\n",
    "N=input(\"enter N no.of items\")\n",
    "\n",
    "amazon_cart =input(\"enter a items\")\n",
    "\n",
    "for item in amazon_website:\n",
    "            print(item[1])\n",
    "            total_cost=total_cost+1\n",
    "        \n",
    "            print(f\"cart adding {item[0]}: {total_cost}\")  \n",
    "print(f\"total quality :{N}\")\n",
    "print(f\"total payable amount:{total_cost}\")   \n",
    "\n"
   ]
  },
  {
   "cell_type": "code",
   "execution_count": 12,
   "id": "7047daaa-2dfd-4a03-82d3-58fe4940a33d",
   "metadata": {},
   "outputs": [
    {
     "data": {
      "text/plain": [
       "'phone'"
      ]
     },
     "execution_count": 12,
     "metadata": {},
     "output_type": "execute_result"
    }
   ],
   "source": [
    "amazon_cart"
   ]
  },
  {
   "cell_type": "code",
   "execution_count": 14,
   "id": "1b1ce930-f996-4365-836c-4f3bba42db0d",
   "metadata": {},
   "outputs": [
    {
     "name": "stdout",
     "output_type": "stream",
     "text": [
      "out of stock\n"
     ]
    }
   ],
   "source": [
    "for item in amazon_website:\n",
    "    if item [0]==amazon_website:\n",
    "        print(item)\n",
    "else:\n",
    "    print(\"out of stock\")"
   ]
  },
  {
   "cell_type": "code",
   "execution_count": null,
   "id": "ef5672a3-1b57-44ef-9e80-566f5aee141a",
   "metadata": {},
   "outputs": [],
   "source": [
    "a"
   ]
  },
  {
   "cell_type": "markdown",
   "id": "5a171f01-ce7d-4676-9a2c-20f6d4ee48f2",
   "metadata": {},
   "source": [
    "### sets ----unordered collction of unique elements"
   ]
  },
  {
   "cell_type": "code",
   "execution_count": null,
   "id": "f43c44d0-ce54-47a9-83a1-6092f38b8f89",
   "metadata": {},
   "outputs": [],
   "source": [
    "x={1,23,4,5,56,78}"
   ]
  },
  {
   "cell_type": "code",
   "execution_count": null,
   "id": "d416536a-949d-46c2-9c7b-74d3e0c53630",
   "metadata": {},
   "outputs": [],
   "source": [
    "type(x)"
   ]
  },
  {
   "cell_type": "code",
   "execution_count": null,
   "id": "3ab8d769-eb41-456f-a6c4-e4a9dc2e174d",
   "metadata": {},
   "outputs": [],
   "source": [
    "x={1,23,4,5,56,78,1,1,1,1}\n",
    "\n",
    "x"
   ]
  },
  {
   "cell_type": "code",
   "execution_count": null,
   "id": "d82f76df-62a6-400d-bba5-dd8631e97862",
   "metadata": {},
   "outputs": [],
   "source": [
    "x=set()\n",
    "\n",
    "type(x)"
   ]
  },
  {
   "cell_type": "code",
   "execution_count": null,
   "id": "d398ca35-3c54-4a09-9bb3-49fcb3b86c6e",
   "metadata": {},
   "outputs": [],
   "source": [
    "x=[]\n",
    "type(x)"
   ]
  },
  {
   "cell_type": "code",
   "execution_count": null,
   "id": "99db9801-b72e-484e-b860-c59fd246e920",
   "metadata": {},
   "outputs": [],
   "source": [
    "x=()\n",
    "\n",
    "type(x)"
   ]
  },
  {
   "cell_type": "code",
   "execution_count": null,
   "id": "bada71be-5c82-467f-88da-1ebfc2bbba2d",
   "metadata": {},
   "outputs": [],
   "source": [
    "x={}\n",
    "\n",
    "type(x)"
   ]
  },
  {
   "cell_type": "code",
   "execution_count": null,
   "id": "8968e000-502d-4ba0-a632-b7aa942be605",
   "metadata": {},
   "outputs": [],
   "source": [
    "x={1,23,4,5,56,78}"
   ]
  },
  {
   "cell_type": "code",
   "execution_count": null,
   "id": "a3a76dd8-11e6-46b5-9ee9-402676f1c7ad",
   "metadata": {},
   "outputs": [],
   "source": [
    "x[::-1]"
   ]
  },
  {
   "cell_type": "code",
   "execution_count": null,
   "id": "1b2b200d-d2b7-4e92-aa27-aa11decc9701",
   "metadata": {},
   "outputs": [],
   "source": [
    "x.sort()"
   ]
  },
  {
   "cell_type": "code",
   "execution_count": null,
   "id": "96fb4a68-c541-4147-8f4a-53d69696edc6",
   "metadata": {},
   "outputs": [],
   "source": [
    "x.index(0)"
   ]
  },
  {
   "cell_type": "code",
   "execution_count": null,
   "id": "d872a553-aa84-4767-a0bc-93017d900d3e",
   "metadata": {},
   "outputs": [],
   "source": [
    "x.append(\"sdd\")"
   ]
  },
  {
   "cell_type": "code",
   "execution_count": null,
   "id": "ba7fb3b8-5b5c-4b8c-bf56-7f59cd6cf989",
   "metadata": {},
   "outputs": [],
   "source": [
    "A={1,2,3,4}\n",
    "B={5,6,7,8}\n",
    "\n",
    "A+B"
   ]
  },
  {
   "cell_type": "code",
   "execution_count": null,
   "id": "40b4585a-a78d-4b58-befd-e82d43270843",
   "metadata": {},
   "outputs": [],
   "source": [
    "x.add(99+7j)\n",
    "x"
   ]
  },
  {
   "cell_type": "code",
   "execution_count": null,
   "id": "d25ca3e8-3b3f-4f12-9afd-c999275ea30a",
   "metadata": {},
   "outputs": [],
   "source": [
    "x.add(90.6)\n",
    "\n"
   ]
  },
  {
   "cell_type": "code",
   "execution_count": null,
   "id": "d38a7296-9f41-4b38-95ec-84a5457ef36c",
   "metadata": {},
   "outputs": [],
   "source": [
    "x.add(-123)"
   ]
  },
  {
   "cell_type": "code",
   "execution_count": null,
   "id": "6f376512-3d93-46e0-af69-0f4bd1da7561",
   "metadata": {},
   "outputs": [],
   "source": [
    "x"
   ]
  },
  {
   "cell_type": "code",
   "execution_count": null,
   "id": "5d715001-6dea-48b7-8e0a-87e719194a73",
   "metadata": {},
   "outputs": [],
   "source": [
    "name =\"veena\"\n",
    "\n",
    "example=[i*2 for i in range(10)]\n",
    "\n",
    "example"
   ]
  },
  {
   "cell_type": "code",
   "execution_count": null,
   "id": "c18374bd-f614-4292-ad9e-43aa97fd0a5f",
   "metadata": {},
   "outputs": [],
   "source": [
    "example =[i**2 for i in range (10)]\n",
    "\n",
    "example"
   ]
  },
  {
   "cell_type": "code",
   "execution_count": null,
   "id": "6929befd-6fa6-4c25-911f-ef03dac949f8",
   "metadata": {},
   "outputs": [],
   "source": [
    "example =[i**2 for i in range (1,20)]\n",
    "\n",
    "example"
   ]
  },
  {
   "cell_type": "code",
   "execution_count": 16,
   "id": "3feb23d2-9a20-4a02-82ae-6d5e07a4531b",
   "metadata": {},
   "outputs": [
    {
     "name": "stdin",
     "output_type": "stream",
     "text": [
      "enter N no.of items:  3\n",
      "enter a items you want to purchase:  phone\n",
      "enter a items you want to purchase:  watch\n",
      "enter a items you want to purchase:  shirt\n"
     ]
    },
    {
     "name": "stdout",
     "output_type": "stream",
     "text": [
      "5000 watch\n",
      "10000 phone\n",
      "50000 laptop\n",
      "1000 shirt\n",
      "cart adding :h 3\n",
      "total quality :3\n",
      "total payable amount:3\n"
     ]
    }
   ],
   "source": [
    "amazon_website =[(\"watch\",5000),(\"phone\",10000),(\"laptop\",50000),(\"shirt\",1000)]\n",
    "\n",
    "total_cost=0\n",
    "\n",
    "N=int(input(\"enter N no.of items: \"))\n",
    "\n",
    "\n",
    "\n",
    "for item in range(N) :\n",
    "    my_choice=input(\"enter a items you want to purchase: \")\n",
    "    total_cost=total_cost+1\n",
    "for index in amazon_website:\n",
    "        print(index[1],index[0])\n",
    "    \n",
    "        \n",
    "\n",
    "print(f\"cart adding : {total_cost}\")  \n",
    "print(f\"total quality :{N}\")\n",
    "print(f\"total payable amount:{total_cost}\")   \n"
   ]
  },
  {
   "cell_type": "code",
   "execution_count": 176,
   "id": "649e4be2-1037-4353-bc8c-df67d812e9eb",
   "metadata": {},
   "outputs": [
    {
     "name": "stdin",
     "output_type": "stream",
     "text": [
      "enter a prime number 13\n"
     ]
    },
    {
     "ename": "TypeError",
     "evalue": "'>' not supported between instances of 'str' and 'int'",
     "output_type": "error",
     "traceback": [
      "\u001b[0;31m---------------------------------------------------------------------------\u001b[0m",
      "\u001b[0;31mTypeError\u001b[0m                                 Traceback (most recent call last)",
      "Input \u001b[0;32mIn [176]\u001b[0m, in \u001b[0;36m<cell line: 3>\u001b[0;34m()\u001b[0m\n\u001b[1;32m      1\u001b[0m num\u001b[38;5;241m=\u001b[39m\u001b[38;5;28minput\u001b[39m(\u001b[38;5;124m\"\u001b[39m\u001b[38;5;124menter a prime number\u001b[39m\u001b[38;5;124m\"\u001b[39m)\n\u001b[0;32m----> 3\u001b[0m \u001b[38;5;28;01mif\u001b[39;00m \u001b[43mnum\u001b[49m\u001b[43m \u001b[49m\u001b[38;5;241;43m>\u001b[39;49m\u001b[43m \u001b[49m\u001b[38;5;241;43m1\u001b[39;49m:\n\u001b[1;32m      5\u001b[0m     \u001b[38;5;28;01mfor\u001b[39;00m i \u001b[38;5;129;01min\u001b[39;00m \u001b[38;5;28mrange\u001b[39m (\u001b[38;5;241m2\u001b[39m,num\u001b[38;5;241m/\u001b[39m\u001b[38;5;241m/\u001b[39m\u001b[38;5;241m2\u001b[39m):\n\u001b[1;32m      6\u001b[0m         \u001b[38;5;28;01mif\u001b[39;00m num \u001b[38;5;241m%\u001b[39m i \u001b[38;5;241m==\u001b[39m \u001b[38;5;241m0\u001b[39m:\n",
      "\u001b[0;31mTypeError\u001b[0m: '>' not supported between instances of 'str' and 'int'"
     ]
    }
   ],
   "source": [
    "num=input(\"enter a prime number\")\n",
    "\n",
    "if num > 1:\n",
    "\n",
    "    for i in range (2,num//2):\n",
    "        if num % i == 0:\n",
    "            print(num, \"is a prime number\")\n",
    "            \n",
    "        else:   \n",
    "            print(num, \"is not a prime number\")"
   ]
  },
  {
   "cell_type": "code",
   "execution_count": 177,
   "id": "c4030df7-8e20-46aa-9a16-dc7ebd63e5ad",
   "metadata": {},
   "outputs": [
    {
     "name": "stdin",
     "output_type": "stream",
     "text": [
      "enter a number 11\n"
     ]
    },
    {
     "name": "stdout",
     "output_type": "stream",
     "text": [
      "11 is a prime number\n",
      "11 is a prime number\n",
      "11 is a prime number\n",
      "11 is a prime number\n",
      "11 is a prime number\n",
      "11 is a prime number\n",
      "11 is a prime number\n",
      "11 is a prime number\n",
      "11 is a prime number\n"
     ]
    }
   ],
   "source": [
    "num =int(input(\"enter a number\"))\n",
    "if num > 1:\n",
    "    for i in range(2, num):\n",
    "        if (num % i) == 0:\n",
    "            print(num, \"is not a prime number\")\n",
    "            break\n",
    "        else:\n",
    "            print(num, \"is a prime number\")\n",
    "else:\n",
    "    print(num,\"is not a prime number\")\n",
    "\n",
    "\n",
    " "
   ]
  },
  {
   "cell_type": "code",
   "execution_count": null,
   "id": "17316d6f-27e2-4eba-9250-1d967a8b2808",
   "metadata": {},
   "outputs": [],
   "source": []
  }
 ],
 "metadata": {
  "kernelspec": {
   "display_name": "Python 3 (ipykernel)",
   "language": "python",
   "name": "python3"
  },
  "language_info": {
   "codemirror_mode": {
    "name": "ipython",
    "version": 3
   },
   "file_extension": ".py",
   "mimetype": "text/x-python",
   "name": "python",
   "nbconvert_exporter": "python",
   "pygments_lexer": "ipython3",
   "version": "3.9.12"
  }
 },
 "nbformat": 4,
 "nbformat_minor": 5
}
