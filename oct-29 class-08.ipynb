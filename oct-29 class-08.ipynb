{
 "cells": [
  {
   "cell_type": "markdown",
   "id": "a5f4b616-0ea5-4506-a229-39b916c2ee28",
   "metadata": {},
   "source": [
    "### function"
   ]
  },
  {
   "cell_type": "code",
   "execution_count": 1,
   "id": "88582f4c-5937-429d-9fcb-cb0b586097ff",
   "metadata": {},
   "outputs": [],
   "source": [
    "a=\"veena\""
   ]
  },
  {
   "cell_type": "code",
   "execution_count": 2,
   "id": "63e6575c-384a-4ae8-b467-c942f71c2901",
   "metadata": {},
   "outputs": [
    {
     "data": {
      "text/plain": [
       "5"
      ]
     },
     "execution_count": 2,
     "metadata": {},
     "output_type": "execute_result"
    }
   ],
   "source": [
    "len(a)"
   ]
  },
  {
   "cell_type": "code",
   "execution_count": 3,
   "id": "b1169f90-5287-4dda-92dd-aaf84cfb502a",
   "metadata": {},
   "outputs": [],
   "source": [
    "l=[1,2,3,4,\"veena\",12.3]"
   ]
  },
  {
   "cell_type": "code",
   "execution_count": 4,
   "id": "c222e4d5-6731-4645-9c48-3215aff5c89f",
   "metadata": {},
   "outputs": [
    {
     "data": {
      "text/plain": [
       "6"
      ]
     },
     "execution_count": 4,
     "metadata": {},
     "output_type": "execute_result"
    }
   ],
   "source": [
    "len(l)"
   ]
  },
  {
   "cell_type": "code",
   "execution_count": 5,
   "id": "ad01bc60-203e-4007-a39f-bd0988ede5c1",
   "metadata": {},
   "outputs": [],
   "source": [
    "def text():\n",
    "    pass"
   ]
  },
  {
   "cell_type": "code",
   "execution_count": 6,
   "id": "fcd44252-d07d-40fc-86ae-efd2d74e402e",
   "metadata": {},
   "outputs": [],
   "source": [
    "def text1():\n",
    "    print(\"this my first function in python\")"
   ]
  },
  {
   "cell_type": "code",
   "execution_count": 7,
   "id": "80b27ba5-139e-410f-ac83-f2d60b3a508c",
   "metadata": {},
   "outputs": [
    {
     "name": "stdout",
     "output_type": "stream",
     "text": [
      "this my first function in python\n"
     ]
    }
   ],
   "source": [
    "text1()"
   ]
  },
  {
   "cell_type": "code",
   "execution_count": 8,
   "id": "775b5993-e62e-4b23-b6c6-a9b3a4405652",
   "metadata": {},
   "outputs": [
    {
     "name": "stdout",
     "output_type": "stream",
     "text": [
      "this my first function in python\n"
     ]
    }
   ],
   "source": [
    "a=text1()"
   ]
  },
  {
   "cell_type": "code",
   "execution_count": 9,
   "id": "8fdd0d39-f5e9-4a92-99a6-3ef8bf5f2d00",
   "metadata": {},
   "outputs": [],
   "source": [
    "a  ### it store data but cannot hold data"
   ]
  },
  {
   "cell_type": "code",
   "execution_count": null,
   "id": "24551692-cf4c-461f-b34f-76ddd2e8c972",
   "metadata": {},
   "outputs": [],
   "source": []
  },
  {
   "cell_type": "code",
   "execution_count": 10,
   "id": "51fc6482-6cc9-4de3-b353-649c471b4ba0",
   "metadata": {},
   "outputs": [
    {
     "name": "stdout",
     "output_type": "stream",
     "text": [
      "this my first function in python\n"
     ]
    },
    {
     "data": {
      "text/plain": [
       "NoneType"
      ]
     },
     "execution_count": 10,
     "metadata": {},
     "output_type": "execute_result"
    }
   ],
   "source": [
    "type(text1())"
   ]
  },
  {
   "cell_type": "code",
   "execution_count": 11,
   "id": "ca5149bc-a419-4f7c-90cc-23a98159ae17",
   "metadata": {},
   "outputs": [
    {
     "name": "stdout",
     "output_type": "stream",
     "text": [
      "None\n"
     ]
    }
   ],
   "source": [
    "print(a)"
   ]
  },
  {
   "cell_type": "code",
   "execution_count": 12,
   "id": "b7940040-e8a5-4b73-b6c5-9d411998d15c",
   "metadata": {},
   "outputs": [
    {
     "data": {
      "text/plain": [
       "NoneType"
      ]
     },
     "execution_count": 12,
     "metadata": {},
     "output_type": "execute_result"
    }
   ],
   "source": [
    "type(a)"
   ]
  },
  {
   "cell_type": "code",
   "execution_count": 13,
   "id": "5a3b3167-8754-4e53-88b3-0ced44281793",
   "metadata": {},
   "outputs": [
    {
     "data": {
      "text/plain": [
       "str"
      ]
     },
     "execution_count": 13,
     "metadata": {},
     "output_type": "execute_result"
    }
   ],
   "source": [
    "c=\"kumari\"\n",
    "\n",
    "type(c)"
   ]
  },
  {
   "cell_type": "code",
   "execution_count": 14,
   "id": "72894115-1afa-4d46-8a26-23ab06d8636b",
   "metadata": {},
   "outputs": [],
   "source": [
    "def text2():\n",
    "    return 5"
   ]
  },
  {
   "cell_type": "code",
   "execution_count": 15,
   "id": "c24c9652-d3dd-40d5-af9f-4ad122e2bd54",
   "metadata": {},
   "outputs": [
    {
     "data": {
      "text/plain": [
       "5"
      ]
     },
     "execution_count": 15,
     "metadata": {},
     "output_type": "execute_result"
    }
   ],
   "source": [
    "text2()"
   ]
  },
  {
   "cell_type": "code",
   "execution_count": 16,
   "id": "9789cc74-8b7a-41db-9871-994bcc85e7fd",
   "metadata": {},
   "outputs": [],
   "source": [
    "d=text2()"
   ]
  },
  {
   "cell_type": "code",
   "execution_count": 17,
   "id": "d0bf0662-89f0-45f9-915b-89d1b81e9511",
   "metadata": {},
   "outputs": [
    {
     "data": {
      "text/plain": [
       "5"
      ]
     },
     "execution_count": 17,
     "metadata": {},
     "output_type": "execute_result"
    }
   ],
   "source": [
    "d"
   ]
  },
  {
   "cell_type": "code",
   "execution_count": 18,
   "id": "c36c7720-ac0b-4e5a-86ed-8b63dbda440a",
   "metadata": {},
   "outputs": [
    {
     "data": {
      "text/plain": [
       "int"
      ]
     },
     "execution_count": 18,
     "metadata": {},
     "output_type": "execute_result"
    }
   ],
   "source": [
    "type(text2())"
   ]
  },
  {
   "cell_type": "code",
   "execution_count": 19,
   "id": "74e590d5-0397-4056-a595-3d6b6f7baf0c",
   "metadata": {},
   "outputs": [],
   "source": [
    "def rere():\n",
    "    return \"suuny\""
   ]
  },
  {
   "cell_type": "code",
   "execution_count": 20,
   "id": "bae8e071-6622-43b7-9c4c-7e30d09f16fd",
   "metadata": {},
   "outputs": [],
   "source": [
    "a=rere()"
   ]
  },
  {
   "cell_type": "code",
   "execution_count": 21,
   "id": "404bb43b-b086-4232-8ab5-130cd18dbdf4",
   "metadata": {},
   "outputs": [
    {
     "data": {
      "text/plain": [
       "'suuny'"
      ]
     },
     "execution_count": 21,
     "metadata": {},
     "output_type": "execute_result"
    }
   ],
   "source": [
    "a"
   ]
  },
  {
   "cell_type": "code",
   "execution_count": 22,
   "id": "0dc9de5b-7ec3-416c-86bf-23e2321a6c45",
   "metadata": {},
   "outputs": [],
   "source": [
    "def text3 ():\n",
    "    return 5"
   ]
  },
  {
   "cell_type": "code",
   "execution_count": 23,
   "id": "389ba901-ff7b-4731-9c39-240c53be86b6",
   "metadata": {},
   "outputs": [],
   "source": [
    "def text5 ():\n",
    "    print(\"ineuron\")"
   ]
  },
  {
   "cell_type": "code",
   "execution_count": 24,
   "id": "ff38f863-96a0-469e-b354-691b2a69edbb",
   "metadata": {},
   "outputs": [
    {
     "data": {
      "text/plain": [
       "5"
      ]
     },
     "execution_count": 24,
     "metadata": {},
     "output_type": "execute_result"
    }
   ],
   "source": [
    "text3()"
   ]
  },
  {
   "cell_type": "code",
   "execution_count": 25,
   "id": "897bc03b-098a-4dec-844f-106039a2dea5",
   "metadata": {},
   "outputs": [
    {
     "name": "stdout",
     "output_type": "stream",
     "text": [
      "ineuron\n"
     ]
    }
   ],
   "source": [
    "e=text5()"
   ]
  },
  {
   "cell_type": "code",
   "execution_count": 26,
   "id": "769f1d2c-ce3d-4869-a4f5-a775773330f0",
   "metadata": {},
   "outputs": [
    {
     "ename": "TypeError",
     "evalue": "unsupported operand type(s) for +: 'NoneType' and 'str'",
     "output_type": "error",
     "traceback": [
      "\u001b[0;31m---------------------------------------------------------------------------\u001b[0m",
      "\u001b[0;31mTypeError\u001b[0m                                 Traceback (most recent call last)",
      "Input \u001b[0;32mIn [26]\u001b[0m, in \u001b[0;36m<cell line: 1>\u001b[0;34m()\u001b[0m\n\u001b[0;32m----> 1\u001b[0m \u001b[43me\u001b[49m\u001b[43m \u001b[49m\u001b[38;5;241;43m+\u001b[39;49m\u001b[38;5;124;43m\"\u001b[39;49m\u001b[38;5;124;43mveena\u001b[39;49m\u001b[38;5;124;43m\"\u001b[39;49m\n",
      "\u001b[0;31mTypeError\u001b[0m: unsupported operand type(s) for +: 'NoneType' and 'str'"
     ]
    }
   ],
   "source": [
    "e +\"veena\""
   ]
  },
  {
   "cell_type": "code",
   "execution_count": 27,
   "id": "29ad058b-b352-48c3-8e36-863d92d2f862",
   "metadata": {},
   "outputs": [],
   "source": [
    "def text3 ():\n",
    "    return \"veena\""
   ]
  },
  {
   "cell_type": "code",
   "execution_count": 28,
   "id": "e51fda95-82ce-4dc8-9d99-0fa07b1d616a",
   "metadata": {},
   "outputs": [
    {
     "data": {
      "text/plain": [
       "'veenakumari'"
      ]
     },
     "execution_count": 28,
     "metadata": {},
     "output_type": "execute_result"
    }
   ],
   "source": [
    "text3( )+ \"kumari\""
   ]
  },
  {
   "cell_type": "code",
   "execution_count": 29,
   "id": "749990e8-d509-46a3-a700-8b490ab45c84",
   "metadata": {},
   "outputs": [],
   "source": [
    "def text6():\n",
    "    return 1,3,[4,5,56,\"veena\"],(23,45,67)"
   ]
  },
  {
   "cell_type": "code",
   "execution_count": 30,
   "id": "fe371ffb-af06-4f93-98f4-a5e05c68f000",
   "metadata": {},
   "outputs": [
    {
     "data": {
      "text/plain": [
       "(1, 3, [4, 5, 56, 'veena'], (23, 45, 67))"
      ]
     },
     "execution_count": 30,
     "metadata": {},
     "output_type": "execute_result"
    }
   ],
   "source": [
    "text6()"
   ]
  },
  {
   "cell_type": "code",
   "execution_count": 31,
   "id": "a05b2679-7e64-453e-9674-c1c211a65a06",
   "metadata": {},
   "outputs": [
    {
     "data": {
      "text/plain": [
       "tuple"
      ]
     },
     "execution_count": 31,
     "metadata": {},
     "output_type": "execute_result"
    }
   ],
   "source": [
    "type(text6())"
   ]
  },
  {
   "cell_type": "code",
   "execution_count": 32,
   "id": "da1b9115-19e3-4a3d-b264-e4eb5028ac0e",
   "metadata": {},
   "outputs": [
    {
     "data": {
      "text/plain": [
       "3"
      ]
     },
     "execution_count": 32,
     "metadata": {},
     "output_type": "execute_result"
    }
   ],
   "source": [
    "text6()[1]"
   ]
  },
  {
   "cell_type": "code",
   "execution_count": 33,
   "id": "7820bccf-0c1c-4dee-9be5-872836f4f855",
   "metadata": {},
   "outputs": [
    {
     "data": {
      "text/plain": [
       "56"
      ]
     },
     "execution_count": 33,
     "metadata": {},
     "output_type": "execute_result"
    }
   ],
   "source": [
    "text6()[2][2]"
   ]
  },
  {
   "cell_type": "code",
   "execution_count": 34,
   "id": "a75991ec-b910-4364-a484-4536422f40cf",
   "metadata": {},
   "outputs": [
    {
     "data": {
      "text/plain": [
       "(23, 45, 67)"
      ]
     },
     "execution_count": 34,
     "metadata": {},
     "output_type": "execute_result"
    }
   ],
   "source": [
    "text6()[3]"
   ]
  },
  {
   "cell_type": "code",
   "execution_count": 35,
   "id": "9c07e467-feab-4af1-b394-853c32170c49",
   "metadata": {},
   "outputs": [],
   "source": [
    "def text7():\n",
    "    return 1,3,[4,5,56,\"veena\"],(23,45,67)"
   ]
  },
  {
   "cell_type": "code",
   "execution_count": 36,
   "id": "b79baf8e-7c19-4aa3-a864-1927905c8328",
   "metadata": {},
   "outputs": [],
   "source": [
    "a,b,c,d =text7()"
   ]
  },
  {
   "cell_type": "code",
   "execution_count": 37,
   "id": "5d67a793-0e3c-40f1-8ab6-d6573f5702f6",
   "metadata": {},
   "outputs": [
    {
     "data": {
      "text/plain": [
       "1"
      ]
     },
     "execution_count": 37,
     "metadata": {},
     "output_type": "execute_result"
    }
   ],
   "source": [
    "a"
   ]
  },
  {
   "cell_type": "code",
   "execution_count": 38,
   "id": "193f15d5-1d59-412d-8b96-41cee552e079",
   "metadata": {},
   "outputs": [
    {
     "data": {
      "text/plain": [
       "3"
      ]
     },
     "execution_count": 38,
     "metadata": {},
     "output_type": "execute_result"
    }
   ],
   "source": [
    "b"
   ]
  },
  {
   "cell_type": "code",
   "execution_count": 39,
   "id": "71a20c46-e5ac-45c2-be14-726f999ee924",
   "metadata": {},
   "outputs": [
    {
     "data": {
      "text/plain": [
       "[4, 5, 56, 'veena']"
      ]
     },
     "execution_count": 39,
     "metadata": {},
     "output_type": "execute_result"
    }
   ],
   "source": [
    "c"
   ]
  },
  {
   "cell_type": "code",
   "execution_count": 40,
   "id": "0dff20a2-d06b-4ed6-8193-7c76e2dd9937",
   "metadata": {},
   "outputs": [
    {
     "data": {
      "text/plain": [
       "(23, 45, 67)"
      ]
     },
     "execution_count": 40,
     "metadata": {},
     "output_type": "execute_result"
    }
   ],
   "source": [
    "d"
   ]
  },
  {
   "cell_type": "code",
   "execution_count": 41,
   "id": "afdd46b9-12e4-423e-8988-8db756214a2b",
   "metadata": {},
   "outputs": [],
   "source": [
    "def text8 ():\n",
    "    a=4*5+5\n",
    "    return a"
   ]
  },
  {
   "cell_type": "code",
   "execution_count": 42,
   "id": "35118e9b-79ae-4ddc-a7b4-24c276aa7651",
   "metadata": {},
   "outputs": [
    {
     "data": {
      "text/plain": [
       "25"
      ]
     },
     "execution_count": 42,
     "metadata": {},
     "output_type": "execute_result"
    }
   ],
   "source": [
    "text8()"
   ]
  },
  {
   "cell_type": "code",
   "execution_count": 43,
   "id": "548ddff9-6362-4723-8e84-c40f41f298fb",
   "metadata": {},
   "outputs": [
    {
     "data": {
      "text/plain": [
       "int"
      ]
     },
     "execution_count": 43,
     "metadata": {},
     "output_type": "execute_result"
    }
   ],
   "source": [
    "type(text8())"
   ]
  },
  {
   "cell_type": "code",
   "execution_count": 44,
   "id": "de663973-70f6-464a-ac38-9b2d9a088ab2",
   "metadata": {},
   "outputs": [],
   "source": [
    "def text9():\n",
    "    b=45%5+8\n",
    "    return b"
   ]
  },
  {
   "cell_type": "code",
   "execution_count": 45,
   "id": "37dbe939-499b-41da-88fa-63a10a83a7c3",
   "metadata": {},
   "outputs": [
    {
     "data": {
      "text/plain": [
       "8"
      ]
     },
     "execution_count": 45,
     "metadata": {},
     "output_type": "execute_result"
    }
   ],
   "source": [
    "text9()\n"
   ]
  },
  {
   "cell_type": "code",
   "execution_count": 46,
   "id": "edc20b64-d2af-4bda-82b3-3321b4854fb0",
   "metadata": {},
   "outputs": [
    {
     "data": {
      "text/plain": [
       "int"
      ]
     },
     "execution_count": 46,
     "metadata": {},
     "output_type": "execute_result"
    }
   ],
   "source": [
    "type(text9())"
   ]
  },
  {
   "cell_type": "code",
   "execution_count": 47,
   "id": "1e82c436-1d3d-4ff6-817f-500eef626a09",
   "metadata": {},
   "outputs": [],
   "source": [
    "def text10():\n",
    "    l=[2,3,4,5,6,7,8,9,\"veena\",23+3j,23.3]\n",
    "    a=0\n",
    "    for i in l:\n",
    "        if type(i)==int :\n",
    "            a=i+a \n",
    "    return a      "
   ]
  },
  {
   "cell_type": "code",
   "execution_count": 48,
   "id": "89b4d747-4525-4aee-8228-f84376ae6174",
   "metadata": {},
   "outputs": [
    {
     "data": {
      "text/plain": [
       "44"
      ]
     },
     "execution_count": 48,
     "metadata": {},
     "output_type": "execute_result"
    }
   ],
   "source": [
    "text10()"
   ]
  },
  {
   "cell_type": "code",
   "execution_count": 49,
   "id": "0fb1cc92-df5c-4b49-831e-f559ff203947",
   "metadata": {},
   "outputs": [],
   "source": [
    "def text10():\n",
    "    l=[2,3,4,5,6,7,8,9,\"veena\",23+3j,23.3,45.78,56+4j]\n",
    "    a=0\n",
    "    for i in l:\n",
    "        if type(i) == float:\n",
    "            a=i+a \n",
    "    return a      "
   ]
  },
  {
   "cell_type": "code",
   "execution_count": 50,
   "id": "c3026c66-7bb0-410b-960c-bda66c3fb23c",
   "metadata": {},
   "outputs": [
    {
     "data": {
      "text/plain": [
       "69.08"
      ]
     },
     "execution_count": 50,
     "metadata": {},
     "output_type": "execute_result"
    }
   ],
   "source": [
    "text10()"
   ]
  },
  {
   "cell_type": "code",
   "execution_count": 51,
   "id": "ca3b226d-b364-4322-b85d-deacd1927df7",
   "metadata": {},
   "outputs": [],
   "source": [
    "def text10():\n",
    "    l=[2,3,4,5,6,7,8,9,\"veena\",23+3j,23.3,45.78,56+4j]\n",
    "    a=0\n",
    "    for i in l:\n",
    "        if type(i) == complex:\n",
    "            a=i+a \n",
    "    return a      "
   ]
  },
  {
   "cell_type": "code",
   "execution_count": 52,
   "id": "487b7ac7-4640-4988-90cd-ebb062445731",
   "metadata": {},
   "outputs": [
    {
     "data": {
      "text/plain": [
       "(79+7j)"
      ]
     },
     "execution_count": 52,
     "metadata": {},
     "output_type": "execute_result"
    }
   ],
   "source": [
    "text10()"
   ]
  },
  {
   "cell_type": "code",
   "execution_count": 53,
   "id": "cc6b1a96-19a9-434e-a753-4d3407ea62c1",
   "metadata": {},
   "outputs": [],
   "source": [
    "\n",
    "l1=[4,5,6,7,7,8,\"kumar\",4.56]\n"
   ]
  },
  {
   "cell_type": "code",
   "execution_count": 37,
   "id": "0346b54f-a775-4257-8a6a-46f2c0921400",
   "metadata": {},
   "outputs": [],
   "source": [
    "def text11(l):\n",
    "    a=0\n",
    "    for i in l :\n",
    "        if type(i)==int:\n",
    "            a=i+a\n",
    "    return a"
   ]
  },
  {
   "cell_type": "code",
   "execution_count": 38,
   "id": "f5130920-6c82-459f-ae27-097e06761ebc",
   "metadata": {},
   "outputs": [
    {
     "data": {
      "text/plain": [
       "9"
      ]
     },
     "execution_count": 38,
     "metadata": {},
     "output_type": "execute_result"
    }
   ],
   "source": [
    "text11(l1)"
   ]
  },
  {
   "cell_type": "code",
   "execution_count": 40,
   "id": "40da955f-2d9a-40de-9b2a-1fde153ffc1c",
   "metadata": {},
   "outputs": [],
   "source": [
    " l = [3.5, 6.56, 4,5,\"sudh\" , \"ineuron\" , 'fsda bootcamp 2.0']\n",
    "    "
   ]
  },
  {
   "cell_type": "code",
   "execution_count": 42,
   "id": "81c9e701-293d-4581-8960-cf4200e70026",
   "metadata": {},
   "outputs": [
    {
     "name": "stdout",
     "output_type": "stream",
     "text": [
      "0.0\n",
      "0.0\n",
      "0.0\n",
      "0.0\n"
     ]
    }
   ],
   "source": [
    "\n",
    "a=0\n",
    "for i in l :\n",
    "    if type(i)==int or type(i)==float:\n",
    "        a=i*a\n",
    "        print(a)\n"
   ]
  },
  {
   "cell_type": "code",
   "execution_count": 183,
   "id": "7716965f-5674-4062-8aee-4f7e726356d9",
   "metadata": {},
   "outputs": [
    {
     "data": {
      "text/plain": [
       "0.0"
      ]
     },
     "execution_count": 183,
     "metadata": {},
     "output_type": "execute_result"
    }
   ],
   "source": [
    "text11(l1)"
   ]
  },
  {
   "cell_type": "code",
   "execution_count": 137,
   "id": "f715a0ae-32d7-46d3-b362-666a98e5b26b",
   "metadata": {},
   "outputs": [],
   "source": [
    "def text12(a,b):\n",
    "    return a+b"
   ]
  },
  {
   "cell_type": "code",
   "execution_count": 57,
   "id": "c01698d8-4d4f-4cc4-ae40-84a2bb1c19af",
   "metadata": {},
   "outputs": [
    {
     "data": {
      "text/plain": [
       "6"
      ]
     },
     "execution_count": 57,
     "metadata": {},
     "output_type": "execute_result"
    }
   ],
   "source": [
    "text12(2,4)"
   ]
  },
  {
   "cell_type": "code",
   "execution_count": 61,
   "id": "3d906d2c-7ebb-4639-9c31-cd78bf2084df",
   "metadata": {},
   "outputs": [
    {
     "data": {
      "text/plain": [
       "11"
      ]
     },
     "execution_count": 61,
     "metadata": {},
     "output_type": "execute_result"
    }
   ],
   "source": [
    "text12(a=2,b=9)"
   ]
  },
  {
   "cell_type": "code",
   "execution_count": 58,
   "id": "6b2b3a9e-14d8-4d3f-8b92-8def473325cc",
   "metadata": {},
   "outputs": [
    {
     "data": {
      "text/plain": [
       "'veenaashok'"
      ]
     },
     "execution_count": 58,
     "metadata": {},
     "output_type": "execute_result"
    }
   ],
   "source": [
    "text12(\"veena\",\"ashok\")"
   ]
  },
  {
   "cell_type": "code",
   "execution_count": 59,
   "id": "55606b8f-f7c5-491b-8407-4a381b96e627",
   "metadata": {},
   "outputs": [],
   "source": [
    "def test(a,b):\n",
    "    return a*b+4"
   ]
  },
  {
   "cell_type": "code",
   "execution_count": 62,
   "id": "beef3603-3771-4bf8-93f9-c17186e18c8f",
   "metadata": {},
   "outputs": [
    {
     "data": {
      "text/plain": [
       "16"
      ]
     },
     "execution_count": 62,
     "metadata": {},
     "output_type": "execute_result"
    }
   ],
   "source": [
    "test(2,6)"
   ]
  },
  {
   "cell_type": "code",
   "execution_count": 119,
   "id": "0110ce11-9e48-4df8-ac2d-dc3b52b929c7",
   "metadata": {},
   "outputs": [],
   "source": [
    "def test(a,b):\n",
    "    return a*b+4"
   ]
  },
  {
   "cell_type": "code",
   "execution_count": 120,
   "id": "1f037331-f032-44fd-8b97-d2b67e51dd26",
   "metadata": {},
   "outputs": [
    {
     "data": {
      "text/plain": [
       "129"
      ]
     },
     "execution_count": 120,
     "metadata": {},
     "output_type": "execute_result"
    }
   ],
   "source": [
    "test(25,5)"
   ]
  },
  {
   "cell_type": "code",
   "execution_count": 122,
   "id": "3ea7f3a0-769e-431a-8473-df4e23bda6c9",
   "metadata": {},
   "outputs": [],
   "source": [
    "l=[3,4,5,6,7,8,\"veena\",5,6,7,\"kumari\",\"ineuron\"]"
   ]
  },
  {
   "cell_type": "code",
   "execution_count": 123,
   "id": "2ce66a8b-7d09-483e-83bf-198f81f59480",
   "metadata": {},
   "outputs": [],
   "source": [
    "\n",
    "a=[]\n",
    "for i in l:\n",
    "    if type(i)==str:\n",
    "        a.append(i)\n"
   ]
  },
  {
   "cell_type": "code",
   "execution_count": 124,
   "id": "648910f7-78b6-4274-befd-fa1f7500c62d",
   "metadata": {},
   "outputs": [
    {
     "data": {
      "text/plain": [
       "['veena', 'kumari', 'ineuron']"
      ]
     },
     "execution_count": 124,
     "metadata": {},
     "output_type": "execute_result"
    }
   ],
   "source": [
    "a"
   ]
  },
  {
   "cell_type": "code",
   "execution_count": 144,
   "id": "b14d65a0-b753-48be-b792-cce189c5e860",
   "metadata": {},
   "outputs": [],
   "source": [
    "def test(l):\n",
    "    a=[]\n",
    "    for i in l:\n",
    "        if type(i)==str:\n",
    "            a.append(i)\n",
    "    return a"
   ]
  },
  {
   "cell_type": "code",
   "execution_count": 145,
   "id": "1b1b0523-5007-493b-81fb-10dade13ffbe",
   "metadata": {},
   "outputs": [
    {
     "data": {
      "text/plain": [
       "['veena', 'kumari', 'ineuron']"
      ]
     },
     "execution_count": 145,
     "metadata": {},
     "output_type": "execute_result"
    }
   ],
   "source": [
    "test(a)"
   ]
  },
  {
   "cell_type": "code",
   "execution_count": 146,
   "id": "6ebc54b3-4ccf-4905-9ad6-41edfce8dc93",
   "metadata": {},
   "outputs": [
    {
     "data": {
      "text/plain": [
       "['veena', 'kumari', 'ineuron']"
      ]
     },
     "execution_count": 146,
     "metadata": {},
     "output_type": "execute_result"
    }
   ],
   "source": [
    "test(l)"
   ]
  },
  {
   "cell_type": "code",
   "execution_count": 147,
   "id": "c8060a36-1cad-4200-a3f9-64ff3504a97a",
   "metadata": {},
   "outputs": [],
   "source": [
    "l2=[\"ashok\",'veena',\"paravathi\"]\n"
   ]
  },
  {
   "cell_type": "code",
   "execution_count": 148,
   "id": "eaae938e-0609-498c-9dad-be82cb1e5c28",
   "metadata": {},
   "outputs": [
    {
     "data": {
      "text/plain": [
       "['ashok', 'veena', 'paravathi']"
      ]
     },
     "execution_count": 148,
     "metadata": {},
     "output_type": "execute_result"
    }
   ],
   "source": [
    "test(l2)"
   ]
  },
  {
   "cell_type": "code",
   "execution_count": 170,
   "id": "79fb0663-27c2-4ee7-9f3a-c949de99a45c",
   "metadata": {},
   "outputs": [],
   "source": [
    "def test(l):\n",
    "    \"\"\"this my function which will help you to separate a string from list\"\"\"\n",
    "    l1=[]\n",
    "    for i in l:\n",
    "        if type(i)==str:\n",
    "            l1.append(i)\n",
    "    return l1"
   ]
  },
  {
   "cell_type": "code",
   "execution_count": 171,
   "id": "fba32bf2-c6eb-4121-b259-14985bb99877",
   "metadata": {},
   "outputs": [
    {
     "data": {
      "text/plain": [
       "['sudh', 'ineuron', 'fsda bootcamp 2.0']"
      ]
     },
     "execution_count": 171,
     "metadata": {},
     "output_type": "execute_result"
    }
   ],
   "source": [
    "test(l)"
   ]
  },
  {
   "cell_type": "code",
   "execution_count": 169,
   "id": "a405c167-ae82-4b15-88d5-1ffc8da20f4d",
   "metadata": {},
   "outputs": [
    {
     "data": {
      "text/plain": [
       "[3.5, 6.56, 4, 5, 'sudh', 'ineuron', 'fsda bootcamp 2.0']"
      ]
     },
     "execution_count": 169,
     "metadata": {},
     "output_type": "execute_result"
    }
   ],
   "source": [
    "l"
   ]
  },
  {
   "cell_type": "code",
   "execution_count": 150,
   "id": "bff5ec81-992c-4b25-abc5-7a18e96ca45f",
   "metadata": {},
   "outputs": [
    {
     "data": {
      "text/plain": [
       "['kumar']"
      ]
     },
     "execution_count": 150,
     "metadata": {},
     "output_type": "execute_result"
    }
   ],
   "source": [
    "test(l1)"
   ]
  },
  {
   "cell_type": "code",
   "execution_count": 96,
   "id": "a45f1dce-ac3e-44db-81ae-eee582860964",
   "metadata": {},
   "outputs": [
    {
     "data": {
      "text/plain": [
       "[4, 5, 6, 7, 7, 8, 'kumar', 4.56]"
      ]
     },
     "execution_count": 96,
     "metadata": {},
     "output_type": "execute_result"
    }
   ],
   "source": [
    "l1"
   ]
  },
  {
   "cell_type": "raw",
   "id": "cf32809a-aca2-41d4-b618-09d777481324",
   "metadata": {},
   "source": [
    "1.write a functon which will try to find  out len of a string without using an in bulit len function\n",
    "2.write a function which will be able to print an index of list element without using an index function\n",
    "3.write a function which will be able to print an ip address of your system \n",
    "4.write a feunction which will shutdown your system\n",
    "5.write a function which will take input as alist with any kind of numeric value and give an out as amultiplication of all the nhmeric  datw l=[3.5,6.5,4,5,\"veena\",\"ineuron\",\"fsds bootcamp 2.0\"]\n",
    "6.write a function which will be able to read  all the mails.\n",
    "7.write a function which will be able to send a mail to anyone \n",
    "8.write a function which will be able to rread a doc /word file from your system\n",
    "\n",
    "query@ineuron.ai"
   ]
  },
  {
   "cell_type": "code",
   "execution_count": 2,
   "id": "d573c351-5474-4744-ba56-30c6a169f27d",
   "metadata": {},
   "outputs": [],
   "source": [
    "list=[1,2,3,4,5,7,23,\"veena\"]"
   ]
  },
  {
   "cell_type": "code",
   "execution_count": 3,
   "id": "77b3d5f7-2716-4246-9e77-3e0a902387bd",
   "metadata": {},
   "outputs": [
    {
     "name": "stdout",
     "output_type": "stream",
     "text": [
      "22\n"
     ]
    }
   ],
   "source": [
    "## 1 question\n",
    "list1=\"hey welcome to ineuron\"\n",
    "\n",
    "new =0\n",
    "\n",
    "for i in list1:\n",
    "    new +=1\n",
    "print(new)"
   ]
  },
  {
   "cell_type": "code",
   "execution_count": 32,
   "id": "b64033c2-046e-405f-925b-67abe2295bfa",
   "metadata": {},
   "outputs": [],
   "source": [
    "def test(s):\n",
    "    count=0\n",
    "    for i in s:\n",
    "       # if type(i)==str:\n",
    "            count+=1\n",
    "    return count"
   ]
  },
  {
   "cell_type": "code",
   "execution_count": 33,
   "id": "0dd95186-42a8-4700-a350-d77fa09dee19",
   "metadata": {},
   "outputs": [
    {
     "data": {
      "text/plain": [
       "5"
      ]
     },
     "execution_count": 33,
     "metadata": {},
     "output_type": "execute_result"
    }
   ],
   "source": [
    "test(\"veena\")"
   ]
  },
  {
   "cell_type": "code",
   "execution_count": 34,
   "id": "0196aaa8-1743-4a8f-bf60-0b97f8d9038d",
   "metadata": {},
   "outputs": [
    {
     "name": "stdout",
     "output_type": "stream",
     "text": [
      "1\n",
      "2\n",
      "3\n",
      "4\n",
      "5\n",
      "7\n",
      "23\n",
      "veena\n"
     ]
    }
   ],
   "source": [
    "\n",
    "\n",
    "for i in list[:8]:\n",
    "    print(i)"
   ]
  },
  {
   "cell_type": "code",
   "execution_count": 35,
   "id": "0b03ea92-dde6-4ec4-aa36-d7e0dbc694ef",
   "metadata": {},
   "outputs": [
    {
     "data": {
      "text/plain": [
       "[1, 2, 3, 4, 5, 7, 23, 'veena']"
      ]
     },
     "execution_count": 35,
     "metadata": {},
     "output_type": "execute_result"
    }
   ],
   "source": [
    "list"
   ]
  },
  {
   "cell_type": "code",
   "execution_count": 36,
   "id": "88a35742-09b1-4e4e-bc0b-8d2891e8e670",
   "metadata": {},
   "outputs": [
    {
     "name": "stdout",
     "output_type": "stream",
     "text": [
      "0 1\n",
      "1 2\n",
      "2 3\n",
      "3 4\n",
      "4 5\n",
      "5 7\n",
      "6 23\n",
      "7 veena\n"
     ]
    }
   ],
   "source": [
    "## 2 question\n",
    "\n",
    "for i in range(0,8):\n",
    "        \n",
    "        print(i,list[i])"
   ]
  },
  {
   "cell_type": "code",
   "execution_count": 37,
   "id": "86fb012f-b555-4ea5-9fde-dfac8fc00583",
   "metadata": {},
   "outputs": [],
   "source": [
    "def test1(lis):\n",
    "    for i in range(0,test(lis)):\n",
    "        print(lis[i],\":\",i)"
   ]
  },
  {
   "cell_type": "code",
   "execution_count": 38,
   "id": "cb63a66d-75e6-48d4-affb-7486621f9385",
   "metadata": {},
   "outputs": [
    {
     "name": "stdout",
     "output_type": "stream",
     "text": [
      "3.5 : 0\n",
      "6.56 : 1\n",
      "4 : 2\n",
      "5 : 3\n",
      "sudh : 4\n",
      "ineuron : 5\n",
      "fsda bootcamp 2.0 : 6\n"
     ]
    }
   ],
   "source": [
    "test1(l)"
   ]
  },
  {
   "cell_type": "code",
   "execution_count": 39,
   "id": "32c60a9e-c248-4873-bac7-237000430c0c",
   "metadata": {},
   "outputs": [
    {
     "name": "stdout",
     "output_type": "stream",
     "text": [
      "1 : 0\n",
      "2 : 1\n",
      "3 : 2\n",
      "4 : 3\n",
      "5 : 4\n",
      "7 : 5\n",
      "23 : 6\n",
      "veena : 7\n"
     ]
    }
   ],
   "source": [
    "test1(list)"
   ]
  },
  {
   "cell_type": "code",
   "execution_count": 44,
   "id": "d6ff2244-750f-4179-b17e-5db32b047cb6",
   "metadata": {},
   "outputs": [],
   "source": [
    "## 3.question ip address\n",
    "import socket\n",
    "def test2():\n",
    "    ip=socket.gethostbyname(socket.gethostname())\n",
    "    return ip"
   ]
  },
  {
   "cell_type": "code",
   "execution_count": 45,
   "id": "1ebbc7e5-fc56-4db3-891b-022a17a65cd5",
   "metadata": {},
   "outputs": [
    {
     "data": {
      "text/plain": [
       "'172.17.0.3'"
      ]
     },
     "execution_count": 45,
     "metadata": {},
     "output_type": "execute_result"
    }
   ],
   "source": [
    "test2()"
   ]
  },
  {
   "cell_type": "code",
   "execution_count": null,
   "id": "b5cd6cd6-8ec2-49d3-9595-f7fcd9c95a83",
   "metadata": {},
   "outputs": [],
   "source": [
    "##4.question \n",
    "#import os\n",
    "#os.system(\"shutdown/s/t 4\")\n",
    "\n",
    "#/s -shut down\n",
    "#/r -restart\n",
    "#/t1-timer parameter"
   ]
  },
  {
   "cell_type": "code",
   "execution_count": null,
   "id": "47d8d5c0-3f58-43c4-9ad3-b7f58691bf88",
   "metadata": {},
   "outputs": [],
   "source": []
  },
  {
   "cell_type": "code",
   "execution_count": null,
   "id": "05b03e7e-77ce-4051-8c52-3ac37b7fa9bf",
   "metadata": {},
   "outputs": [],
   "source": []
  },
  {
   "cell_type": "code",
   "execution_count": 10,
   "id": "438b5305-6099-4cee-a3ab-5c4ca5afbea9",
   "metadata": {},
   "outputs": [],
   "source": [
    " l = [3.5, 6.56, 4,5,\"sudh\" , \"ineuron\" , 'fsda bootcamp 2.0']\n",
    "    "
   ]
  },
  {
   "cell_type": "code",
   "execution_count": 11,
   "id": "99128c8f-e9c5-429d-8408-7cd32fa35209",
   "metadata": {},
   "outputs": [
    {
     "name": "stdout",
     "output_type": "stream",
     "text": [
      "459.19999999999993\n"
     ]
    }
   ],
   "source": [
    "## 5 question\n",
    "\n",
    "def test1(l):\n",
    "    a=1\n",
    "    for i in l:\n",
    "        if type(i)==int or type(i)==float:\n",
    "            a=a * i\n",
    "    return a\n",
    "        \n",
    "        \n",
    "l1= [3.5, 6.56, 4,5,\"sudh\" , \"ineuron\" , 'fsda bootcamp 2.0']\n",
    "print (test1(l1))  "
   ]
  },
  {
   "cell_type": "code",
   "execution_count": 27,
   "id": "46f73792-ca87-43a2-83a9-9d2f5b962f41",
   "metadata": {},
   "outputs": [
    {
     "name": "stdout",
     "output_type": "stream",
     "text": [
      "20\n"
     ]
    }
   ],
   "source": [
    "def test1(l):\n",
    "    a=1\n",
    "    for i in l:\n",
    "        if type(i)==int :\n",
    "            a=a * i\n",
    "    return a\n",
    "        \n",
    "        \n",
    "l1= [3.5, 6.56, 4,5,\"sudh\" , \"ineuron\" , 'fsda bootcamp 2.0']\n",
    "print (test1(l1))  "
   ]
  },
  {
   "cell_type": "code",
   "execution_count": 29,
   "id": "635e4574-ae6f-4e0a-bb6f-d0fb9dfc8f87",
   "metadata": {},
   "outputs": [
    {
     "data": {
      "text/plain": [
       "20"
      ]
     },
     "execution_count": 29,
     "metadata": {},
     "output_type": "execute_result"
    }
   ],
   "source": [
    "test1(l1)"
   ]
  },
  {
   "cell_type": "code",
   "execution_count": 48,
   "id": "f29b93b6-dff0-4ff9-b453-687d26017abc",
   "metadata": {},
   "outputs": [
    {
     "ename": "NameError",
     "evalue": "name 'traceback' is not defined",
     "output_type": "error",
     "traceback": [
      "\u001b[0;31m---------------------------------------------------------------------------\u001b[0m",
      "\u001b[0;31mOSError\u001b[0m                                   Traceback (most recent call last)",
      "Input \u001b[0;32mIn [48]\u001b[0m, in \u001b[0;36mread_email_from_gmail\u001b[0;34m()\u001b[0m\n\u001b[1;32m     14\u001b[0m \u001b[38;5;28;01mtry\u001b[39;00m:\n\u001b[0;32m---> 15\u001b[0m     mail \u001b[38;5;241m=\u001b[39m \u001b[43mimaplib\u001b[49m\u001b[38;5;241;43m.\u001b[39;49m\u001b[43mIMAP4_SSL\u001b[49m\u001b[43m(\u001b[49m\u001b[43mSMTP_SERVER\u001b[49m\u001b[43m)\u001b[49m\n\u001b[1;32m     16\u001b[0m     mail\u001b[38;5;241m.\u001b[39mlogin(FROM_EMAIL,FROM_PWD)\n",
      "File \u001b[0;32m/opt/anaconda3/lib/python3.9/imaplib.py:1324\u001b[0m, in \u001b[0;36mIMAP4_SSL.__init__\u001b[0;34m(self, host, port, keyfile, certfile, ssl_context, timeout)\u001b[0m\n\u001b[1;32m   1323\u001b[0m \u001b[38;5;28mself\u001b[39m\u001b[38;5;241m.\u001b[39mssl_context \u001b[38;5;241m=\u001b[39m ssl_context\n\u001b[0;32m-> 1324\u001b[0m \u001b[43mIMAP4\u001b[49m\u001b[38;5;241;43m.\u001b[39;49m\u001b[38;5;21;43m__init__\u001b[39;49m\u001b[43m(\u001b[49m\u001b[38;5;28;43mself\u001b[39;49m\u001b[43m,\u001b[49m\u001b[43m \u001b[49m\u001b[43mhost\u001b[49m\u001b[43m,\u001b[49m\u001b[43m \u001b[49m\u001b[43mport\u001b[49m\u001b[43m,\u001b[49m\u001b[43m \u001b[49m\u001b[43mtimeout\u001b[49m\u001b[43m)\u001b[49m\n",
      "File \u001b[0;32m/opt/anaconda3/lib/python3.9/imaplib.py:202\u001b[0m, in \u001b[0;36mIMAP4.__init__\u001b[0;34m(self, host, port, timeout)\u001b[0m\n\u001b[1;32m    200\u001b[0m \u001b[38;5;66;03m# Open socket to server.\u001b[39;00m\n\u001b[0;32m--> 202\u001b[0m \u001b[38;5;28;43mself\u001b[39;49m\u001b[38;5;241;43m.\u001b[39;49m\u001b[43mopen\u001b[49m\u001b[43m(\u001b[49m\u001b[43mhost\u001b[49m\u001b[43m,\u001b[49m\u001b[43m \u001b[49m\u001b[43mport\u001b[49m\u001b[43m,\u001b[49m\u001b[43m \u001b[49m\u001b[43mtimeout\u001b[49m\u001b[43m)\u001b[49m\n\u001b[1;32m    204\u001b[0m \u001b[38;5;28;01mtry\u001b[39;00m:\n",
      "File \u001b[0;32m/opt/anaconda3/lib/python3.9/imaplib.py:1337\u001b[0m, in \u001b[0;36mIMAP4_SSL.open\u001b[0;34m(self, host, port, timeout)\u001b[0m\n\u001b[1;32m   1332\u001b[0m \u001b[38;5;124;03m\"\"\"Setup connection to remote server on \"host:port\".\u001b[39;00m\n\u001b[1;32m   1333\u001b[0m \u001b[38;5;124;03m    (default: localhost:standard IMAP4 SSL port).\u001b[39;00m\n\u001b[1;32m   1334\u001b[0m \u001b[38;5;124;03mThis connection will be used by the routines:\u001b[39;00m\n\u001b[1;32m   1335\u001b[0m \u001b[38;5;124;03m    read, readline, send, shutdown.\u001b[39;00m\n\u001b[1;32m   1336\u001b[0m \u001b[38;5;124;03m\"\"\"\u001b[39;00m\n\u001b[0;32m-> 1337\u001b[0m \u001b[43mIMAP4\u001b[49m\u001b[38;5;241;43m.\u001b[39;49m\u001b[43mopen\u001b[49m\u001b[43m(\u001b[49m\u001b[38;5;28;43mself\u001b[39;49m\u001b[43m,\u001b[49m\u001b[43m \u001b[49m\u001b[43mhost\u001b[49m\u001b[43m,\u001b[49m\u001b[43m \u001b[49m\u001b[43mport\u001b[49m\u001b[43m,\u001b[49m\u001b[43m \u001b[49m\u001b[43mtimeout\u001b[49m\u001b[43m)\u001b[49m\n",
      "File \u001b[0;32m/opt/anaconda3/lib/python3.9/imaplib.py:312\u001b[0m, in \u001b[0;36mIMAP4.open\u001b[0;34m(self, host, port, timeout)\u001b[0m\n\u001b[1;32m    311\u001b[0m \u001b[38;5;28mself\u001b[39m\u001b[38;5;241m.\u001b[39mport \u001b[38;5;241m=\u001b[39m port\n\u001b[0;32m--> 312\u001b[0m \u001b[38;5;28mself\u001b[39m\u001b[38;5;241m.\u001b[39msock \u001b[38;5;241m=\u001b[39m \u001b[38;5;28;43mself\u001b[39;49m\u001b[38;5;241;43m.\u001b[39;49m\u001b[43m_create_socket\u001b[49m\u001b[43m(\u001b[49m\u001b[43mtimeout\u001b[49m\u001b[43m)\u001b[49m\n\u001b[1;32m    313\u001b[0m \u001b[38;5;28mself\u001b[39m\u001b[38;5;241m.\u001b[39mfile \u001b[38;5;241m=\u001b[39m \u001b[38;5;28mself\u001b[39m\u001b[38;5;241m.\u001b[39msock\u001b[38;5;241m.\u001b[39mmakefile(\u001b[38;5;124m'\u001b[39m\u001b[38;5;124mrb\u001b[39m\u001b[38;5;124m'\u001b[39m)\n",
      "File \u001b[0;32m/opt/anaconda3/lib/python3.9/imaplib.py:1327\u001b[0m, in \u001b[0;36mIMAP4_SSL._create_socket\u001b[0;34m(self, timeout)\u001b[0m\n\u001b[1;32m   1326\u001b[0m \u001b[38;5;28;01mdef\u001b[39;00m \u001b[38;5;21m_create_socket\u001b[39m(\u001b[38;5;28mself\u001b[39m, timeout):\n\u001b[0;32m-> 1327\u001b[0m     sock \u001b[38;5;241m=\u001b[39m \u001b[43mIMAP4\u001b[49m\u001b[38;5;241;43m.\u001b[39;49m\u001b[43m_create_socket\u001b[49m\u001b[43m(\u001b[49m\u001b[38;5;28;43mself\u001b[39;49m\u001b[43m,\u001b[49m\u001b[43m \u001b[49m\u001b[43mtimeout\u001b[49m\u001b[43m)\u001b[49m\n\u001b[1;32m   1328\u001b[0m     \u001b[38;5;28;01mreturn\u001b[39;00m \u001b[38;5;28mself\u001b[39m\u001b[38;5;241m.\u001b[39mssl_context\u001b[38;5;241m.\u001b[39mwrap_socket(sock,\n\u001b[1;32m   1329\u001b[0m                                         server_hostname\u001b[38;5;241m=\u001b[39m\u001b[38;5;28mself\u001b[39m\u001b[38;5;241m.\u001b[39mhost)\n",
      "File \u001b[0;32m/opt/anaconda3/lib/python3.9/imaplib.py:302\u001b[0m, in \u001b[0;36mIMAP4._create_socket\u001b[0;34m(self, timeout)\u001b[0m\n\u001b[1;32m    301\u001b[0m     \u001b[38;5;28;01mreturn\u001b[39;00m socket\u001b[38;5;241m.\u001b[39mcreate_connection(address, timeout)\n\u001b[0;32m--> 302\u001b[0m \u001b[38;5;28;01mreturn\u001b[39;00m \u001b[43msocket\u001b[49m\u001b[38;5;241;43m.\u001b[39;49m\u001b[43mcreate_connection\u001b[49m\u001b[43m(\u001b[49m\u001b[43maddress\u001b[49m\u001b[43m)\u001b[49m\n",
      "File \u001b[0;32m/opt/anaconda3/lib/python3.9/socket.py:844\u001b[0m, in \u001b[0;36mcreate_connection\u001b[0;34m(address, timeout, source_address)\u001b[0m\n\u001b[1;32m    843\u001b[0m \u001b[38;5;28;01mtry\u001b[39;00m:\n\u001b[0;32m--> 844\u001b[0m     \u001b[38;5;28;01mraise\u001b[39;00m err\n\u001b[1;32m    845\u001b[0m \u001b[38;5;28;01mfinally\u001b[39;00m:\n\u001b[1;32m    846\u001b[0m     \u001b[38;5;66;03m# Break explicitly a reference cycle\u001b[39;00m\n",
      "File \u001b[0;32m/opt/anaconda3/lib/python3.9/socket.py:832\u001b[0m, in \u001b[0;36mcreate_connection\u001b[0;34m(address, timeout, source_address)\u001b[0m\n\u001b[1;32m    831\u001b[0m     sock\u001b[38;5;241m.\u001b[39mbind(source_address)\n\u001b[0;32m--> 832\u001b[0m \u001b[43msock\u001b[49m\u001b[38;5;241;43m.\u001b[39;49m\u001b[43mconnect\u001b[49m\u001b[43m(\u001b[49m\u001b[43msa\u001b[49m\u001b[43m)\u001b[49m\n\u001b[1;32m    833\u001b[0m \u001b[38;5;66;03m# Break explicitly a reference cycle\u001b[39;00m\n",
      "\u001b[0;31mOSError\u001b[0m: [Errno 99] Cannot assign requested address",
      "\nDuring handling of the above exception, another exception occurred:\n",
      "\u001b[0;31mNameError\u001b[0m                                 Traceback (most recent call last)",
      "Input \u001b[0;32mIn [48]\u001b[0m, in \u001b[0;36m<cell line: 40>\u001b[0;34m()\u001b[0m\n\u001b[1;32m     37\u001b[0m         traceback\u001b[38;5;241m.\u001b[39mprint_exc() \n\u001b[1;32m     38\u001b[0m         \u001b[38;5;28mprint\u001b[39m(\u001b[38;5;28mstr\u001b[39m(e))\n\u001b[0;32m---> 40\u001b[0m \u001b[43mread_email_from_gmail\u001b[49m\u001b[43m(\u001b[49m\u001b[43m)\u001b[49m\n",
      "Input \u001b[0;32mIn [48]\u001b[0m, in \u001b[0;36mread_email_from_gmail\u001b[0;34m()\u001b[0m\n\u001b[1;32m     34\u001b[0m                 \u001b[38;5;28mprint\u001b[39m(\u001b[38;5;124m'\u001b[39m\u001b[38;5;124mSubject : \u001b[39m\u001b[38;5;124m'\u001b[39m \u001b[38;5;241m+\u001b[39m email_subject \u001b[38;5;241m+\u001b[39m \u001b[38;5;124m'\u001b[39m\u001b[38;5;130;01m\\n\u001b[39;00m\u001b[38;5;124m'\u001b[39m)\n\u001b[1;32m     36\u001b[0m \u001b[38;5;28;01mexcept\u001b[39;00m \u001b[38;5;167;01mException\u001b[39;00m \u001b[38;5;28;01mas\u001b[39;00m e:\n\u001b[0;32m---> 37\u001b[0m     \u001b[43mtraceback\u001b[49m\u001b[38;5;241m.\u001b[39mprint_exc() \n\u001b[1;32m     38\u001b[0m     \u001b[38;5;28mprint\u001b[39m(\u001b[38;5;28mstr\u001b[39m(e))\n",
      "\u001b[0;31mNameError\u001b[0m: name 'traceback' is not defined"
     ]
    }
   ],
   "source": [
    "##6.question\n",
    "import smtplib\n",
    "import time\n",
    "import imaplib\n",
    "import email\n",
    "ORG_EMAIL = \"@gmail.com\" \n",
    "FROM_EMAIL = 'veenakumari807@gmail.com'\n",
    "FROM_PWD = 'iixqlcaantqrojsb'\n",
    "SMTP_SERVER = \"imap.gmail.com\" \n",
    "SMTP_PORT = 993\n",
    "imaplib._MAXLINE = 400000000\n",
    "\n",
    "def read_email_from_gmail():\n",
    "    try:\n",
    "        mail = imaplib.IMAP4_SSL(SMTP_SERVER)\n",
    "        mail.login(FROM_EMAIL,FROM_PWD)\n",
    "        mail.select('inbox')\n",
    "\n",
    "        data = mail.search(None, 'ALL')\n",
    "        mail_ids = data[1]\n",
    "        id_list = mail_ids[0].split()   \n",
    "        first_email_id = int(id_list[0])\n",
    "        latest_email_id = int(id_list[-1])\n",
    "\n",
    "        for i in range(latest_email_id,first_email_id, -1):\n",
    "            data = mail.fetch(str(i), '(RFC822)' )\n",
    "            for response_part in data:\n",
    "                arr = response_part[0]\n",
    "                if isinstance(arr, tuple):\n",
    "                    msg = email.message_from_string(str(arr[1],'utf-8'))\n",
    "                    email_subject = msg['subject']\n",
    "                    email_from = msg['from']\n",
    "                    print('From : ' + email_from + '\\n')\n",
    "                    print('Subject : ' + email_subject + '\\n')\n",
    "\n",
    "    except Exception as e:\n",
    "        traceback.print_exc() \n",
    "        print(str(e))\n",
    "\n",
    "read_email_from_gmail()\n"
   ]
  },
  {
   "cell_type": "code",
   "execution_count": null,
   "id": "8a683cd4-e2d3-4bdf-afe2-b5ce8d213fe8",
   "metadata": {},
   "outputs": [],
   "source": []
  },
  {
   "cell_type": "code",
   "execution_count": 46,
   "id": "30e85905-d96e-4488-a2b4-03a2e6783d2e",
   "metadata": {},
   "outputs": [],
   "source": [
    "#7 question\n",
    "import smtplib,ssl"
   ]
  },
  {
   "cell_type": "markdown",
   "id": "867ad77b-3bad-41e3-b512-cff81bacee05",
   "metadata": {},
   "source": [
    "import smtplib,ssl\n",
    "\n",
    "port = 465  # For SSL\n",
    "smtp_server = \"smtp.gmail.com\"\n",
    "sender_email = \"veenakumari807@gmail.com\"  # Enter your address\n",
    "receiver_email = \"veenakuma06@gmail.com\"  # Enter receiver address\n",
    "#password = 'rlplfdcsoiqruagn'\n",
    "password = 'fdafasfas'\n",
    "message = \"\"\"this is my message from python code \"\"\"\n",
    "\n",
    "context = ssl.create_default_context()\n",
    "with smtplib.SMTP_SSL(smtp_server, port, context=context) as server:\n",
    "    server.login(sender_email, password)\n",
    "    server.sendmail(sender_email, receiver_email, message)"
   ]
  },
  {
   "cell_type": "code",
   "execution_count": null,
   "id": "fa1d3cc3-7cbc-4dbc-b52b-f52719871a7f",
   "metadata": {},
   "outputs": [],
   "source": []
  },
  {
   "cell_type": "code",
   "execution_count": null,
   "id": "b77320dc-b3d4-411e-8453-975a49005d1f",
   "metadata": {},
   "outputs": [],
   "source": [
    "def test1():\n",
    "    l=input(\"enter a number\")\n",
    "    a=1\n",
    "    for i in l:\n",
    "        if type(i)==int or type(i)== float:\n",
    "            a=a * i\n",
    "    return a\n"
   ]
  },
  {
   "cell_type": "code",
   "execution_count": 49,
   "id": "b4e8a422-548e-44b7-aa81-7f819749af06",
   "metadata": {},
   "outputs": [
    {
     "name": "stdin",
     "output_type": "stream",
     "text": [
      "enter a number 3.5,6.5,4,5,\"ineuron\",\"sudh\",\"fsds bootcamp 2.0\"\n"
     ]
    },
    {
     "data": {
      "text/plain": [
       "1"
      ]
     },
     "execution_count": 49,
     "metadata": {},
     "output_type": "execute_result"
    }
   ],
   "source": [
    "test1()"
   ]
  },
  {
   "cell_type": "code",
   "execution_count": 56,
   "id": "741cb3e8-05de-483b-8ce7-d8c3b945a59b",
   "metadata": {},
   "outputs": [
    {
     "ename": "IndentationError",
     "evalue": "expected an indented block (1310416671.py, line 9)",
     "output_type": "error",
     "traceback": [
      "\u001b[0;36m  Input \u001b[0;32mIn [56]\u001b[0;36m\u001b[0m\n\u001b[0;31m    return a\u001b[0m\n\u001b[0m    ^\u001b[0m\n\u001b[0;31mIndentationError\u001b[0m\u001b[0;31m:\u001b[0m expected an indented block\n"
     ]
    }
   ],
   "source": [
    "def test2():\n",
    "    l=input(\"enter a number\")\n",
    "    a=1\n",
    "    for i in l.split(\",\"):\n",
    "        try:\n",
    "\n",
    "            a*=float(i)\n",
    "        except :\n",
    "    \n",
    "    return a\n",
    "\n",
    "test2()"
   ]
  },
  {
   "cell_type": "code",
   "execution_count": null,
   "id": "8e4b9957-cf3d-4672-914e-8e4ef3bb4863",
   "metadata": {},
   "outputs": [],
   "source": []
  },
  {
   "cell_type": "code",
   "execution_count": null,
   "id": "d99ae43a-e7d9-4c7d-9a08-b4a2ed2bba20",
   "metadata": {},
   "outputs": [],
   "source": []
  },
  {
   "cell_type": "code",
   "execution_count": null,
   "id": "f1886bbb-2417-468c-ae4c-8f06321e68d9",
   "metadata": {},
   "outputs": [],
   "source": []
  },
  {
   "cell_type": "code",
   "execution_count": 128,
   "id": "dfb94248-31cd-422f-aab4-472cc5db8c58",
   "metadata": {},
   "outputs": [],
   "source": [
    "def test(l):\n",
    "    a=[]\n",
    "    for i in l:\n",
    "        if type(i)==str:\n",
    "            a.append(i)\n",
    "            return a"
   ]
  },
  {
   "cell_type": "code",
   "execution_count": 129,
   "id": "927b6b1c-cf7a-43d9-b0a0-70c9ad27bb02",
   "metadata": {},
   "outputs": [
    {
     "data": {
      "text/plain": [
       "['veena']"
      ]
     },
     "execution_count": 129,
     "metadata": {},
     "output_type": "execute_result"
    }
   ],
   "source": [
    "test(l)"
   ]
  },
  {
   "cell_type": "code",
   "execution_count": 105,
   "id": "25d23b12-c461-4d2a-a713-bd0d00bdd263",
   "metadata": {},
   "outputs": [],
   "source": [
    "list1=[1,2,3,4,5,56]\n",
    " \n",
    "total=0"
   ]
  },
  {
   "cell_type": "code",
   "execution_count": 106,
   "id": "b540c3ce-adc6-4338-819d-cf03b16c1742",
   "metadata": {},
   "outputs": [],
   "source": [
    "for a in range(0, len(list1)):\n",
    "    total = total + list1[a]\n"
   ]
  },
  {
   "cell_type": "code",
   "execution_count": 108,
   "id": "710722b6-1387-4c21-b84a-41785e672f04",
   "metadata": {},
   "outputs": [
    {
     "data": {
      "text/plain": [
       "71"
      ]
     },
     "execution_count": 108,
     "metadata": {},
     "output_type": "execute_result"
    }
   ],
   "source": [
    "total"
   ]
  },
  {
   "cell_type": "code",
   "execution_count": 1,
   "id": "87a7a624-8104-4d8c-b123-f2f11f8cbc1a",
   "metadata": {},
   "outputs": [],
   "source": [
    "import docx2txt"
   ]
  },
  {
   "cell_type": "code",
   "execution_count": 11,
   "id": "53b1cf92-8535-4ed6-85aa-5ab058670a2b",
   "metadata": {},
   "outputs": [
    {
     "ename": "FileNotFoundError",
     "evalue": "[Errno 2] No such file or directory: 'text.docx'",
     "output_type": "error",
     "traceback": [
      "\u001b[0;31m---------------------------------------------------------------------------\u001b[0m",
      "\u001b[0;31mFileNotFoundError\u001b[0m                         Traceback (most recent call last)",
      "Input \u001b[0;32mIn [11]\u001b[0m, in \u001b[0;36m<cell line: 1>\u001b[0;34m()\u001b[0m\n\u001b[0;32m----> 1\u001b[0m a\u001b[38;5;241m=\u001b[39m\u001b[43mdocx2txt\u001b[49m\u001b[38;5;241;43m.\u001b[39;49m\u001b[43mprocess\u001b[49m\u001b[43m(\u001b[49m\u001b[38;5;124;43m'\u001b[39;49m\u001b[38;5;124;43mtext.docx\u001b[39;49m\u001b[38;5;124;43m'\u001b[39;49m\u001b[43m)\u001b[49m\n\u001b[1;32m      2\u001b[0m \u001b[38;5;28mprint\u001b[39m(a)\n",
      "File \u001b[0;32m~/.local/lib/python3.9/site-packages/docx2txt/docx2txt.py:76\u001b[0m, in \u001b[0;36mprocess\u001b[0;34m(docx, img_dir)\u001b[0m\n\u001b[1;32m     73\u001b[0m text \u001b[38;5;241m=\u001b[39m \u001b[38;5;124mu\u001b[39m\u001b[38;5;124m'\u001b[39m\u001b[38;5;124m'\u001b[39m\n\u001b[1;32m     75\u001b[0m \u001b[38;5;66;03m# unzip the docx in memory\u001b[39;00m\n\u001b[0;32m---> 76\u001b[0m zipf \u001b[38;5;241m=\u001b[39m \u001b[43mzipfile\u001b[49m\u001b[38;5;241;43m.\u001b[39;49m\u001b[43mZipFile\u001b[49m\u001b[43m(\u001b[49m\u001b[43mdocx\u001b[49m\u001b[43m)\u001b[49m\n\u001b[1;32m     77\u001b[0m filelist \u001b[38;5;241m=\u001b[39m zipf\u001b[38;5;241m.\u001b[39mnamelist()\n\u001b[1;32m     79\u001b[0m \u001b[38;5;66;03m# get header text\u001b[39;00m\n\u001b[1;32m     80\u001b[0m \u001b[38;5;66;03m# there can be 3 header files in the zip\u001b[39;00m\n",
      "File \u001b[0;32m/opt/anaconda3/lib/python3.9/zipfile.py:1248\u001b[0m, in \u001b[0;36mZipFile.__init__\u001b[0;34m(self, file, mode, compression, allowZip64, compresslevel, strict_timestamps)\u001b[0m\n\u001b[1;32m   1246\u001b[0m \u001b[38;5;28;01mwhile\u001b[39;00m \u001b[38;5;28;01mTrue\u001b[39;00m:\n\u001b[1;32m   1247\u001b[0m     \u001b[38;5;28;01mtry\u001b[39;00m:\n\u001b[0;32m-> 1248\u001b[0m         \u001b[38;5;28mself\u001b[39m\u001b[38;5;241m.\u001b[39mfp \u001b[38;5;241m=\u001b[39m \u001b[43mio\u001b[49m\u001b[38;5;241;43m.\u001b[39;49m\u001b[43mopen\u001b[49m\u001b[43m(\u001b[49m\u001b[43mfile\u001b[49m\u001b[43m,\u001b[49m\u001b[43m \u001b[49m\u001b[43mfilemode\u001b[49m\u001b[43m)\u001b[49m\n\u001b[1;32m   1249\u001b[0m     \u001b[38;5;28;01mexcept\u001b[39;00m \u001b[38;5;167;01mOSError\u001b[39;00m:\n\u001b[1;32m   1250\u001b[0m         \u001b[38;5;28;01mif\u001b[39;00m filemode \u001b[38;5;129;01min\u001b[39;00m modeDict:\n",
      "\u001b[0;31mFileNotFoundError\u001b[0m: [Errno 2] No such file or directory: 'text.docx'"
     ]
    }
   ],
   "source": [
    "a=docx2txt.process('text.docx')\n",
    "print(a)"
   ]
  },
  {
   "cell_type": "code",
   "execution_count": 57,
   "id": "d8c53d92-9550-4609-86df-8f4acb4e4b15",
   "metadata": {},
   "outputs": [
    {
     "name": "stdout",
     "output_type": "stream",
     "text": [
      "Defaulting to user installation because normal site-packages is not writeable\n",
      "Requirement already satisfied: docx2txt in /home/chintaveen79ine/.local/lib/python3.9/site-packages (0.8)\n",
      "Note: you may need to restart the kernel to use updated packages.\n"
     ]
    }
   ],
   "source": [
    "pip install docx2txt"
   ]
  },
  {
   "cell_type": "code",
   "execution_count": 52,
   "id": "6436796c-0de7-41e0-8fed-8197fb591500",
   "metadata": {},
   "outputs": [
    {
     "name": "stdout",
     "output_type": "stream",
     "text": [
      "if \"phone cover\" in list_of_items:\n",
      "    print(\"yes\")\n",
      "else:\n",
      "    print(\"no ,add into list\")\n",
      "    list_of_items=list_of_items+[\"phone cover\"]\n",
      "list_of_items\n",
      "\n",
      "\n",
      "\n",
      "\n",
      "##6.question\n",
      "import smtplib\n",
      "import time\n",
      "import imaplib\n",
      "import email\n",
      "ORG_EMAIL = \"@gmail.com\" \n",
      "FROM_EMAIL = 'veenakumari807@gmail.com'\n",
      "FROM_PWD = 'iixqlcaantqrojsb'\n",
      "SMTP_SERVER = \"imap.gmail.com\" \n",
      "SMTP_PORT = 993\n",
      "imaplib._MAXLINE = 400000000\n",
      "\n",
      "def read_email_from_gmail():\n",
      "    try:\n",
      "        mail = imaplib.IMAP4_SSL(SMTP_SERVER)\n",
      "        mail.login(FROM_EMAIL,FROM_PWD)\n",
      "        mail.select('inbox')\n",
      "\n",
      "        data = mail.search(None, 'ALL')\n",
      "        mail_ids = data[1]\n",
      "        id_list = mail_ids[0].split()   \n",
      "        first_email_id = int(id_list[0])\n",
      "        latest_email_id = int(id_list[-1])\n",
      "\n",
      "        for i in range(latest_email_id,first_email_id, -1):\n",
      "            data = mail.fetch(str(i), '(RFC822)' )\n",
      "            for response_part in data:\n",
      "                arr = response_part[0]\n",
      "                if isinstance(arr, tuple):\n",
      "                    msg = email.message_from_string(str(arr[1],'utf-8'))\n",
      "                    email_subject = msg['subject']\n",
      "                    email_from = msg['from']\n",
      "                    print('From : ' + email_from + '\\n')\n",
      "                    print('Subject : ' + email_subject + '\\n')\n",
      "\n",
      "    except Exception as e:\n",
      "        traceback.print_exc() \n",
      "        print(str(e))\n",
      "\n",
      "read_email_from_gmail()\n",
      "\n"
     ]
    }
   ],
   "source": [
    "## 8.question\n",
    "\n",
    "Q=open(\"/home/chintaveen79ine/practice.txt\",\"r\")\n",
    "\n",
    "print(Q.read())"
   ]
  },
  {
   "cell_type": "code",
   "execution_count": 5,
   "id": "9ab14582-8a32-4692-b072-efbca62a7502",
   "metadata": {},
   "outputs": [
    {
     "name": "stdout",
     "output_type": "stream",
     "text": [
      "'oct-15 &16 class 06 & 07.ipynb'  'oct-8 Class 4.ipynb'\n",
      "'oct-1 class 3.ipynb'             'oct -9 class 5.ipynb'\n",
      "'oct-29 class-08.ipynb'           'sep-24 class1.ipynb'\n",
      "'oct-30 class-09.ipynb'           'sep 25 class2.ipynb'\n"
     ]
    }
   ],
   "source": [
    "ls"
   ]
  },
  {
   "cell_type": "code",
   "execution_count": 6,
   "id": "7a1f00a3-4827-4ff1-bad0-909aa91e42e8",
   "metadata": {},
   "outputs": [
    {
     "name": "stdout",
     "output_type": "stream",
     "text": [
      "'oct-15 &16 class 06 & 07.ipynb'\n",
      "'oct-1 class 3.ipynb'\n",
      "'oct-29 class-08.ipynb'\n",
      "'oct-30 class-09.ipynb'\n",
      "'oct-8 Class 4.ipynb'\n",
      "'oct -9 class 5.ipynb'\n",
      "'sep-24 class1.ipynb'\n",
      "'sep 25 class2.ipynb'\n"
     ]
    }
   ],
   "source": [
    "ls-1"
   ]
  },
  {
   "cell_type": "code",
   "execution_count": null,
   "id": "11820f0d-8ad0-4ce8-a407-b972f0605ef2",
   "metadata": {},
   "outputs": [],
   "source": []
  }
 ],
 "metadata": {
  "kernelspec": {
   "display_name": "Python 3 (ipykernel)",
   "language": "python",
   "name": "python3"
  },
  "language_info": {
   "codemirror_mode": {
    "name": "ipython",
    "version": 3
   },
   "file_extension": ".py",
   "mimetype": "text/x-python",
   "name": "python",
   "nbconvert_exporter": "python",
   "pygments_lexer": "ipython3",
   "version": "3.9.12"
  }
 },
 "nbformat": 4,
 "nbformat_minor": 5
}
