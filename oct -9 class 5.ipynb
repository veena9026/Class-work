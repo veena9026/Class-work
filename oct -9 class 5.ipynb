{
 "cells": [
  {
   "cell_type": "markdown",
   "id": "dc883546-8355-42e0-b22f-894a9afc8524",
   "metadata": {},
   "source": [
    "\n",
    "#### control flow\n",
    "\n",
    "-if..else\n",
    "-if..elif..else\n",
    "-nested if else\n",
    "-single line if else\n",
    "\n",
    "for loops\n",
    "while loops"
   ]
  },
  {
   "cell_type": "markdown",
   "id": "42f63757-4afb-411f-bd14-1b532cea0672",
   "metadata": {},
   "source": [
    "### if elif else"
   ]
  },
  {
   "cell_type": "code",
   "execution_count": 1,
   "id": "0f2adb82-5cac-444e-90ba-082347df7548",
   "metadata": {},
   "outputs": [
    {
     "name": "stdout",
     "output_type": "stream",
     "text": [
      "cart:1135\n",
      "pay amount:794.5\n"
     ]
    }
   ],
   "source": [
    "total_amount =90+45+1000\n",
    "print(f\"cart:{total_amount}\")\n",
    "if total_amount >1000:\n",
    "    price_after_discount =total_amount*0.7\n",
    "    print(f\"pay amount:{price_after_discount}\")\n",
    "\n",
    "elif total_amount<=999 and toatal_amount>499:\n",
    "\n",
    "    price_after_discount =total_amount*0.8\n",
    "\n",
    "    print(f\"pay amount:{price_after_discount}\") \n",
    "else:\n",
    "    print(f\"pay amount:{total_amount}\")"
   ]
  },
  {
   "cell_type": "code",
   "execution_count": 3,
   "id": "53b26e86-95c0-481c-ac67-50fc3bf08dbc",
   "metadata": {},
   "outputs": [
    {
     "name": "stdout",
     "output_type": "stream",
     "text": [
      "cart:540\n",
      "pay amount:432.0\n"
     ]
    }
   ],
   "source": [
    "total_amount =90+450\n",
    "print(f\"cart:{total_amount}\")\n",
    "if total_amount >1000:\n",
    "    price_after_discount =total_amount*0.7\n",
    "    print(f\"pay amount:{price_after_discount}\")\n",
    "\n",
    "elif total_amount<=999 and total_amount>499:\n",
    "\n",
    "    price_after_discount =total_amount*0.8\n",
    "\n",
    "    print(f\"pay amount:{price_after_discount}\") \n",
    "else:\n",
    "    print(f\"pay amount:{total_amount}\")"
   ]
  },
  {
   "cell_type": "code",
   "execution_count": 4,
   "id": "e5988b40-d08b-4da5-9395-217f5b5a0dae",
   "metadata": {},
   "outputs": [
    {
     "name": "stdout",
     "output_type": "stream",
     "text": [
      "cart:1135\n",
      "pay amount:794.5\n"
     ]
    }
   ],
   "source": [
    "total_amount =90+45+1000\n",
    "print(f\"cart:{total_amount}\")\n",
    "if total_amount >1000:\n",
    "    price_after_discount =total_amount*0.7\n",
    "    print(f\"pay amount:{price_after_discount}\")\n",
    "\n",
    "elif 499<total_amount<=999 :\n",
    "\n",
    "    price_after_discount =total_amount*0.8\n",
    "\n",
    "    print(f\"pay amount:{price_after_discount}\") \n",
    "else:\n",
    "    print(f\"pay amount:{total_amount}\")"
   ]
  },
  {
   "cell_type": "code",
   "execution_count": 5,
   "id": "b4702baf-4e25-4c7a-89f8-ca90316f9941",
   "metadata": {},
   "outputs": [
    {
     "name": "stdout",
     "output_type": "stream",
     "text": [
      "cart:1135\n",
      "pay amount:794.5\n",
      "pay amount:1135\n"
     ]
    }
   ],
   "source": [
    "total_amount =90+45+1000\n",
    "print(f\"cart:{total_amount}\")\n",
    "if total_amount >1000:\n",
    "    price_after_discount =total_amount*0.7\n",
    "    print(f\"pay amount:{price_after_discount}\")\n",
    "\n",
    "if total_amount<=999 and toatal_amount>499:\n",
    "\n",
    "    price_after_discount =total_amount*0.8\n",
    "\n",
    "    print(f\"pay amount:{price_after_discount}\") \n",
    "else:\n",
    "    print(f\"pay amount:{total_amount}\")"
   ]
  },
  {
   "cell_type": "code",
   "execution_count": 10,
   "id": "65d24ddf-c8a5-4d25-9805-bd31999465db",
   "metadata": {},
   "outputs": [
    {
     "name": "stdout",
     "output_type": "stream",
     "text": [
      "cart:1508\n",
      "pay amount:904.8\n"
     ]
    }
   ],
   "source": [
    "total_amount =90+45+100+923+350\n",
    "print(f\"cart:{total_amount}\")\n",
    "if total_amount>1499:\n",
    "    price_after_discount =total_amount*0.6\n",
    "    print(f\"pay amount:{price_after_discount}\")\n",
    "\n",
    "elif total_amount >1000:\n",
    "    price_after_discount =total_amount*0.7\n",
    "    print(f\"pay amount:{price_after_discount}\")\n",
    "\n",
    "elif total_amount<=999 and toatal_amount>499:\n",
    "\n",
    "    price_after_discount =total_amount*0.8\n",
    "\n",
    "    print(f\"pay amount:{price_after_discount}\") \n",
    "else:\n",
    "    print(f\"pay amount:{total_amount}\")"
   ]
  },
  {
   "cell_type": "markdown",
   "id": "85c72e37-4426-430f-b134-caddd92d3190",
   "metadata": {},
   "source": [
    "### nested if else"
   ]
  },
  {
   "cell_type": "code",
   "execution_count": 14,
   "id": "dccbc38f-4a5c-42e2-af40-869172989915",
   "metadata": {},
   "outputs": [
    {
     "name": "stdin",
     "output_type": "stream",
     "text": [
      "enter anumber 12\n"
     ]
    },
    {
     "name": "stdout",
     "output_type": "stream",
     "text": [
      "its a positive no\n"
     ]
    }
   ],
   "source": [
    "val =float(input(\"enter anumber\"))\n",
    "\n",
    "if val>=0:\n",
    "    if val==0:\n",
    "        print(\"its zero\")\n",
    "    else:\n",
    "        \n",
    "        print(\"its a positive no\")        \n",
    "else:\n",
    "    print(\"negative number\")"
   ]
  },
  {
   "cell_type": "markdown",
   "id": "5536076f-9fd2-425e-8c35-02279a24e431",
   "metadata": {},
   "source": [
    "### single line if else"
   ]
  },
  {
   "cell_type": "code",
   "execution_count": 21,
   "id": "74fc4d1a-3901-4cf7-aa79-347a126f9b6c",
   "metadata": {},
   "outputs": [
    {
     "name": "stdin",
     "output_type": "stream",
     "text": [
      "enter  67\n"
     ]
    },
    {
     "name": "stdout",
     "output_type": "stream",
     "text": [
      "no\n"
     ]
    }
   ],
   "source": [
    "### ok for competitive program\n",
    "### productive not recommended\n",
    "\n",
    "val =float(input(\"enter \"))\n",
    "\n",
    "if val> 99:print(\"yes\")\n",
    "else:print('no')"
   ]
  },
  {
   "cell_type": "code",
   "execution_count": 20,
   "id": "6e180b9b-99a1-4853-886a-cbf6cb03a59f",
   "metadata": {},
   "outputs": [
    {
     "name": "stdin",
     "output_type": "stream",
     "text": [
      "enter  100\n"
     ]
    },
    {
     "name": "stdout",
     "output_type": "stream",
     "text": [
      "yes\n"
     ]
    }
   ],
   "source": [
    "val =float(input(\"enter \"))\n",
    "\n",
    "if val> 99:print(\"yes\")\n",
    "else:print('no')"
   ]
  },
  {
   "cell_type": "code",
   "execution_count": 2,
   "id": "37cfb900-6c69-4463-b55c-96cf21272c66",
   "metadata": {},
   "outputs": [
    {
     "name": "stdin",
     "output_type": "stream",
     "text": [
      "enter 100\n"
     ]
    },
    {
     "name": "stdout",
     "output_type": "stream",
     "text": [
      "yes\n"
     ]
    }
   ],
   "source": [
    "value=float(input(\"enter\"))\n",
    "print(\"yes\" if value > 99 else \"no\")"
   ]
  },
  {
   "cell_type": "code",
   "execution_count": 4,
   "id": "5a5bf7d1-20e1-4ec7-9d33-ef5267203e6b",
   "metadata": {},
   "outputs": [
    {
     "name": "stdin",
     "output_type": "stream",
     "text": [
      "enter a number 23\n"
     ]
    },
    {
     "name": "stdout",
     "output_type": "stream",
     "text": [
      "no\n"
     ]
    }
   ],
   "source": [
    "value = float(input(\"enter a number\"))\n",
    "\n",
    "print (\"yes \" if value > 99 else \"no\")"
   ]
  },
  {
   "cell_type": "markdown",
   "id": "33e4fc6a-91c2-4c5d-8bec-160867a198ee",
   "metadata": {},
   "source": [
    "### loops\n",
    "* while loops\n",
    "* for loop\n",
    "* nested loops\n",
    "* control loops\n",
    " \n",
    " -break\n",
    " \n",
    " -continue\n",
    " \n",
    " -pass\n"
   ]
  },
  {
   "cell_type": "code",
   "execution_count": 5,
   "id": "18bd203c-99a7-4c9d-aaa3-0d49f3233961",
   "metadata": {},
   "outputs": [
    {
     "name": "stdout",
     "output_type": "stream",
     "text": [
      "i will attempt next year\n",
      "your score is :100\n",
      "i will attempt next year\n",
      "your score is :300\n",
      "i will attempt next year\n",
      "your score is :250\n"
     ]
    }
   ],
   "source": [
    "total_marks=1000\n",
    "cut_off =400\n",
    "score =[100,300,250,400,500]\n",
    "\n",
    "# i will keep on attempting until suceess\n",
    "year=0\n",
    "while score[year]<cut_off:\n",
    "    print(f\"i will attempt next year\")\n",
    "    print(f\"your score is :{score[year]}\")\n",
    "    year =year+1"
   ]
  },
  {
   "cell_type": "code",
   "execution_count": 6,
   "id": "8a45f334-138a-4b5b-a410-39b1a39a1249",
   "metadata": {},
   "outputs": [
    {
     "data": {
      "text/plain": [
       "100"
      ]
     },
     "execution_count": 6,
     "metadata": {},
     "output_type": "execute_result"
    }
   ],
   "source": [
    "score[0\n",
    "     ]"
   ]
  },
  {
   "cell_type": "code",
   "execution_count": 7,
   "id": "341b38ff-d0bc-4b82-9857-455cc82fb069",
   "metadata": {},
   "outputs": [
    {
     "name": "stdout",
     "output_type": "stream",
     "text": [
      "i will attempt next year\n",
      "your score is :100,cut_off:400\n",
      "i will attempt next year\n",
      "your score is :300,cut_off:400\n",
      "i will attempt next year\n",
      "your score is :250,cut_off:400\n"
     ]
    }
   ],
   "source": [
    "total_marks=1000\n",
    "cut_off =400\n",
    "score =[100,300,250,400,500]\n",
    "\n",
    "# i will keep on attempting until suceess\n",
    "year=0\n",
    "while score[year]<cut_off:\n",
    "    print(f\"i will attempt next year\")\n",
    "    print(f\"your score is :{score[year]},cut_off:{cut_off}\")\n",
    "    year =year+1"
   ]
  },
  {
   "cell_type": "markdown",
   "id": "fb7f7d50-3764-4156-9e4d-512113170dda",
   "metadata": {},
   "source": [
    "### infintite loop\n",
    "\n",
    "if the cindition is always true then you keep on print"
   ]
  },
  {
   "cell_type": "code",
   "execution_count": 18,
   "id": "56743d7f-8512-402b-aa31-bc4588c32477",
   "metadata": {},
   "outputs": [
    {
     "name": "stdout",
     "output_type": "stream",
     "text": [
      "current sum:10\n",
      "current sum:20\n",
      "current sum:30\n",
      "current sum:40\n",
      "current sum:50\n"
     ]
    }
   ],
   "source": [
    "\"\"\"\n",
    "child is learning to counting 10rupes of note\n",
    "\"\"\"\n",
    "\n",
    "notes=5\n",
    "i =1\n",
    "\n",
    "while i<= notes:\n",
    "    print(f\"current sum:{i*10}\")\n",
    "    i=i+1"
   ]
  },
  {
   "cell_type": "code",
   "execution_count": 15,
   "id": "3dd591b3-46a8-4c9f-a94e-c39af984f54d",
   "metadata": {},
   "outputs": [
    {
     "name": "stdout",
     "output_type": "stream",
     "text": [
      "current sum:10\n",
      "current sum:20\n",
      "current sum:30\n",
      "current sum:40\n",
      "current sum:50\n",
      "current sum:60\n",
      "current sum:70\n",
      "current sum:80\n",
      "current sum:90\n",
      "current sum:100\n"
     ]
    }
   ],
   "source": [
    "notes=10\n",
    "i =1\n",
    "\n",
    "while i<= notes:\n",
    "    print(f\"current sum:{i*10}\")\n",
    "    i=i+1"
   ]
  },
  {
   "cell_type": "code",
   "execution_count": null,
   "id": "2dcfa1d2-333a-4438-b34d-bcf797137340",
   "metadata": {},
   "outputs": [],
   "source": [
    "number=8\n",
    "i =1\n",
    "while i<=number:\n",
    "  print(f\"number: {i*3}\n",
    "i=i+3"
   ]
  },
  {
   "cell_type": "code",
   "execution_count": 12,
   "id": "dcab9097-75ab-46c5-8be3-f6973abc0916",
   "metadata": {},
   "outputs": [
    {
     "name": "stdout",
     "output_type": "stream",
     "text": [
      "continue the journey\n",
      "current station is: station 01\n",
      "currentstation is:station 03\n",
      "next station is:station 02\n",
      "---\n",
      "continue the journey\n",
      "current station is: station 02\n",
      "currentstation is:station 03\n",
      "next station is:station 03\n",
      "---\n"
     ]
    }
   ],
   "source": [
    "stations=[\"station 01\",\"station 02\",\"station 03\"]\n",
    "\n",
    "current_station =0\n",
    "destinction_station =\"station 03\"\n",
    "\n",
    "while stations[current_station]!= destinction_station:\n",
    "    print('continue the journey')\n",
    "    print(f\"current station is: {stations[current_station]}\")\n",
    "    print(f\"currentstation is:{destinction_station}\")\n",
    "    current_station=current_station+1\n",
    "    print(f\"next station is:{stations[current_station]}\")\n",
    "    print('---')"
   ]
  },
  {
   "cell_type": "code",
   "execution_count": 7,
   "id": "b0a96dd6-7c23-4cc3-9f38-7be48096dff4",
   "metadata": {},
   "outputs": [
    {
     "name": "stdout",
     "output_type": "stream",
     "text": [
      "continue the journey\n",
      "current station is: station 01\n",
      "currentstation is:station 03\n",
      "next station is:station 02\n",
      "---\n",
      "continue the journey\n",
      "current station is: station 02\n",
      "currentstation is:station 03\n",
      "next station is:station 03\n",
      "---\n",
      "i have arrived at:station 03\n"
     ]
    }
   ],
   "source": [
    "stations=[\"station 01\",\"station 02\",\"station 03\",\"station 04\"]\n",
    "\n",
    "current_station =0\n",
    "destinction_station =\"station 03\"\n",
    "\n",
    "while stations[current_station]!= destinction_station:\n",
    "    print('continue the journey')\n",
    "    print(f\"current station is: {stations[current_station]}\")\n",
    "    print(f\"currentstation is:{destinction_station}\")\n",
    "    current_station=current_station+1\n",
    "    print(f\"next station is:{stations[current_station]}\")\n",
    "    print('---')\n",
    "else:\n",
    "    print(f\"i have arrived at:{stations[current_station]}\")"
   ]
  },
  {
   "cell_type": "code",
   "execution_count": 8,
   "id": "e7336322-a6f5-4747-9afa-387d9f574df9",
   "metadata": {},
   "outputs": [
    {
     "name": "stdout",
     "output_type": "stream",
     "text": [
      "condition:True\n",
      "current sum :10\n",
      "---- \n",
      "condition:True\n",
      "current sum :20\n",
      "---- \n",
      "condition:True\n",
      "current sum :30\n",
      "---- \n",
      "condition:True\n",
      "current sum :40\n",
      "---- \n",
      "condition:True\n",
      "current sum :50\n",
      "---- \n",
      "condition :False\n",
      "no more 10rupees notes left\n"
     ]
    }
   ],
   "source": [
    "note=5\n",
    "\n",
    "i=1\n",
    "while i<=note:\n",
    "    print(f\"condition:{i <=note}\")\n",
    "    print(f\"current sum :{i*10}\")\n",
    "    i=i+1\n",
    "    print(\"---- \")\n",
    "else:\n",
    "    print(f'condition :{i<=note}')\n",
    "    print (\"no more 10rupees notes left\")"
   ]
  },
  {
   "cell_type": "code",
   "execution_count": null,
   "id": "0a2282b6-95c1-41c3-8b85-912c0d30a13d",
   "metadata": {},
   "outputs": [],
   "source": []
  },
  {
   "cell_type": "markdown",
   "id": "e9ad98b6-83bd-473a-8bd0-4150dc1c1f9e",
   "metadata": {},
   "source": [
    "### for loop"
   ]
  },
  {
   "cell_type": "code",
   "execution_count": 9,
   "id": "edd365aa-6a65-4178-a295-5d7fda6451cd",
   "metadata": {},
   "outputs": [
    {
     "name": "stdout",
     "output_type": "stream",
     "text": [
      "0\n",
      "1\n",
      "2\n",
      "3\n",
      "4\n",
      "5\n",
      "6\n",
      "7\n",
      "8\n",
      "9\n"
     ]
    }
   ],
   "source": [
    "for i in range(0,10):\n",
    "    print(i)"
   ]
  },
  {
   "cell_type": "code",
   "execution_count": 13,
   "id": "424d602c-9e4e-4ca6-b6a0-9a887ae6a709",
   "metadata": {},
   "outputs": [
    {
     "name": "stdout",
     "output_type": "stream",
     "text": [
      "1\n",
      "2\n",
      "3\n",
      "4\n",
      "5\n",
      "6\n",
      "7\n",
      "8\n",
      "9\n",
      "10\n",
      "11\n",
      "12\n",
      "13\n",
      "14\n",
      "15\n",
      "16\n",
      "17\n",
      "18\n",
      "19\n"
     ]
    }
   ],
   "source": [
    " for u in range(1,20):\n",
    "        print(u)"
   ]
  },
  {
   "cell_type": "code",
   "execution_count": 4,
   "id": "57e97369-9072-4cdd-9e6a-17082cf05a50",
   "metadata": {},
   "outputs": [
    {
     "name": "stdout",
     "output_type": "stream",
     "text": [
      "10 X 0=0\n",
      "10 X 1=10\n",
      "10 X 2=20\n",
      "10 X 3=30\n",
      "10 X 4=40\n",
      "10 X 5=50\n",
      "10 X 6=60\n",
      "10 X 7=70\n",
      "10 X 8=80\n",
      "10 X 9=90\n"
     ]
    }
   ],
   "source": [
    "for i in range (0,10):\n",
    "    print(f\"10 X {i}={10*i}\")"
   ]
  },
  {
   "cell_type": "code",
   "execution_count": 5,
   "id": "3c581fbe-e293-4550-b7c5-dc50b35db1cb",
   "metadata": {},
   "outputs": [
    {
     "name": "stdout",
     "output_type": "stream",
     "text": [
      "10 X 1=10\n",
      "10 X 2=20\n",
      "10 X 3=30\n",
      "10 X 4=40\n",
      "10 X 5=50\n",
      "10 X 6=60\n",
      "10 X 7=70\n",
      "10 X 8=80\n",
      "10 X 9=90\n",
      "10 X 10=100\n"
     ]
    }
   ],
   "source": [
    "for i in range (0,10):\n",
    "    print(f\"10 X {i+1}={10*(i+1)}\")"
   ]
  },
  {
   "cell_type": "code",
   "execution_count": 6,
   "id": "1d1e1768-7739-44c1-b860-126cd5095142",
   "metadata": {},
   "outputs": [
    {
     "name": "stdout",
     "output_type": "stream",
     "text": [
      "10 X 1=10\n",
      "10 X 2=20\n",
      "10 X 3=30\n",
      "10 X 4=40\n",
      "10 X 5=50\n",
      "10 X 6=60\n",
      "10 X 7=70\n",
      "10 X 8=80\n",
      "10 X 9=90\n",
      "10 X 10=100\n"
     ]
    }
   ],
   "source": [
    "for i in range (1,11):\n",
    "    print(f\"10 X {i}={10*i}\")"
   ]
  },
  {
   "cell_type": "code",
   "execution_count": 9,
   "id": "180ce60d-d636-490c-a4c0-679c06973a1a",
   "metadata": {},
   "outputs": [
    {
     "name": "stdout",
     "output_type": "stream",
     "text": [
      "\n",
      "*\n",
      "**\n",
      "***\n",
      "****\n",
      "*****\n",
      "******\n",
      "*******\n",
      "********\n",
      "*********\n"
     ]
    }
   ],
   "source": [
    "for i in range (0,10):\n",
    "    print(\"*\"*i)"
   ]
  },
  {
   "cell_type": "code",
   "execution_count": 10,
   "id": "09a71c9c-37ab-4a1c-9669-c3b198af9623",
   "metadata": {},
   "outputs": [
    {
     "data": {
      "text/plain": [
       "'sunnysunnysunnysunnysunnysunnysunnysunnysunnysunnysunnysunnysunnysunnysunnysunnysunny'"
      ]
     },
     "execution_count": 10,
     "metadata": {},
     "output_type": "execute_result"
    }
   ],
   "source": [
    "\"sunny\"*17"
   ]
  },
  {
   "cell_type": "code",
   "execution_count": 21,
   "id": "ae6c58b2-32bb-4b6d-afd2-48013de05a8d",
   "metadata": {},
   "outputs": [
    {
     "name": "stdout",
     "output_type": "stream",
     "text": [
      "0=0+100\n",
      "after adding total_sum=100\n",
      " \n",
      "total amount to be piad :100\n",
      "100=100+200\n",
      "after adding total_sum=300\n",
      " \n",
      "total amount to be piad :300\n",
      "300=300+300\n",
      "after adding total_sum=600\n",
      " \n",
      "total amount to be piad :600\n",
      "600=600+17\n",
      "after adding total_sum=617\n",
      " \n",
      "total amount to be piad :617\n"
     ]
    }
   ],
   "source": [
    "list_item =[100,200,300,17]\n",
    "\n",
    "total_sum=0\n",
    "\n",
    "for i in range (0,4):\n",
    "    print(f\"{total_sum}={total_sum}+{list_item[i]}\")\n",
    "    total_sum=total_sum+list_item[i]\n",
    "    \n",
    "    print(f\"after adding total_sum={total_sum}\")\n",
    "    print(\" \")\n",
    "    print(f\"total amount to be piad :{total_sum}\")"
   ]
  },
  {
   "cell_type": "code",
   "execution_count": 1,
   "id": "3bb5b88a-89c2-48cb-a71b-91f15834b55a",
   "metadata": {},
   "outputs": [
    {
     "name": "stdout",
     "output_type": "stream",
     "text": [
      "0=0+100\n",
      "after adding total_sum=100 \n",
      "----\n",
      "total amount to be paid:100\n",
      "100=100+82\n",
      "after adding total_sum=182 \n",
      "----\n",
      "total amount to be paid:182\n",
      "182=182+676\n",
      "after adding total_sum=858 \n",
      "----\n",
      "total amount to be paid:858\n",
      "858=858+452\n",
      "after adding total_sum=1310 \n",
      "----\n",
      "total amount to be paid:1310\n",
      "1310=1310+272\n",
      "after adding total_sum=1582 \n",
      "----\n",
      "total amount to be paid:1582\n"
     ]
    }
   ],
   "source": [
    "list_of_items=[100,82,676,452,272]\n",
    "\n",
    "total_sum=0\n",
    "N=len(list_of_items)\n",
    "for i in range(N):\n",
    "    print(f\"{total_sum}={total_sum}+{list_of_items[i]}\")\n",
    "    total_sum=total_sum+list_of_items[i]\n",
    "    print(f\"after adding total_sum={total_sum} \")\n",
    "    print(\"----\")\n",
    "    print(f\"total amount to be paid:{total_sum}\")"
   ]
  },
  {
   "cell_type": "code",
   "execution_count": 38,
   "id": "20b3158d-b6ac-4654-b82f-409e0abee506",
   "metadata": {},
   "outputs": [
    {
     "name": "stdout",
     "output_type": "stream",
     "text": [
      "0 = 0 + 100\n",
      "after adding total_sum=100\n",
      "---\n",
      "100 = 100 + 200\n",
      "after adding total_sum=300\n",
      "---\n",
      "300 = 300 + 129\n",
      "after adding total_sum=429\n",
      "---\n",
      "429 = 429 + 456\n",
      "after adding total_sum=885\n",
      "---\n",
      "Total amount to be paid: 885\n"
     ]
    }
   ],
   "source": [
    "Cost_of_items = [100, 200, 129, 456]\n",
    "#                 0    1    2    3\n",
    "\n",
    "total_sum = 0\n",
    "\n",
    "for cost in Cost_of_items: # 0,1,2,3 \n",
    "  print(f\"{total_sum} = {total_sum} + {cost}\")\n",
    "  total_sum = total_sum + cost\n",
    "  print(f\"after adding total_sum={total_sum}\")\n",
    "  print(\"---\")\n",
    "print(f\"Total amount to be paid: {total_sum}\")"
   ]
  },
  {
   "cell_type": "code",
   "execution_count": 26,
   "id": "e3f514ea-101a-466d-be2d-98d71474c1e6",
   "metadata": {},
   "outputs": [
    {
     "data": {
      "text/plain": [
       "4"
      ]
     },
     "execution_count": 26,
     "metadata": {},
     "output_type": "execute_result"
    }
   ],
   "source": [
    "len(Cost_of_items)"
   ]
  },
  {
   "cell_type": "code",
   "execution_count": 27,
   "id": "17821a6d-6a8c-4bf5-8f65-0bf9aac1d9a0",
   "metadata": {},
   "outputs": [
    {
     "data": {
      "text/plain": [
       "4"
      ]
     },
     "execution_count": 27,
     "metadata": {},
     "output_type": "execute_result"
    }
   ],
   "source": [
    "len(list_item)"
   ]
  },
  {
   "cell_type": "code",
   "execution_count": 39,
   "id": "f11a81c2-c5a5-420b-af5e-d493d3580154",
   "metadata": {},
   "outputs": [
    {
     "name": "stdout",
     "output_type": "stream",
     "text": [
      "100\n",
      "748\n",
      "857\n",
      "87\n"
     ]
    }
   ],
   "source": [
    "Cost_of_items=[100,748,857,87]\n",
    "\n",
    "total_sum=0\n",
    "for cost in Cost_of_items:\n",
    "    print(cost)"
   ]
  },
  {
   "cell_type": "code",
   "execution_count": 3,
   "id": "286d074f-0a6d-45d4-9b12-adb6e110dfc5",
   "metadata": {},
   "outputs": [
    {
     "name": "stdout",
     "output_type": "stream",
     "text": [
      "8787\n",
      "879\n",
      "345\n",
      "97\n",
      "908\n"
     ]
    }
   ],
   "source": [
    "Cost_of_items=[8787,879,345,97,908]\n",
    "\n",
    "total_sum=0\n",
    "N=len(Cost_of_items)\n",
    "\n",
    "for i in range(0,N):\n",
    "    print(Cost_of_items[i])"
   ]
  },
  {
   "cell_type": "code",
   "execution_count": null,
   "id": "764df5e4-6fc0-44a4-84a2-f1e81078ea13",
   "metadata": {},
   "outputs": [],
   "source": []
  },
  {
   "cell_type": "code",
   "execution_count": null,
   "id": "9064f2cf-679d-422f-8c6a-09be5d9c3377",
   "metadata": {},
   "outputs": [],
   "source": []
  }
 ],
 "metadata": {
  "kernelspec": {
   "display_name": "Python 3 (ipykernel)",
   "language": "python",
   "name": "python3"
  },
  "language_info": {
   "codemirror_mode": {
    "name": "ipython",
    "version": 3
   },
   "file_extension": ".py",
   "mimetype": "text/x-python",
   "name": "python",
   "nbconvert_exporter": "python",
   "pygments_lexer": "ipython3",
   "version": "3.9.12"
  }
 },
 "nbformat": 4,
 "nbformat_minor": 5
}
